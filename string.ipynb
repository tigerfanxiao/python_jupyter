{
 "nbformat": 4,
 "nbformat_minor": 2,
 "metadata": {
  "language_info": {
   "name": "python",
   "codemirror_mode": {
    "name": "ipython",
    "version": 3
   },
   "version": "3.8.1-final"
  },
  "orig_nbformat": 2,
  "file_extension": ".py",
  "mimetype": "text/x-python",
  "name": "python",
  "npconvert_exporter": "python",
  "pygments_lexer": "ipython3",
  "version": 3,
  "kernelspec": {
   "name": "python38164bit5f4ee824bcd3480089b609bd81156949",
   "display_name": "Python 3.8.1 64-bit"
  }
 },
 "cells": [
  {
   "cell_type": "markdown",
   "metadata": {},
   "source": [
    "# String Method"
   ]
  },
  {
   "cell_type": "markdown",
   "metadata": {},
   "source": [
    "### capitalize()"
   ]
  },
  {
   "cell_type": "code",
   "execution_count": 5,
   "metadata": {},
   "outputs": [
    {
     "name": "stdout",
     "output_type": "stream",
     "text": "['Sisi', 'Bibi', 'Titi', 'Carla']\n"
    }
   ],
   "source": [
    "my_pets = ['sisi', 'bibi', 'titi', 'carla']\n",
    "print(list(map(str.capitalize, my_pets)))\n"
   ]
  },
  {
   "cell_type": "markdown",
   "metadata": {},
   "source": [
    "### replace  "
   ]
  },
  {
   "cell_type": "code",
   "execution_count": 1,
   "metadata": {},
   "outputs": [
    {
     "data": {
      "text/plain": "'tell me your age, I will tell you my age'"
     },
     "execution_count": 1,
     "metadata": {},
     "output_type": "execute_result"
    }
   ],
   "source": [
    "my_str = \"tell me your name, I will tell you my name\"\n",
    "my_str.replace('name', 'age')"
   ]
  },
  {
   "cell_type": "markdown",
   "metadata": {},
   "source": [
    "every time we do a list slice, we do create a copy of list\n",
    "shadow copy\n",
    "\n"
   ]
  },
  {
   "cell_type": "markdown",
   "metadata": {},
   "source": [
    "### deep copy"
   ]
  },
  {
   "cell_type": "code",
   "execution_count": 18,
   "metadata": {},
   "outputs": [
    {
     "name": "stdout",
     "output_type": "stream",
     "text": "[1, 2, 3]\n[100, 2, 3]\n[1, 2, 3]\n"
    }
   ],
   "source": [
    "origin_list = [1, 2, 3]\n",
    "shadow_copy_list = origin_list\n",
    "deep_copy_list = origin_list[:]\n",
    "print(origin_list)\n",
    "shadow_copy_list[0] = 100\n",
    "print(shadow_copy_list)\n",
    "print(deep_copy_list)"
   ]
  },
  {
   "cell_type": "code",
   "execution_count": 19,
   "metadata": {},
   "outputs": [
    {
     "name": "stdout",
     "output_type": "stream",
     "text": "0x262ef166c80\n0x262ef166c80\n0x262ef166300\n"
    }
   ],
   "source": [
    "# shadow copy have the same memory address of the original list\n",
    "print(hex(id(origin_list)))\n",
    "print(hex(id(shadow_copy_list)))\n",
    "# deep copy have different memory address of the original list\n",
    "print(hex(id(deep_copy_list)))"
   ]
  },
  {
   "cell_type": "markdown",
   "metadata": {},
   "source": [
    "### append"
   ]
  },
  {
   "cell_type": "code",
   "execution_count": 20,
   "metadata": {},
   "outputs": [
    {
     "name": "stdout",
     "output_type": "stream",
     "text": "[100, 2, 3, 5]\n"
    }
   ],
   "source": [
    "# add one element at the end of a list, return None if nothing wrong happended\n",
    "origin_list.append(5)\n",
    "print(origin_list)"
   ]
  },
  {
   "cell_type": "markdown",
   "metadata": {},
   "source": [
    "### insert"
   ]
  },
  {
   "cell_type": "code",
   "execution_count": 21,
   "metadata": {},
   "outputs": [
    {
     "name": "stdout",
     "output_type": "stream",
     "text": "[100, 'insert element', 2, 3, 5]\n"
    }
   ],
   "source": [
    "# insert also modify the list in place like append\n",
    "origin_list.insert(1, \"insert element\")\n",
    "print(origin_list)"
   ]
  },
  {
   "cell_type": "code",
   "execution_count": 23,
   "metadata": {},
   "outputs": [
    {
     "name": "stdout",
     "output_type": "stream",
     "text": "[100, 'insert element', 2, 3, 5, 'extend', 'list', 'extend', 'list']\n"
    }
   ],
   "source": [
    "### extend modify the list in place \n",
    "origin_list.extend(['extend', 'list'])\n",
    "print(origin_list)"
   ]
  },
  {
   "cell_type": "markdown",
   "metadata": {},
   "source": [
    "### removing by index with `pop()`"
   ]
  },
  {
   "cell_type": "code",
   "execution_count": 26,
   "metadata": {},
   "outputs": [
    {
     "name": "stdout",
     "output_type": "stream",
     "text": "['insert element', 2, 3, 5, 'extend']\n[2, 3, 5, 'extend']\n"
    }
   ],
   "source": [
    "# remove the last element by default, and return the value\n",
    "origin_list.pop()\n",
    "print(origin_list)\n",
    "# remove the first element by default\n",
    "origin_list.pop(0)\n",
    "print(origin_list)"
   ]
  },
  {
   "cell_type": "markdown",
   "metadata": {},
   "source": [
    "### remove by value with `remove()`"
   ]
  },
  {
   "cell_type": "code",
   "execution_count": 28,
   "metadata": {},
   "outputs": [
    {
     "name": "stdout",
     "output_type": "stream",
     "text": "[2, 3, 5]\n"
    }
   ],
   "source": [
    "# remove will modify the list in place, does not return value \n",
    "origin_list.remove('extend')\n",
    "print(origin_list)"
   ]
  },
  {
   "cell_type": "markdown",
   "metadata": {},
   "source": [
    "### remove the content of list"
   ]
  },
  {
   "cell_type": "code",
   "execution_count": 29,
   "metadata": {},
   "outputs": [
    {
     "name": "stdout",
     "output_type": "stream",
     "text": "[]\n"
    }
   ],
   "source": [
    "# remove the content of the list, but the list remains\n",
    "origin_list.clear()\n",
    "print(origin_list)"
   ]
  },
  {
   "cell_type": "markdown",
   "metadata": {},
   "source": [
    "### find the index of value in range with `index()`"
   ]
  },
  {
   "cell_type": "code",
   "execution_count": 30,
   "metadata": {},
   "outputs": [
    {
     "data": {
      "text/plain": "1"
     },
     "execution_count": 30,
     "metadata": {},
     "output_type": "execute_result"
    }
   ],
   "source": [
    "# find element of 2 in the index range of 1 to 2\n",
    "origin_list = [1, 2, 3]\n",
    "origin_list.index(2, 1, 2) # "
   ]
  },
  {
   "cell_type": "markdown",
   "metadata": {},
   "source": [
    "### check containing with `in`"
   ]
  },
  {
   "cell_type": "code",
   "execution_count": 31,
   "metadata": {},
   "outputs": [
    {
     "data": {
      "text/plain": "True"
     },
     "execution_count": 31,
     "metadata": {},
     "output_type": "execute_result"
    }
   ],
   "source": [
    "2 in origin_list"
   ]
  },
  {
   "cell_type": "markdown",
   "metadata": {},
   "source": [
    "### count the occurence of the value with `count()`\n",
    "It could be used to find the duplicate ele a list"
   ]
  },
  {
   "cell_type": "code",
   "execution_count": 6,
   "metadata": {},
   "outputs": [
    {
     "data": {
      "text/plain": "1"
     },
     "execution_count": 6,
     "metadata": {},
     "output_type": "execute_result"
    }
   ],
   "source": [
    "origin_list = [1, 2, 3]\n",
    "origin_list.count(2)"
   ]
  },
  {
   "cell_type": "markdown",
   "metadata": {},
   "source": [
    "### sort the list with `sort()` in place"
   ]
  },
  {
   "cell_type": "code",
   "execution_count": 34,
   "metadata": {},
   "outputs": [
    {
     "name": "stdout",
     "output_type": "stream",
     "text": "[1, 2, 3]\n"
    }
   ],
   "source": [
    "# sort the list in place\n",
    "origin_list.sort()\n",
    "print(origin_list)"
   ]
  },
  {
   "cell_type": "markdown",
   "metadata": {},
   "source": [
    "### sort the list by creating a new list"
   ]
  },
  {
   "cell_type": "code",
   "execution_count": 37,
   "metadata": {},
   "outputs": [
    {
     "name": "stdout",
     "output_type": "stream",
     "text": "[1, 2, 3]\n[3, 2, 1]\n"
    }
   ],
   "source": [
    "# the build-in function sorted() will create a new list\n",
    "origin_list = [3, 2, 1]\n",
    "print(sorted(origin_list))\n",
    "print(origin_list)"
   ]
  },
  {
   "cell_type": "code",
   "execution_count": 39,
   "metadata": {},
   "outputs": [
    {
     "name": "stdout",
     "output_type": "stream",
     "text": "[1, 2, 3]\n"
    }
   ],
   "source": [
    "# reverse also modify the list in place\n",
    "origin_list = [3, 2, 1]\n",
    "origin_list.reverse()\n",
    "print(origin_list)"
   ]
  },
  {
   "cell_type": "code",
   "execution_count": null,
   "metadata": {},
   "outputs": [],
   "source": [
    "# reverse a list by create a new list\n",
    "origin_list = [3, 2, 1]\n",
    "origin_list[::-1]"
   ]
  },
  {
   "cell_type": "markdown",
   "metadata": {},
   "source": [
    "### List unpacking\n"
   ]
  },
  {
   "cell_type": "code",
   "execution_count": 42,
   "metadata": {},
   "outputs": [
    {
     "name": "stdout",
     "output_type": "stream",
     "text": "1\n[4, 5]\n6\n"
    }
   ],
   "source": [
    "a, b, c = [1, 2, 3]\n",
    "a, b, c , *other, d = [1, 2, 3, 4, 5, 6]\n",
    "print(a)\n",
    "print(other)\n",
    "print(d)"
   ]
  },
  {
   "cell_type": "code",
   "execution_count": null,
   "metadata": {},
   "outputs": [],
   "source": []
  }
 ]
}