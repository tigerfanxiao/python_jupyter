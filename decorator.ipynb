{
 "nbformat": 4,
 "nbformat_minor": 2,
 "metadata": {
  "language_info": {
   "name": "python",
   "codemirror_mode": {
    "name": "ipython",
    "version": 3
   },
   "version": "3.8.1-final"
  },
  "orig_nbformat": 2,
  "file_extension": ".py",
  "mimetype": "text/x-python",
  "name": "python",
  "npconvert_exporter": "python",
  "pygments_lexer": "ipython3",
  "version": 3,
  "kernelspec": {
   "name": "python38164bit5f4ee824bcd3480089b609bd81156949",
   "display_name": "Python 3.8.1 64-bit"
  }
 },
 "cells": [
  {
   "cell_type": "markdown",
   "metadata": {},
   "source": [
    "# decorator"
   ]
  },
  {
   "cell_type": "markdown",
   "metadata": {},
   "source": [
    "# high order function\n",
    "function get a function name as an input, or return a function"
   ]
  },
  {
   "cell_type": "code",
   "execution_count": 7,
   "metadata": {},
   "outputs": [
    {
     "name": "stdout",
     "output_type": "stream",
     "text": "hello\n"
    }
   ],
   "source": [
    "def high_order_func1(func):\n",
    "    return func\n",
    "\n",
    "def hello():\n",
    "    print('hello')\n",
    "\n",
    "# high_order_func return a new function\n",
    "new_func = high_order_func1(hello)\n",
    "# invoke the new function\n",
    "new_func()\n"
   ]
  },
  {
   "cell_type": "markdown",
   "metadata": {},
   "source": [
    "# Decorator function without param"
   ]
  },
  {
   "cell_type": "code",
   "execution_count": 6,
   "metadata": {},
   "outputs": [
    {
     "name": "stdout",
     "output_type": "stream",
     "text": "something new\nhello\n"
    }
   ],
   "source": [
    "def my_decorator(func):\n",
    "    def wrap_func():\n",
    "        print('something new')\n",
    "        func()\n",
    "    return wrap_func\n",
    "\n",
    "@my_decorator\n",
    "def hello():\n",
    "    print('hello')\n",
    "\n",
    "hello()"
   ]
  },
  {
   "cell_type": "markdown",
   "metadata": {},
   "source": [
    "# Decorator function with param"
   ]
  },
  {
   "cell_type": "code",
   "execution_count": 9,
   "metadata": {},
   "outputs": [
    {
     "name": "stdout",
     "output_type": "stream",
     "text": "something new\nhello  fanxiao\n"
    }
   ],
   "source": [
    "# decorator function without return\n",
    "def my_decorator(func):\n",
    "    # If you cannot sure how many param the function has\n",
    "    def wrap_func(*args, **kwargs):\n",
    "        print('something new')\n",
    "        func(*args, **kwargs) # use param\n",
    "    return wrap_func\n",
    "\n",
    "@my_decorator\n",
    "def hello(word):\n",
    "    print('hello ', word)\n",
    "\n",
    "hello(\"fanxiao\")"
   ]
  },
  {
   "cell_type": "code",
   "execution_count": 12,
   "metadata": {},
   "outputs": [
    {
     "name": "stdout",
     "output_type": "stream",
     "text": "something new\nhello world fanxiao\n"
    }
   ],
   "source": [
    "# decorator function  return\n",
    "def my_decorator(func):\n",
    "    # If you cannot sure how many param the function has\n",
    "    def wrap_func(*args, **kwargs):\n",
    "        print('something new')\n",
    "        result = func(*args, **kwargs) # use param\n",
    "        return result\n",
    "    return wrap_func\n",
    "@my_decorator\n",
    "def hello(word):\n",
    "    return 'hello world ' + word\n",
    "\n",
    "print(hello(\"fanxiao\"))"
   ]
  },
  {
   "cell_type": "code",
   "execution_count": null,
   "metadata": {},
   "outputs": [],
   "source": []
  }
 ]
}