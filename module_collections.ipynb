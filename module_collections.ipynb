{
 "nbformat": 4,
 "nbformat_minor": 2,
 "metadata": {
  "language_info": {
   "name": "python",
   "codemirror_mode": {
    "name": "ipython",
    "version": 3
   },
   "version": "3.8.1-final"
  },
  "orig_nbformat": 2,
  "file_extension": ".py",
  "mimetype": "text/x-python",
  "name": "python",
  "npconvert_exporter": "python",
  "pygments_lexer": "ipython3",
  "version": 3,
  "kernelspec": {
   "name": "python38164bit5f4ee824bcd3480089b609bd81156949",
   "display_name": "Python 3.8.1 64-bit"
  }
 },
 "cells": [
  {
   "cell_type": "markdown",
   "metadata": {},
   "source": [
    "# Counter\n",
    "Counter() method create a dictionary to count the ele in a list"
   ]
  },
  {
   "cell_type": "code",
   "execution_count": 3,
   "metadata": {},
   "outputs": [
    {
     "name": "stdout",
     "output_type": "stream",
     "text": "Counter({6: 2, 1: 1, 2: 1, 3: 1, 4: 1, 5: 1})\nCounter({'a': 2, 'f': 1, 'n': 1, 'x': 1, 'i': 1, 'o': 1})\nCounter({'fanxiao': 2, 'xiaofan': 1, 'xiao': 1})\n"
    }
   ],
   "source": [
    "from collections import Counter\n",
    "my_list = [1,2,3,4,5,6,6]\n",
    "print(Counter(my_list))\n",
    "my_str = 'fanxiao'\n",
    "print(Counter(my_str))\n",
    "my_names = ['fanxiao', 'fanxiao', 'xiaofan', 'xiao']\n",
    "print(Counter(my_names))"
   ]
  },
  {
   "cell_type": "markdown",
   "metadata": {},
   "source": [
    "# defaultdict\n",
    "defaultdict allows us to assign a value when the key does not exist in the dictionary\n"
   ]
  },
  {
   "cell_type": "code",
   "execution_count": 7,
   "metadata": {},
   "outputs": [
    {
     "data": {
      "text/plain": "5"
     },
     "execution_count": 7,
     "metadata": {},
     "output_type": "execute_result"
    }
   ],
   "source": [
    "from collections import defaultdict\n",
    "# the first param in the defaultdict shoule be someting callable, like a lambda expression\n",
    "my_dict = defaultdict(lambda: 5, {'a':1, 'b':2})\n",
    "my_dict['c']"
   ]
  },
  {
   "cell_type": "markdown",
   "metadata": {},
   "source": [
    "# OrderedDict\n",
    "OrderedDict keep the order when you insert the value in dictionary"
   ]
  },
  {
   "cell_type": "code",
   "execution_count": 8,
   "metadata": {},
   "outputs": [
    {
     "name": "stdout",
     "output_type": "stream",
     "text": "True\n"
    }
   ],
   "source": [
    "# normal dictionary\n",
    "normal_dict = {'a': 1}\n",
    "normal_dict['b'] = 2\n",
    "normal_dict['c'] = 3\n",
    "\n",
    "normal_dict2 = {'b': 2}\n",
    "normal_dict2['a'] = 1\n",
    "normal_dict2['c'] = 3\n",
    "\n",
    "# == compare the key value in the dictionary\n",
    "print(normal_dict == normal_dict2)"
   ]
  },
  {
   "cell_type": "code",
   "execution_count": 11,
   "metadata": {},
   "outputs": [
    {
     "name": "stdout",
     "output_type": "stream",
     "text": "False\n"
    }
   ],
   "source": [
    "# if we define an ordered dictionary\n",
    "from collections import OrderedDict\n",
    "order_dict = OrderedDict()\n",
    "order_dict['a'] = 1\n",
    "order_dict['b'] = 2\n",
    "order_dict['c'] = 3\n",
    "\n",
    "order_dict2 = OrderedDict()\n",
    "order_dict2['b'] = 2\n",
    "order_dict2['c'] = 3\n",
    "order_dict2['a'] = 1\n",
    "\n",
    "print(order_dict == order_dict2)"
   ]
  },
  {
   "cell_type": "markdown",
   "execution_count": null,
   "metadata": {},
   "outputs": [],
   "source": [
    "# namedtuple\n",
    "is used to quickly define a class with only attributes but no method"
   ]
  },
  {
   "cell_type": "code",
   "execution_count": null,
   "metadata": {},
   "outputs": [],
   "source": [
    "import collections\n",
    "# create a class Card with attribute rank and suit\n",
    "Card = collections.namedtuple('Card', ['rank', 'suit'])"
   ]
  },
  {
   "cell_type": "code",
   "execution_count": null,
   "metadata": {},
   "outputs": [],
   "source": [
    "# initiate an instance of Card\n",
    "card1= Card('J', 'spades')\n",
    "print(card1)\n",
    "# refer the attribute of the instance\n",
    "print(card1.suit)"
   ]
  },
  {
   "cell_type": "markdown",
   "execution_count": null,
   "metadata": {},
   "outputs": [],
   "source": [
    "### Create a Class for Deck of Cards"
   ]
  },
  {
   "cell_type": "code",
   "execution_count": null,
   "metadata": {},
   "outputs": [],
   "source": [
    "class FrenchDeck:\n",
    "    # As rank and suit is static \n",
    "    ranks = [str(n) for n in range(2, 11)] + list('JQKA')\n",
    "    suits = 'spades diamonds clubs hearts'.split()\n",
    "\n",
    "    def __init__(self):\n",
    "        self._cards = [Card(rank, suit) for rank in self.ranks\n",
    "                                        for suit in self.suits]\n",
    "\n",
    "    def __len__(self):\n",
    "        return len(self._cards)\n",
    "\n",
    "    def __getitem__(self, position):\n",
    "        return self._cards[position]\n",
    "                        "
   ]
  },
  {
   "cell_type": "code",
   "execution_count": null,
   "metadata": {},
   "outputs": [],
   "source": [
    "# Initaite the deck\n",
    "deck = FrenchDeck()"
   ]
  },
  {
   "cell_type": "markdown",
   "execution_count": null,
   "metadata": {},
   "outputs": [],
   "source": [
    "## With `__getitem__` we can slice the Deck"
   ]
  },
  {
   "cell_type": "code",
   "execution_count": null,
   "metadata": {},
   "outputs": [],
   "source": [
    "# get the first three cards\n",
    "deck[:3]"
   ]
  },
  {
   "cell_type": "markdown",
   "execution_count": null,
   "metadata": {},
   "outputs": [],
   "source": [
    "## With `__getitem__` we can reverce or random the deck\n",
    "**the return of reverse method is a generator not a list**"
   ]
  },
  {
   "cell_type": "code",
   "execution_count": null,
   "metadata": {},
   "outputs": [],
   "source": [
    "# the return of reversed method is a generator not a list\n",
    "for card in reversed(deck):\n",
    "    print(card)"
   ]
  },
  {
   "cell_type": "code",
   "execution_count": 22,
   "metadata": {},
   "outputs": [
    {
     "data": {
      "text/plain": "Card(rank='5', suit='spades')"
     },
     "execution_count": 22,
     "metadata": {},
     "output_type": "execute_result"
    }
   ],
   "source": [
    "# randomly choice a card from deck\n",
    "from random import choice\n",
    "choice(deck)\n"
   ]
  },
  {
   "cell_type": "code",
   "execution_count": null,
   "metadata": {},
   "outputs": [],
   "source": []
  }
 ]
}