{
 "nbformat": 4,
 "nbformat_minor": 2,
 "metadata": {
  "language_info": {
   "name": "python",
   "codemirror_mode": {
    "name": "ipython",
    "version": 3
   },
   "version": "3.8.1-final"
  },
  "orig_nbformat": 2,
  "file_extension": ".py",
  "mimetype": "text/x-python",
  "name": "python",
  "npconvert_exporter": "python",
  "pygments_lexer": "ipython3",
  "version": 3,
  "kernelspec": {
   "name": "python38164bit5f4ee824bcd3480089b609bd81156949",
   "display_name": "Python 3.8.1 64-bit"
  }
 },
 "cells": [
  {
   "cell_type": "code",
   "execution_count": 15,
   "metadata": {},
   "outputs": [
    {
     "name": "stdout",
     "output_type": "stream",
     "text": "hello\nHelp on function funct in module __main__:\n\nfunct()\n    info: this a func\n\n\n    info: this a func\n    \n"
    }
   ],
   "source": [
    "def funct():\n",
    "    '''\n",
    "    info: this a func\n",
    "    '''\n",
    "    print('hello')\n",
    "\n",
    "# lint will show the docstring\n",
    "funct()\n",
    "# help will show the docstring\n",
    "help(funct)\n",
    "# .__doc__ will show the docstring\n",
    "print(funct.__doc__)"
   ]
  },
  {
   "cell_type": "markdown",
   "metadata": {},
   "source": [
    "# Rule of Parameter\n",
    "func"
   ]
  },
  {
   "cell_type": "code",
   "execution_count": null,
   "metadata": {},
   "outputs": [],
   "source": []
  },
  {
   "cell_type": "code",
   "execution_count": 13,
   "metadata": {},
   "outputs": [
    {
     "ename": "SyntaxError",
     "evalue": "positional argument follows keyword argument (<ipython-input-13-0c16a6ccab43>, line 7)",
     "output_type": "error",
     "traceback": [
      "\u001b[1;36m  File \u001b[1;32m\"<ipython-input-13-0c16a6ccab43>\"\u001b[1;36m, line \u001b[1;32m7\u001b[0m\n\u001b[1;33m    my_func(name=10, age=12, 1,2,3,4,5,)\u001b[0m\n\u001b[1;37m                             ^\u001b[0m\n\u001b[1;31mSyntaxError\u001b[0m\u001b[1;31m:\u001b[0m positional argument follows keyword argument\n"
     ]
    }
   ],
   "source": [
    "def my_func(a, b, *args, **kargs):\n",
    "    print(a)\n",
    "    print(b)\n",
    "    print(args)\n",
    "    print(kargs)\n",
    "\n",
    "# key-value should be placed in the end \n",
    "my_func(1,2,3,4,5,name=10, age=12)"
   ]
  },
  {
   "cell_type": "markdown",
   "metadata": {},
   "source": [
    "# *args\n",
    "when you don't know how many para will be used in a function"
   ]
  },
  {
   "cell_type": "code",
   "execution_count": 3,
   "metadata": {},
   "outputs": [
    {
     "name": "stdout",
     "output_type": "stream",
     "text": "3\n"
    }
   ],
   "source": [
    "def my_func(*args):\n",
    "    # arg is a tuple\n",
    "    print(args[2])\n",
    "\n",
    "my_func(1,2,3)"
   ]
  },
  {
   "cell_type": "markdown",
   "metadata": {},
   "source": [
    "# **kwargs\n",
    "when you don't know the number of keywords be inputted in a function"
   ]
  },
  {
   "cell_type": "code",
   "execution_count": 10,
   "metadata": {},
   "outputs": [
    {
     "name": "stdout",
     "output_type": "stream",
     "text": "xiao\n"
    }
   ],
   "source": [
    "def my_func(**kwargs):\n",
    "    print(kwargs['name'])\n",
    "\n",
    "my_func(a=1, name='xiao')"
   ]
  },
  {
   "cell_type": "markdown",
   "metadata": {},
   "source": [
    "# Scope Rules\n",
    "1. Start with lcoal\n",
    "2. If nothing in local, refer to parent local scope\n",
    "3. global scope\n",
    "4. build in python functions\n",
    "5. modify the upper scope variable with nolocal keyword\n",
    "6. modify the global scope variable with global keyword"
   ]
  },
  {
   "cell_type": "markdown",
   "metadata": {},
   "source": [
    "# Scope\n",
    "There are two scope in a python running environment.\n",
    "* global scope\n",
    "* function scope"
   ]
  },
  {
   "cell_type": "markdown",
   "metadata": {},
   "source": [
    "# Global scope\n",
    "if a variable is defined out of the function is call global scope"
   ]
  },
  {
   "cell_type": "code",
   "execution_count": 3,
   "metadata": {},
   "outputs": [
    {
     "name": "stdout",
     "output_type": "stream",
     "text": "100\n100\n"
    }
   ],
   "source": [
    "# inside function we can refer to the global scope\n",
    "# but cannot modify the variable in global scope\n",
    "my_global_variable = 100\n",
    "\n",
    "def my_func():\n",
    "    # refer to the variable to global scope\n",
    "    print(my_global_variable)\n",
    "\n",
    "my_func()\n",
    "# variable in global scope won't be modified\n",
    "print(my_global_variable)"
   ]
  },
  {
   "cell_type": "markdown",
   "metadata": {},
   "source": [
    "# Local scope\n",
    "when we define a variable inside of a function, we created variable in the local scope"
   ]
  },
  {
   "cell_type": "code",
   "execution_count": 4,
   "metadata": {},
   "outputs": [
    {
     "name": "stdout",
     "output_type": "stream",
     "text": "101\n100\n"
    }
   ],
   "source": [
    "# inside of function we cannot modified the variable in global scope\n",
    "my_global_variable = 100\n",
    "\n",
    "def my_func():\n",
    "    my_global_variable = 101\n",
    "    # refer to local scope at first, access to 101\n",
    "    print(my_global_variable)\n",
    "\n",
    "my_func()\n",
    "# variable in global scope won't be modified\n",
    "print(my_global_variable)"
   ]
  },
  {
   "cell_type": "code",
   "execution_count": 5,
   "metadata": {},
   "outputs": [
    {
     "name": "stdout",
     "output_type": "stream",
     "text": "10\n1\n"
    }
   ],
   "source": [
    "# Go the parent local scope\n",
    "a = 1\n",
    "def parent():\n",
    "    a = 10\n",
    "    def son():\n",
    "        # refer to the parent local scope, where a = 10\n",
    "        return a\n",
    "    return son()\n",
    "\n",
    "print(parent())\n",
    "print(a)"
   ]
  },
  {
   "cell_type": "markdown",
   "metadata": {},
   "source": [
    "# build-in python function scope"
   ]
  },
  {
   "cell_type": "code",
   "execution_count": 6,
   "metadata": {},
   "outputs": [
    {
     "name": "stdout",
     "output_type": "stream",
     "text": "3\n"
    }
   ],
   "source": [
    "# sum is a python build-in function\n",
    "def func():\n",
    "    # refer to the python build-in function scope\n",
    "    return sum([1,2])\n",
    "\n",
    "print(func())"
   ]
  },
  {
   "cell_type": "markdown",
   "metadata": {},
   "source": [
    "# global keyword"
   ]
  },
  {
   "cell_type": "code",
   "execution_count": 8,
   "metadata": {},
   "outputs": [
    {
     "name": "stdout",
     "output_type": "stream",
     "text": "10\n100\n"
    }
   ],
   "source": [
    "x = 1\n",
    "def parent():\n",
    "    x = 10\n",
    "    def son():\n",
    "        # we modify the x in global not in parent scope\n",
    "        global x\n",
    "        x = 100\n",
    "    son()\n",
    "    return x\n",
    "\n",
    "print(parent())\n",
    "print(x)"
   ]
  },
  {
   "cell_type": "markdown",
   "metadata": {},
   "source": [
    "# nonlocal keyword"
   ]
  },
  {
   "cell_type": "code",
   "execution_count": 9,
   "metadata": {},
   "outputs": [
    {
     "name": "stdout",
     "output_type": "stream",
     "text": "100\n1\n"
    }
   ],
   "source": [
    "x = 1\n",
    "def parent():\n",
    "    x = 10\n",
    "    def son():\n",
    "        # we modify the x in parent scope\n",
    "        nonlocal x\n",
    "        x = 100\n",
    "    son()\n",
    "    return x\n",
    "\n",
    "print(parent())\n",
    "# x in global scope remain as the same\n",
    "print(x)"
   ]
  },
  {
   "cell_type": "code",
   "execution_count": null,
   "metadata": {},
   "outputs": [],
   "source": []
  }
 ]
}