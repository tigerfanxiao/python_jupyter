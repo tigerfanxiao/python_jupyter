{
 "nbformat": 4,
 "nbformat_minor": 2,
 "metadata": {
  "language_info": {
   "name": "python",
   "codemirror_mode": {
    "name": "ipython",
    "version": 3
   },
   "version": "3.8.1-final"
  },
  "orig_nbformat": 2,
  "file_extension": ".py",
  "mimetype": "text/x-python",
  "name": "python",
  "npconvert_exporter": "python",
  "pygments_lexer": "ipython3",
  "version": 3,
  "kernelspec": {
   "name": "python38164bit5f4ee824bcd3480089b609bd81156949",
   "display_name": "Python 3.8.1 64-bit"
  }
 },
 "cells": [
  {
   "cell_type": "markdown",
   "metadata": {},
   "source": [
    "# Dictionary\n",
    "Dictionary also has order from python 3.7 version. The order follow the order of sequence you input the key values."
   ]
  },
  {
   "cell_type": "code",
   "execution_count": 2,
   "metadata": {},
   "outputs": [
    {
     "name": "stdout",
     "output_type": "stream",
     "text": "{'a': 3, 'b': 3, 'c': 3}\n"
    }
   ],
   "source": [
    "my_dict = {key: value for key in 'abc'\n",
    "                      for value in [1,2,3]}\n",
    "print(my_dict)"
   ]
  },
  {
   "cell_type": "markdown",
   "metadata": {},
   "source": [
    "# get method\n",
    "get the value from key"
   ]
  },
  {
   "cell_type": "code",
   "execution_count": 2,
   "metadata": {},
   "outputs": [
    {
     "data": {
      "text/plain": "1"
     },
     "execution_count": 2,
     "metadata": {},
     "output_type": "execute_result"
    }
   ],
   "source": [
    "my_dict = {\n",
    "    'a':1, \n",
    "    'b':2\n",
    "}\n",
    "\n",
    "my_dict.get('a')"
   ]
  },
  {
   "cell_type": "markdown",
   "metadata": {},
   "source": [
    "# change and modify the value by key"
   ]
  },
  {
   "cell_type": "code",
   "execution_count": 3,
   "metadata": {},
   "outputs": [
    {
     "data": {
      "text/plain": "{'a': 1, 'b': 5, 'c': 10}"
     },
     "execution_count": 3,
     "metadata": {},
     "output_type": "execute_result"
    }
   ],
   "source": [
    "my_dict = {\n",
    "    'a':1, \n",
    "    'b':2\n",
    "}\n",
    "\n",
    "my_dict['b'] = 5\n",
    "my_dict['c'] = 10\n",
    "my_dict"
   ]
  },
  {
   "cell_type": "markdown",
   "metadata": {},
   "source": [
    "# loop dictionary"
   ]
  },
  {
   "cell_type": "code",
   "execution_count": 6,
   "metadata": {},
   "outputs": [
    {
     "name": "stdout",
     "output_type": "stream",
     "text": "a\nb\n1\n2\n"
    }
   ],
   "source": [
    "my_dict = {\n",
    "    'a':1, \n",
    "    'b':2\n",
    "}\n",
    "\n",
    "# loop all the key in dictionary\n",
    "for key in my_dict.keys():\n",
    "    print(key)\n",
    "\n",
    "for value in my_dict.values():\n",
    "    print(value)"
   ]
  },
  {
   "cell_type": "markdown",
   "metadata": {},
   "source": [
    "# items()"
   ]
  },
  {
   "cell_type": "code",
   "execution_count": 3,
   "metadata": {},
   "outputs": [
    {
     "name": "stdout",
     "output_type": "stream",
     "text": "dict_items([('basket', [1, 2, 3]), ('greet', 'hello'), ('age', 20)])\n"
    }
   ],
   "source": [
    "user = {\n",
    "    'basket': [1, 2, 3],\n",
    "    'greet': 'hello',\n",
    "    'age': 20\n",
    "}\n",
    "print(user.items())"
   ]
  },
  {
   "cell_type": "markdown",
   "metadata": {},
   "source": [
    "## Update dictionary\n",
    "update a dictionary by another dictionary"
   ]
  },
  {
   "cell_type": "code",
   "execution_count": 9,
   "metadata": {},
   "outputs": [
    {
     "name": "stdout",
     "output_type": "stream",
     "text": "{'basket': [1, 2, 3], 'greet': 'Hello', 'age': 50}\n"
    }
   ],
   "source": [
    "# update the key, or add the key if the key does not exist\n",
    "user.update({'age': 50, 'greet': 'Hello'})\n",
    "print(user)"
   ]
  },
  {
   "cell_type": "markdown",
   "metadata": {},
   "source": []
  },
  {
   "cell_type": "markdown",
   "metadata": {},
   "source": [
    "# remove key-value\n",
    "remove key-value pair by pop method"
   ]
  },
  {
   "cell_type": "code",
   "execution_count": 4,
   "metadata": {},
   "outputs": [
    {
     "name": "stdout",
     "output_type": "stream",
     "text": "{'basket': [1, 2, 3], 'greet': 'hello'}\n"
    }
   ],
   "source": [
    "# pop() remove the key from dict\n",
    "user.pop('age')\n",
    "print(user)"
   ]
  },
  {
   "cell_type": "code",
   "execution_count": 2,
   "metadata": {},
   "outputs": [
    {
     "name": "stdout",
     "output_type": "stream",
     "text": "{}\n"
    }
   ],
   "source": [
    "user.clear()\n",
    "print(user)"
   ]
  },
  {
   "cell_type": "code",
   "execution_count": null,
   "metadata": {},
   "outputs": [],
   "source": []
  }
 ]
}