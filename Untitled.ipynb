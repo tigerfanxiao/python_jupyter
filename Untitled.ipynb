{
 "cells": [
  {
   "cell_type": "code",
   "execution_count": null,
   "metadata": {},
   "outputs": [],
   "source": [
    "def caesarCipherEncryptor(string, key):\n",
    "    # Write your code here.\n",
    "    alpha = 'abcdefghijklmnopqrstuvwxyz'\n",
    "    result = [(alpha.index(letter) + 2) // 26 for letter in string]\n"
   ]
  },
  {
   "cell_type": "code",
   "execution_count": null,
   "metadata": {},
   "outputs": [],
   "source": [
    "print"
   ]
  }
 ],
 "metadata": {
  "kernelspec": {
   "display_name": "Python 3",
   "language": "python",
   "name": "python3"
  }
 },
 "nbformat": 4,
 "nbformat_minor": 2
}
