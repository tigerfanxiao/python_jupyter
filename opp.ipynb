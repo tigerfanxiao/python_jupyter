{
 "nbformat": 4,
 "nbformat_minor": 2,
 "metadata": {
  "language_info": {
   "name": "python",
   "codemirror_mode": {
    "name": "ipython",
    "version": 3
   },
   "version": "3.8.1-final"
  },
  "orig_nbformat": 2,
  "file_extension": ".py",
  "mimetype": "text/x-python",
  "name": "python",
  "npconvert_exporter": "python",
  "pygments_lexer": "ipython3",
  "version": 3,
  "kernelspec": {
   "name": "python38164bit5f4ee824bcd3480089b609bd81156949",
   "display_name": "Python 3.8.1 64-bit"
  }
 },
 "cells": [
  {
   "cell_type": "markdown",
   "metadata": {},
   "source": [
    "# inheritance"
   ]
  },
  {
   "cell_type": "code",
   "execution_count": 1,
   "metadata": {},
   "outputs": [
    {
     "data": {
      "text/plain": "True"
     },
     "execution_count": 1,
     "metadata": {},
     "output_type": "execute_result"
    }
   ],
   "source": [
    "# check inheritance\n",
    "issubclass(list, object)"
   ]
  },
  {
   "cell_type": "code",
   "execution_count": 4,
   "metadata": {},
   "outputs": [
    {
     "name": "stdout",
     "output_type": "stream",
     "text": "1000\nTrue\n"
    }
   ],
   "source": [
    "# Inheritance\n",
    "class SuperList(list):\n",
    "    def __len__(self):\n",
    "        return 1000\n",
    "\n",
    "my_list = SuperList()\n",
    "print(len(my_list))\n",
    "print(issubclass(SuperList, list))"
   ]
  },
  {
   "cell_type": "code",
   "execution_count": 14,
   "metadata": {},
   "outputs": [
    {
     "name": "stdout",
     "output_type": "stream",
     "text": "Electricity Charging...\nElectricity Charging...\n"
    }
   ],
   "source": [
    "# Multiple Inheritance\n",
    "class GasCar():\n",
    "    def charge_gas(self):\n",
    "        print('Gas Charging...')\n",
    "\n",
    "class ElectricCar():\n",
    "    def charge_eletricity(self):\n",
    "        print('Electricity Charging...')\n",
    "\n",
    "class HybirdCar(GasCar, ElectricCar):\n",
    "    def charge(self, charge_method):\n",
    "        self.charge_gas() if charge_method == 1 else self.charge_eletricity()\n",
    "\n",
    "my_car = HybirdCar()\n",
    "# the subclass of two class cannot provoke its own method\n",
    "# when initiate the subclass, it will initiate with the first left superclass\n",
    "# if you want to initiate with both two superclass, you should configure the __init__ in subclass\n",
    "my_car.charge_eletricity()\n",
    "# you can choose which method you want to use\n",
    "my_car.charge(2)"
   ]
  },
  {
   "cell_type": "code",
   "execution_count": 18,
   "metadata": {},
   "outputs": [
    {
     "name": "stdout",
     "output_type": "stream",
     "text": "1\n[<class '__main__.D'>, <class '__main__.B'>, <class '__main__.C'>, <class '__main__.A'>, <class 'object'>]\n"
    }
   ],
   "source": [
    "# MRO method Resolution Order\n",
    "# D --> B --> C --> A\n",
    "#     A\n",
    "#   /   \\\n",
    "#  B     C\n",
    "#   \\   /\n",
    "#     D\n",
    "class A:\n",
    "    num = 10\n",
    "\n",
    "class B(A):\n",
    "    pass\n",
    "\n",
    "class C(A):\n",
    "    num = 1\n",
    "\n",
    "class D(B, C):\n",
    "    pass\n",
    "\n",
    "my_d = D()\n",
    "print(my_d.num)\n",
    "# print mro order\n",
    "print(D.mro())\n",
    "\n",
    "\n"
   ]
  },
  {
   "cell_type": "code",
   "execution_count": 19,
   "metadata": {},
   "outputs": [
    {
     "name": "stdout",
     "output_type": "stream",
     "text": "[<class '__main__.M'>, <class '__main__.B'>, <class '__main__.A'>, <class '__main__.X'>, <class '__main__.Y'>, <class '__main__.Z'>, <class 'object'>]\n"
    }
   ],
   "source": [
    "# Depth for Search\n",
    "# The following code is just for explaination not for practice\n",
    "class X: pass\n",
    "class Y: pass\n",
    "class Z: pass\n",
    "class A(X, Y): pass\n",
    "class B(Y, Z): pass\n",
    "class M(B, A, Z): pass\n",
    "print(M.mro())"
   ]
  },
  {
   "cell_type": "markdown",
   "metadata": {},
   "source": [
    "# Classmethod vs Staticmethod"
   ]
  },
  {
   "cell_type": "markdown",
   "metadata": {},
   "source": [
    "classmethod can access to static metod in class, or even instantiate a object inside the method with cls parameter. However staticmethod is only on itself, without accessing to any instance data and class data"
   ]
  },
  {
   "cell_type": "code",
   "execution_count": 24,
   "metadata": {},
   "outputs": [
    {
     "name": "stdout",
     "output_type": "stream",
     "text": "-- invoke instance method with instance\nhello\n-- invoke static method with class name\nTrue\n-- invoke classmethod with class name\nhello\nTrue\n"
    }
   ],
   "source": [
    "# classmethod take cls as param\n",
    "class User:\n",
    "    def __init__(self, name='fanxiao', age=18):\n",
    "        self._name = name\n",
    "        self._age = age\n",
    "\n",
    "    def hello(self):\n",
    "        print('hello')\n",
    "\n",
    "    @staticmethod\n",
    "    def check_adult(age): # no self is used as param\n",
    "        return age >= 18\n",
    "\n",
    "    @classmethod\n",
    "    def hello_to_adult(cls, age):\n",
    "        cls().hello()\n",
    "        return User.check_adult(age)\n",
    "\n",
    "\n",
    "print('-- invoke instance method with instance')    \n",
    "user01 = User('fan', 19)\n",
    "\n",
    "user01.hello()\n",
    "print('-- invoke static method with class name')\n",
    "print(User.check_adult(19))\n",
    "\n",
    "print('-- invoke classmethod with class name')\n",
    "print(User.hello_to_adult(20))\n"
   ]
  },
  {
   "cell_type": "code",
   "execution_count": null,
   "metadata": {},
   "outputs": [],
   "source": []
  }
 ]
}