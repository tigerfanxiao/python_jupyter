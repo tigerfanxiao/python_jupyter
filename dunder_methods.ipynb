{
 "nbformat": 4,
 "nbformat_minor": 2,
 "metadata": {
  "language_info": {
   "name": "python",
   "codemirror_mode": {
    "name": "ipython",
    "version": 3
   },
   "version": "3.8.1-final"
  },
  "orig_nbformat": 2,
  "file_extension": ".py",
  "mimetype": "text/x-python",
  "name": "python",
  "npconvert_exporter": "python",
  "pygments_lexer": "ipython3",
  "version": 3,
  "kernelspec": {
   "name": "python38164bit5f4ee824bcd3480089b609bd81156949",
   "display_name": "Python 3.8.1 64-bit"
  }
 },
 "cells": [
  {
   "cell_type": "code",
   "execution_count": null,
   "metadata": {},
   "outputs": [],
   "source": [
    "bool(-1)"
   ]
  },
  {
   "cell_type": "code",
   "execution_count": null,
   "metadata": {},
   "outputs": [],
   "source": [
    "class Vector:\n",
    "    def __init__(self, x, y):\n",
    "        self.x, self.y = x, y\n",
    "    # Do whe del() function is called\n",
    "    def __del__(self):\n",
    "        print(f'{self} is deleted') \n",
    "    # after define __repr__, when you print the object, it does not show the memory address\n",
    "    def __repr__(self):\n",
    "        return f'Vector({self.x}, {self.y})'\n",
    "    # only work for print() and str()\n",
    "    def __str__(self):\n",
    "        return f'vector_str({self.x}, {self.y})'"
   ]
  },
  {
   "cell_type": "markdown",
   "execution_count": null,
   "metadata": {},
   "outputs": [],
   "source": [
    "## Initiate Instances"
   ]
  },
  {
   "cell_type": "code",
   "execution_count": null,
   "metadata": {},
   "outputs": [],
   "source": [
    "vector1 = Vector(1, 0)"
   ]
  },
  {
   "cell_type": "markdown",
   "execution_count": null,
   "metadata": {},
   "outputs": [],
   "source": [
    "## Do when `del` is called"
   ]
  },
  {
   "cell_type": "code",
   "execution_count": null,
   "metadata": {},
   "outputs": [],
   "source": [
    "# delete an instace \n",
    "del vector1"
   ]
  },
  {
   "cell_type": "markdown",
   "execution_count": null,
   "metadata": {},
   "outputs": [],
   "source": [
    "## Difference between `__repr__` and `__str__`"
   ]
  },
  {
   "cell_type": "code",
   "execution_count": null,
   "metadata": {},
   "outputs": [],
   "source": [
    "vector1 = Vector(1,0)\n",
    "print('If call the obejct, it will call __repr__(), and not return the memory address of obj')\n",
    "vector1"
   ]
  },
  {
   "cell_type": "code",
   "execution_count": null,
   "metadata": {},
   "outputs": [],
   "source": [
    "print('use print method will can __str__()', vector1)"
   ]
  },
  {
   "cell_type": "code",
   "execution_count": null,
   "metadata": {},
   "outputs": [],
   "source": [
    "# __str__ also works for str()\n",
    "str(vector1)"
   ]
  },
  {
   "cell_type": "markdown",
   "metadata": {},
   "source": [
    "# `__getitem__` and `__setitem__`"
   ]
  },
  {
   "cell_type": "markdown",
   "metadata": {},
   "source": [
    "define a class without `__getitem__` or `__setitem__`"
   ]
  },
  {
   "cell_type": "code",
   "execution_count": 1,
   "metadata": {},
   "outputs": [
    {
     "name": "stdout",
     "output_type": "stream",
     "text": "DEF Inc\n"
    }
   ],
   "source": [
    "class Building(object):\n",
    "     def __init__(self, floors):\n",
    "         self._floors = [None] * floors\n",
    "     def occupy(self, floor_number, data):\n",
    "          self._floors[floor_number] = data\n",
    "     def get_floor_data(self, floor_number):\n",
    "          return self._floors[floor_number]\n",
    "# Construct a building with 4 floors\n",
    "building1 = Building(4) \n",
    "building1.occupy(0, 'Reception')\n",
    "building1.occupy(1, 'ABC Corp')\n",
    "building1.occupy(2, 'DEF Inc')\n",
    "print(building1.get_floor_data(2) )"
   ]
  },
  {
   "cell_type": "markdown",
   "metadata": {},
   "source": [
    "change to  `__getitem__` or `__setitem__`"
   ]
  },
  {
   "cell_type": "code",
   "execution_count": 6,
   "metadata": {},
   "outputs": [
    {
     "name": "stdout",
     "output_type": "stream",
     "text": "ABC Corp\n"
    }
   ],
   "source": [
    "class Building_get_set():\n",
    "    def __init__(self, floors):\n",
    "        self._floors = [None] * floors\n",
    "    def __setitem__(self, floor_number, data):\n",
    "        self._floors[floor_number] = data\n",
    "    def __getitem__(self, floor_number):\n",
    "        return self._floors[floor_number]\n",
    "# Construct a building with 4 floors\n",
    "building2 = Building_get_set(4) \n",
    "building2[0] = 'Reception'\n",
    "building2[1] = 'ABC Corp'\n",
    "building2[2] = 'DEF Inc'\n",
    "print(building2[1])\n",
    "    "
   ]
  }
 ]
}