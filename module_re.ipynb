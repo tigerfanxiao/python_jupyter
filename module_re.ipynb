{
 "nbformat": 4,
 "nbformat_minor": 2,
 "metadata": {
  "language_info": {
   "name": "python",
   "codemirror_mode": {
    "name": "ipython",
    "version": 3
   },
   "version": "3.8.1-final"
  },
  "orig_nbformat": 2,
  "file_extension": ".py",
  "mimetype": "text/x-python",
  "name": "python",
  "npconvert_exporter": "python",
  "pygments_lexer": "ipython3",
  "version": 3,
  "kernelspec": {
   "name": "python38164bit5f4ee824bcd3480089b609bd81156949",
   "display_name": "Python 3.8.1 64-bit"
  }
 },
 "cells": [
  {
   "cell_type": "markdown",
   "metadata": {},
   "source": [
    "## Search for a string"
   ]
  },
  {
   "cell_type": "code",
   "execution_count": 4,
   "metadata": {},
   "outputs": [
    {
     "output_type": "stream",
     "name": "stdout",
     "text": "1\n5\nello\n"
    }
   ],
   "source": [
    "import re\n",
    "my_string = 'Hello world!'\n",
    "# create a search object\n",
    "my_search = re.search('ello', my_string)\n",
    "# get the  beginning index of matched string\n",
    "print(my_search.start())\n",
    "# get the end inde xof matched string\n",
    "print(my_search.end())\n",
    "# get the mached string\n",
    "print(my_search.group())"
   ]
  },
  {
   "cell_type": "markdown",
   "metadata": {},
   "source": [
    "## Create a pattern"
   ]
  },
  {
   "cell_type": "code",
   "execution_count": 11,
   "metadata": {},
   "outputs": [
    {
     "output_type": "execute_result",
     "data": {
      "text/plain": "['o', 'o']"
     },
     "metadata": {},
     "execution_count": 11
    }
   ],
   "source": [
    "my_string = 'Hello world!'\n",
    "# creat a pattern object to contain the search string\n",
    "pattern = re.compile('o')\n",
    "# pattern return a search object \n",
    "pattern.search(my_string).start()\n",
    "# return all the matched string\n",
    "pattern.findall(my_string)"
   ]
  },
  {
   "cell_type": "code",
   "execution_count": null,
   "metadata": {},
   "outputs": [],
   "source": []
  }
 ]
}