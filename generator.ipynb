{
 "nbformat": 4,
 "nbformat_minor": 2,
 "metadata": {
  "language_info": {
   "name": "python",
   "codemirror_mode": {
    "name": "ipython",
    "version": 3
   },
   "version": "3.8.1-final"
  },
  "orig_nbformat": 2,
  "file_extension": ".py",
  "mimetype": "text/x-python",
  "name": "python",
  "npconvert_exporter": "python",
  "pygments_lexer": "ipython3",
  "version": 3,
  "kernelspec": {
   "name": "python38164bit5f4ee824bcd3480089b609bd81156949",
   "display_name": "Python 3.8.1 64-bit"
  }
 },
 "cells": [
  {
   "cell_type": "markdown",
   "metadata": {},
   "source": [
    "generate will save memory usage. every time it could save one value for the running state"
   ]
  },
  {
   "cell_type": "code",
   "execution_count": 2,
   "metadata": {},
   "outputs": [
    {
     "name": "stdout",
     "output_type": "stream",
     "text": "0\n1\n1\n2\n3\n5\n8\n13\n21\n34\n"
    }
   ],
   "source": [
    "# febonachi\n",
    "\n",
    "def febo(num):\n",
    "    a = 0\n",
    "    b = 1\n",
    "    for i in range(num):\n",
    "        yield a\n",
    "        a, b = b, a + b\n",
    "\n",
    "f = febo(10)\n",
    "for i in f:\n",
    "    print(i)"
   ]
  },
  {
   "cell_type": "code",
   "execution_count": 4,
   "metadata": {},
   "outputs": [
    {
     "name": "stdout",
     "output_type": "stream",
     "text": "<list_iterator object at 0x000002417CD6C730>\n1\n<list_iterator object at 0x000002417CD6C730>\n2\n<list_iterator object at 0x000002417CD6C730>\n3\n<list_iterator object at 0x000002417CD6C730>\n"
    }
   ],
   "source": [
    "def my_for_loop(interable):\n",
    "    # we can run next on iterator\n",
    "    iterator = iter(interable)\n",
    "    while True:\n",
    "        try: \n",
    "            print(iterator)\n",
    "            print(next(iterator)) # output the element of interable\n",
    "        except StopIteration: \n",
    "            break\n",
    "# the address of iterable instance does not change \n",
    "my_for_loop([1,2,3])"
   ]
  },
  {
   "cell_type": "code",
   "execution_count": 20,
   "metadata": {},
   "outputs": [
    {
     "name": "stdout",
     "output_type": "stream",
     "text": "1\n2\n3\n4\n\n2\n3\n4\n5\n6\n7\n8\n"
    }
   ],
   "source": [
    "# create my own sepcial range\n",
    "class MyRange():\n",
    "\n",
    "    def __init__(self, start, end):\n",
    "        self.start = start\n",
    "        self.end = end\n",
    "    \n",
    "    def __iter__(self):\n",
    "        # if iter(object), the memory address remain\n",
    "        return self\n",
    "    \n",
    "    def __next__(self):\n",
    "        if self.start < self.end:\n",
    "            num = self.start\n",
    "            self.start += 1\n",
    "            return num\n",
    "        raise StopIteration\n",
    "\n",
    "my_range = MyRange(1,5)\n",
    "your_range = MyRange(2,9)\n",
    "\n",
    "for i in my_range:\n",
    "    print(i)\n",
    "\n",
    "print()\n",
    "\n",
    "for i in your_range:\n",
    "    print(i)\n"
   ]
  },
  {
   "cell_type": "code",
   "execution_count": null,
   "metadata": {},
   "outputs": [],
   "source": []
  }
 ]
}