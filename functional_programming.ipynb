{
 "nbformat": 4,
 "nbformat_minor": 2,
 "metadata": {
  "language_info": {
   "name": "python",
   "codemirror_mode": {
    "name": "ipython",
    "version": 3
   },
   "version": "3.8.1-final"
  },
  "orig_nbformat": 2,
  "file_extension": ".py",
  "mimetype": "text/x-python",
  "name": "python",
  "npconvert_exporter": "python",
  "pygments_lexer": "ipython3",
  "version": 3,
  "kernelspec": {
   "name": "python38164bit5f4ee824bcd3480089b609bd81156949",
   "display_name": "Python 3.8.1 64-bit"
  }
 },
 "cells": [
  {
   "cell_type": "markdown",
   "metadata": {},
   "source": [
    "# Functional Programming\n"
   ]
  },
  {
   "cell_type": "markdown",
   "metadata": {},
   "source": [
    "functional programming is the idea to seperate the data and function. \n",
    "A pure function is a function that doesn't impact outside of the world, and to avoid side-affect inside of the function\n"
   ]
  },
  {
   "cell_type": "markdown",
   "metadata": {},
   "source": [
    "# map\n",
    "map(fuction, data) and return the map object. we need to convert the object to the list\n",
    "* function doesn't modify the original data"
   ]
  },
  {
   "cell_type": "code",
   "execution_count": 3,
   "metadata": {},
   "outputs": [
    {
     "name": "stdout",
     "output_type": "stream",
     "text": "[2, 4, 6]\n"
    }
   ],
   "source": [
    "# the function used in map is only to think of the operation of each item\n",
    "def multiply_by2(item):\n",
    "    return item*2\n",
    "# the data of the map function could be a list of item\n",
    "result = map(multiply_by2, [1,2,3])\n",
    "print(list(result))"
   ]
  },
  {
   "cell_type": "markdown",
   "metadata": {},
   "source": [
    "# filter\n",
    "filter(function, data), the function in side should be boolean function"
   ]
  },
  {
   "cell_type": "code",
   "execution_count": 5,
   "metadata": {},
   "outputs": [
    {
     "name": "stdout",
     "output_type": "stream",
     "text": "[1, 3, 5]\n"
    }
   ],
   "source": [
    "def only_odd(item):\n",
    "    return item % 2 != 0\n",
    "\n",
    "# Filter a list and return all the odd number in the list\n",
    "result = filter(only_odd, [1,2,3,4,5]) \n",
    "print(list(result))"
   ]
  },
  {
   "cell_type": "markdown",
   "metadata": {},
   "source": [
    "# zip\n",
    "zip will combine multiple lists together and return a list of tuple"
   ]
  },
  {
   "cell_type": "code",
   "execution_count": 6,
   "metadata": {},
   "outputs": [
    {
     "name": "stdout",
     "output_type": "stream",
     "text": "[(1, 4), (2, 5), (3, 6)]\n"
    }
   ],
   "source": [
    "my_list = [1,2,3]\n",
    "your_list = [4,5,6]\n",
    "result = zip(my_list,your_list)\n",
    "print(list(result))"
   ]
  },
  {
   "cell_type": "markdown",
   "metadata": {},
   "source": [
    "# reduce\n",
    "reduce is a funcion of module functools\n"
   ]
  },
  {
   "cell_type": "markdown",
   "metadata": {},
   "source": [
    "## Example sum of the list"
   ]
  },
  {
   "cell_type": "code",
   "execution_count": 1,
   "metadata": {},
   "outputs": [
    {
     "output_type": "execute_result",
     "data": {
      "text/plain": "9"
     },
     "metadata": {},
     "execution_count": 1
    }
   ],
   "source": [
    "from functools import reduce\n",
    "# accumulator is the function define the operation of iteration of each item in the data list\n",
    "def accumulator(acc, item):\n",
    "    return acc + item\n",
    "\n",
    "# Calculate the sum of all the element of list  \n",
    "my_list = [1,2,3]\n",
    "# 3 is the initiate value for acc\n",
    "\n",
    "reduce(accumulator, my_list, 3)"
   ]
  },
  {
   "cell_type": "markdown",
   "metadata": {},
   "source": [
    "## Example sum of part of list"
   ]
  },
  {
   "cell_type": "code",
   "execution_count": 15,
   "metadata": {},
   "outputs": [
    {
     "output_type": "execute_result",
     "data": {
      "text/plain": "60"
     },
     "metadata": {},
     "execution_count": 15
    }
   ],
   "source": [
    "n = 4\n",
    "# create a squre matrix with element from 0 to n^2\n",
    "square_matrix = range(n**2)\n",
    "# sum should be \n",
    "part_list = [square_matrix[i * (n + 1)] + square_matrix[(i + 1) * (n - 1)] for i in range(0, n)]\n",
    "sum(part_list)"
   ]
  },
  {
   "cell_type": "code",
   "execution_count": 10,
   "metadata": {},
   "outputs": [
    {
     "output_type": "stream",
     "name": "stdout",
     "text": "0\n4\n8\n"
    }
   ],
   "source": [
    "for i in range(0,10, 4):\n",
    "    print(i)"
   ]
  },
  {
   "cell_type": "code",
   "execution_count": 9,
   "metadata": {},
   "outputs": [
    {
     "data": {
      "text/plain": "6"
     },
     "execution_count": 9,
     "metadata": {},
     "output_type": "execute_result"
    }
   ],
   "source": [
    "# Simplify the code above in one line\n",
    "reduce(lambda acc, item: acc + item, my_list, 0 )"
   ]
  },
  {
   "cell_type": "markdown",
   "metadata": {},
   "source": [
    "$1^2 * 2^2 * 3^2$"
   ]
  },
  {
   "cell_type": "code",
   "execution_count": 7,
   "metadata": {},
   "outputs": [
    {
     "data": {
      "text/plain": "36"
     },
     "execution_count": 7,
     "metadata": {},
     "output_type": "execute_result"
    }
   ],
   "source": [
    "\n",
    "reduce(lambda acc, item: acc*(item**2), [1,2,3])"
   ]
  },
  {
   "cell_type": "markdown",
   "metadata": {},
   "source": [
    "# Lambda function \n",
    "help to simply the functional programming\n"
   ]
  },
  {
   "cell_type": "code",
   "execution_count": 12,
   "metadata": {},
   "outputs": [
    {
     "data": {
      "text/plain": "[2, 4, 6]"
     },
     "execution_count": 12,
     "metadata": {},
     "output_type": "execute_result"
    }
   ],
   "source": [
    "# square a list\n",
    "list(map(lambda x: x*2, [1,2,3]))"
   ]
  },
  {
   "cell_type": "code",
   "execution_count": 16,
   "metadata": {},
   "outputs": [
    {
     "name": "stdout",
     "output_type": "stream",
     "text": "[(2, 17), (3, 19), (4, 15), (9, 1)]\n[(9, 1), (4, 15), (2, 17), (3, 19)]\n"
    }
   ],
   "source": [
    "# sort a list of tuple\n",
    "my_list = [(3,19), (4, 15), (2, 17), (9,1)]\n",
    "# sorted base on the first item in the tuple\n",
    "my_list.sort()\n",
    "print(my_list)\n",
    "# sorted base on the second time in the tuple\n",
    "my_list.sort(key=lambda x: x[1])\n",
    "print(my_list)"
   ]
  },
  {
   "cell_type": "markdown",
   "metadata": {},
   "source": [
    "# Comprehensions\n"
   ]
  },
  {
   "cell_type": "markdown",
   "metadata": {},
   "source": [
    "## List Comprehensions"
   ]
  },
  {
   "cell_type": "code",
   "execution_count": 17,
   "metadata": {},
   "outputs": [
    {
     "data": {
      "text/plain": "[1, 9, 25]"
     },
     "execution_count": 17,
     "metadata": {},
     "output_type": "execute_result"
    }
   ],
   "source": [
    "# square the odd number in a list\n",
    "my_list = [1,2,3,4,5]\n",
    "[ele**2 for ele in my_list if ele % 2 != 0]"
   ]
  },
  {
   "cell_type": "markdown",
   "metadata": {},
   "source": [
    "## Set Comprehensions\n"
   ]
  },
  {
   "cell_type": "code",
   "execution_count": 18,
   "metadata": {},
   "outputs": [
    {
     "data": {
      "text/plain": "{'e', 'h', 'l', 'o'}"
     },
     "execution_count": 18,
     "metadata": {},
     "output_type": "execute_result"
    }
   ],
   "source": [
    "my_string = 'hello'\n",
    "{char for char in my_string}"
   ]
  },
  {
   "cell_type": "code",
   "execution_count": 23,
   "metadata": {},
   "outputs": [
    {
     "data": {
      "text/plain": "{'b': 4}"
     },
     "execution_count": 23,
     "metadata": {},
     "output_type": "execute_result"
    }
   ],
   "source": [
    "my_dict = {\n",
    "    'a' : 1, \n",
    "    'b' : 2, \n",
    "    'c' : 3}\n",
    "\n",
    "# squer the value is the key is 'b'\n",
    "{key:value**2 for key, value in my_dict.items() if key == 'b'}"
   ]
  },
  {
   "cell_type": "code",
   "execution_count": 25,
   "metadata": {},
   "outputs": [
    {
     "data": {
      "text/plain": "{'a': 3, 'b': 3, 'c': 3}"
     },
     "execution_count": 25,
     "metadata": {},
     "output_type": "execute_result"
    }
   ],
   "source": [
    "# create a dict with two for loop\n",
    "{key: value for key in 'abc'\n",
    "            for value in [1,2,3]}"
   ]
  },
  {
   "cell_type": "markdown",
   "metadata": {},
   "source": [
    "#### Example\n",
    "find the duplicate ele in a list\n"
   ]
  },
  {
   "cell_type": "code",
   "execution_count": 30,
   "metadata": {},
   "outputs": [
    {
     "data": {
      "text/plain": "{2, 5}"
     },
     "execution_count": 30,
     "metadata": {},
     "output_type": "execute_result"
    }
   ],
   "source": [
    "my_list = [1,2,3,4,5,5,5,6,7,8,2]\n",
    "{ele for ele in my_list if my_list.count(ele) > 1}\n"
   ]
  },
  {
   "cell_type": "code",
   "execution_count": null,
   "metadata": {},
   "outputs": [],
   "source": []
  }
 ]
}