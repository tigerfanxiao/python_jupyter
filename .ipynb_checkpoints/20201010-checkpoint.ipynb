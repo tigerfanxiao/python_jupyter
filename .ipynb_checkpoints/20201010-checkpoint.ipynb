{
 "cells": [
  {
   "cell_type": "markdown",
   "metadata": {},
   "source": [
    "# 20201010\n"
   ]
  },
  {
   "cell_type": "markdown",
   "metadata": {},
   "source": [
    "# <font color='red'>Python Notes</font>"
   ]
  },
  {
   "cell_type": "markdown",
   "metadata": {},
   "source": [
    "## Tree\n",
    "A Tree consists of a set of nodes and a set of edges that connect pairs of nodes. A tree has following properites:\n",
    "* One node of the tree is designed as the root \n",
    "* Every node `n`, except the root node, is connected by an edge from exactly one other node p, where p is parent of n\n",
    "* A unique path traverse from the root to each node\n",
    "\n",
    "### Branch\n",
    "* Any path in the tree that starts from the root node and ends at one of the bottom nodes in the tree\n",
    "\n",
    "### Complete Tree\n",
    "* Every single level filled up except the final level which may or may not be filled up, but the final level has nodes, they should be filled up left to right\n",
    "\n",
    "### Full Tree\n",
    "* Every node in the tree, either has no children nodes or `k` children nodes\n",
    "\n",
    "### Perfect Tree\n",
    "* All of the leaf node has the same depth\n",
    "\n",
    "### Binary Tree\n",
    "if each node in the tree has a maximum of two children, we say that the tree is a binary tree"
   ]
  },
  {
   "cell_type": "markdown",
   "metadata": {},
   "source": [
    "### Itertools \n",
    "there are probability tools in the itertools package\n",
    "* `combinations(n, r)`: accept list or string, return iterable object\n"
   ]
  },
  {
   "cell_type": "code",
   "execution_count": null,
   "metadata": {},
   "outputs": [],
   "source": [
    "import itertools \n",
    "print(list(itertools.combinations('abcd',2))) # accept string\n",
    "print(list(itertools.combinations(['a', 'b', 'c', 'd'], 2))) # accept list"
   ]
  },
  {
   "cell_type": "markdown",
   "metadata": {},
   "source": [
    "### Generator"
   ]
  },
  {
   "cell_type": "code",
   "execution_count": null,
   "metadata": {},
   "outputs": [],
   "source": [
    "# in range(n+1) return the numbers which can be divided by 7\n",
    "def multiple_7(n):\n",
    "    for n in range(n+1):\n",
    "        if n % 7 == 0: yield n\n",
    "\n",
    "# call generator\n",
    "generator_multiple_7 = multiple_7(20)\n",
    "for i in generator_multiple_7:\n",
    "    print(i)"
   ]
  },
  {
   "cell_type": "markdown",
   "metadata": {},
   "source": [
    "# Regex"
   ]
  },
  {
   "cell_type": "markdown",
   "metadata": {},
   "source": [
    "### `re.match()` vs `re.findall()`\n",
    "* `re.match()` only return the first matched, used with group()\n",
    "* `re.findall()` return a list with all content found, ***no need*** to use group()"
   ]
  },
  {
   "cell_type": "code",
   "execution_count": null,
   "metadata": {},
   "outputs": [],
   "source": [
    "import re\n",
    "test_word = 'fanxiao@gmail.com'\n",
    "pattern = r'\\w+'\n",
    "# return match obj\n",
    "matched = re.match(pattern, test_word)\n",
    "print(type(matched))\n",
    "# return the first mathced content, \n",
    "print(matched.group())\n",
    "\n",
    "# return a list of all matched content\n",
    "findalled = re.findall(pattern, test_word)\n",
    "print(findalled)"
   ]
  },
  {
   "cell_type": "markdown",
   "metadata": {},
   "source": [
    "### group(), group(1), group(2)\n",
    "* No paranthesis are needed to form match group 0 since it locates the whole match object anyway.\n",
    "\n",
    "* group(1) return the first matched group by the first bracket pattern\n",
    "\n",
    "* group(2) return the second mateched group by the second breacket pattern"
   ]
  },
  {
   "cell_type": "code",
   "execution_count": null,
   "metadata": {},
   "outputs": [],
   "source": [
    "import re\n",
    "pattern = r'(\\w+)@(\\w+)'\n",
    "test_word = 'fanxiao@gmail.com'\n",
    "result = re.match(pattern, test_word)\n",
    "\n",
    "print(result.group()) # or group(0) return the whole matched \n",
    "print(result.group(1)) # return the first bracket matched content\n",
    "print(result.group(2)) # return the second bracket matched content"
   ]
  },
  {
   "cell_type": "markdown",
   "metadata": {},
   "source": [
    "# Error Handling\n",
    "* `ZeroDivisionError`\n",
    "* `AssertionError`when use assert\n"
   ]
  },
  {
   "cell_type": "code",
   "execution_count": null,
   "metadata": {},
   "outputs": [],
   "source": [
    "try: \n",
    "    raise RuntimeError(\"this is runtime error\")\n",
    "except:\n",
    "    print('this is a error')\n",
    "else: \n",
    "# excute only when no error occurs\n",
    "    print('hello world')"
   ]
  },
  {
   "cell_type": "markdown",
   "metadata": {},
   "source": [
    "### Custom Error"
   ]
  },
  {
   "cell_type": "code",
   "execution_count": null,
   "metadata": {},
   "outputs": [],
   "source": [
    "def MyError(Exception):\n",
    "    def __init__(self, msg):\n",
    "        self.msg = msg\n",
    "        \n",
    "MyError('this is my error')    "
   ]
  },
  {
   "cell_type": "markdown",
   "metadata": {},
   "source": [
    "# IO"
   ]
  },
  {
   "cell_type": "code",
   "execution_count": null,
   "metadata": {},
   "outputs": [],
   "source": [
    "# basic open \n",
    "with open('file_path', 'a', encoding='utf-8') as file_handler:\n",
    "    content = file_handler.write()\n",
    "\n",
    "# read file to the end\n",
    "f = open('my_text_file.txt')\n",
    "line = f.readline()\n",
    "while line: # read until the last line of the file\n",
    "    print(line)\n",
    "    line = f.readline()\n",
    "f.close()"
   ]
  },
  {
   "cell_type": "markdown",
   "metadata": {},
   "source": [
    "# CSV"
   ]
  },
  {
   "cell_type": "code",
   "execution_count": null,
   "metadata": {},
   "outputs": [],
   "source": [
    "import csv\n",
    "\n",
    "def csv_w(firstname, lastname, email):\n",
    "  fieldnames = ['firstname', 'lastname', 'email']\n",
    "\n",
    "  file_handler = open('your_file.csv', 'a', newline='')\n",
    "  csv_writer = csv.DictWriter(file_handler, quotechar='\"', delimiter=',', fieldnames=fieldnames)\n",
    "  # csv_writer.writeheader()\n",
    "  csv_writer.writerow({'firstname':firstname, 'lastname': lastname, 'email':email})\n",
    "  file_handler.close()\n",
    "    "
   ]
  },
  {
   "cell_type": "markdown",
   "metadata": {},
   "source": [
    "# OOP"
   ]
  },
  {
   "cell_type": "markdown",
   "metadata": {},
   "source": [
    "### super "
   ]
  },
  {
   "cell_type": "code",
   "execution_count": null,
   "metadata": {},
   "outputs": [],
   "source": [
    "class Shape():\n",
    "    def __init__(self):\n",
    "        pass\n",
    "\n",
    "    def area(self):\n",
    "        return 0\n",
    "\n",
    "class Square(Shape):\n",
    "    # extend init function \n",
    "    def __init__(self,length = 0): \n",
    "        super().__init__() # reuse init function in super class\n",
    "        self.length = length\n",
    "\n",
    "    def area(self):\n",
    "        return self.length*self.length\n",
    "\n",
    "asqr = Square(5)\n",
    "print(asqr.area())      # prints 25 as given argument\n",
    "\n",
    "print(Square().area())  # prints zero as default area"
   ]
  },
  {
   "cell_type": "markdown",
   "metadata": {},
   "source": [
    "### Class Method, Static Method, Instance Method\n",
    "* Class method takes `cls`, has no reference to instance attribute\n",
    "* Instance method takes `self`, \n",
    "* Static method no need `self`, nor `cls`, has no reference to instance and class attribute"
   ]
  },
  {
   "cell_type": "code",
   "execution_count": null,
   "metadata": {},
   "outputs": [],
   "source": [
    "class Foo:\n",
    "    name = 'Fan'\n",
    "    def __init__(self):\n",
    "        self.name = 'Xiao'\n",
    "    \n",
    "    # static method cannot refer instance attribute and class attribute\n",
    "    @staticmethod\n",
    "    def myStatic():\n",
    "        print(f'Static method')\n",
    "    \n",
    "    @classmethod\n",
    "    def myClass(cls):\n",
    "        print(f'Class method')\n",
    "        \n",
    "Foo.myStatic()\n",
    "foo = Foo()\n",
    "foo.myStatic()  # instance can call static method\n",
    "Foo.myClass()\n",
    "foo.myClass() # instance can call class method"
   ]
  },
  {
   "cell_type": "markdown",
   "metadata": {},
   "source": [
    "### `__repr__` vs `__str__`"
   ]
  },
  {
   "cell_type": "code",
   "execution_count": null,
   "metadata": {},
   "outputs": [],
   "source": [
    "class Foo:\n",
    "    def __init__(self):\n",
    "        pass\n",
    "    \n",
    "    # stdout directly without print\n",
    "    def __repr__(self):\n",
    "        return 'this is __repr__ method'\n",
    "    \n",
    "    # use when use print\n",
    "    def __str__(self):\n",
    "        return 'this is __str__ method'\n",
    "        \n",
    "a = Foo()\n",
    "print(a)\n",
    "a"
   ]
  },
  {
   "cell_type": "markdown",
   "metadata": {},
   "source": [
    "### Callback"
   ]
  },
  {
   "cell_type": "code",
   "execution_count": null,
   "metadata": {},
   "outputs": [],
   "source": [
    "class Add:\n",
    "  def __init__(self):\n",
    "    self.name = 'Add'\n",
    "    \n",
    "  def __call__(self, a, b):\n",
    "    return a+b\n",
    "\n",
    "\n",
    "class Multiple:\n",
    "  def __init__(self):\n",
    "    self.name = 'Multiple'\n",
    "    \n",
    "  def __call__(self, a, b):\n",
    "    return a*b\n",
    "\n",
    "# pass class as input\n",
    "def test(callback, a, b):\n",
    "    calculate = callback()\n",
    "    print(calculate.name)\n",
    "    return calculate(a, b)\n",
    "\n",
    "\n",
    "result = test(Multiple, 1,2)\n",
    "print(result)"
   ]
  },
  {
   "cell_type": "markdown",
   "metadata": {},
   "source": [
    "### Decorator"
   ]
  },
  {
   "cell_type": "code",
   "execution_count": null,
   "metadata": {},
   "outputs": [],
   "source": [
    "# decorator a function with parameters\n",
    "def decorator(func):\n",
    "    print('run before call func')\n",
    "    def wrapper(a, b):\n",
    "        print('run inside wrapper')\n",
    "        return func(a, b)\n",
    "    return wrapper\n",
    "\n",
    "@decorator\n",
    "def func(param1, param2):\n",
    "    return param1 + param2\n",
    "\n",
    "# func(1,2)"
   ]
  },
  {
   "cell_type": "code",
   "execution_count": null,
   "metadata": {},
   "outputs": [],
   "source": [
    "# \n",
    "def decorator2(a, b):\n",
    "    print('run before call the func')\n",
    "    def wrapper(func):\n",
    "        print('run inside wrapper')\n",
    "        print(a, b) # return all\n",
    "        return func\n",
    "    return wrapper\n",
    "\n",
    "@decorator2(1, 3)\n",
    "def func(param1, param2):\n",
    "    return param1 + param2\n",
    "\n"
   ]
  },
  {
   "cell_type": "code",
   "execution_count": null,
   "metadata": {
    "scrolled": true
   },
   "outputs": [],
   "source": [
    "# decorator to add all the function to the list\n",
    "function_list = []\n",
    "# Decorator function\n",
    "def add_function_to_list(func):\n",
    "    function_list.append(func)\n",
    "    return func\n",
    "\n",
    "@add_function_to_list\n",
    "def function_one():\n",
    "    print('I am function one!')\n",
    "\n",
    "@add_function_to_list\n",
    "def function_two():\n",
    "    print('I am function two!')\n",
    "\n",
    "# Python intepreter run the decorator code before you call the function\n",
    "print(function_list)"
   ]
  },
  {
   "cell_type": "markdown",
   "metadata": {},
   "source": [
    "### parse"
   ]
  },
  {
   "cell_type": "code",
   "execution_count": 3,
   "metadata": {},
   "outputs": [
    {
     "ename": "SyntaxError",
     "evalue": "EOL while scanning string literal (<ipython-input-3-ae79fcbcc996>, line 2)",
     "output_type": "error",
     "traceback": [
      "\u001b[1;36m  File \u001b[1;32m\"<ipython-input-3-ae79fcbcc996>\"\u001b[1;36m, line \u001b[1;32m2\u001b[0m\n\u001b[1;33m    result = parse(\"Hello, {name}\", \"Hello, Matthe)\u001b[0m\n\u001b[1;37m                                                   ^\u001b[0m\n\u001b[1;31mSyntaxError\u001b[0m\u001b[1;31m:\u001b[0m EOL while scanning string literal\n"
     ]
    }
   ],
   "source": [
    "from parse import parse\n",
    "result = parse(\"Hello, {name}\", \"Hello, Matthe\")\n",
    "result.named"
   ]
  },
  {
   "cell_type": "markdown",
   "metadata": {},
   "source": [
    "### **kwargs"
   ]
  },
  {
   "cell_type": "code",
   "execution_count": 5,
   "metadata": {},
   "outputs": [
    {
     "name": "stdout",
     "output_type": "stream",
     "text": [
      "{'name': 'xiao'}\n",
      "xiao\n"
     ]
    }
   ],
   "source": [
    "my_dict = {'name': 'xiao'}\n",
    "def test(name):\n",
    "    print(f'{name}')\n",
    "\n",
    "test(my_dict)\n",
    "# when you use ** for the dict, you can get the key\n",
    "test(**my_dict)"
   ]
  },
  {
   "cell_type": "markdown",
   "metadata": {},
   "source": [
    "## Testing\n"
   ]
  },
  {
   "cell_type": "markdown",
   "metadata": {},
   "source": [
    "### Unittest\n",
    "* Unittest is a default test module coming with Python\n",
    "* if the test is not successful will raise AssertionError\n",
    "* You must name the test function begin with `test`"
   ]
  },
  {
   "cell_type": "markdown",
   "metadata": {},
   "source": [
    "```python\n",
    "# atest.py\n",
    "import unittest\n",
    "import otherModuel\n",
    "# define a class inherent unittest.TestCase \n",
    "class AppTesting(unittest.TestCase):\n",
    "    # test function\n",
    "    def test_a(self):\n",
    "        test_parameter = 1\n",
    "        result = otherModuel.dosomething(test_parameter)\n",
    "        # assert the test result and expected result\n",
    "        self.assertEqual(result, 15)\n",
    "        \n",
    "    def test_b(self):\n",
    "        test_parameter = 'this is a string'\n",
    "        \n",
    "    @classmethod\n",
    "    def setUp(self):\n",
    "        # run before each test function\n",
    "        print(\"this is a login test\")\n",
    "\n",
    "    @classmethod\n",
    "    def tearDown(self):\n",
    "        # run after each test function\n",
    "        print(\"This is a logout test\")\n",
    "    \n",
    "    @classmethod\n",
    "    def setUpClass(self):\n",
    "        # run before all the test functions\n",
    "        print(\"open application\")\n",
    "    \n",
    "    @classmethod\n",
    "    def tearDownClass(self):\n",
    "        # run after all the test functions\n",
    "        print(\"close application\")\n",
    "        \n",
    "\n",
    "       \n",
    "if __name__=='__main__':\n",
    "    unittest.main()\n",
    "\n",
    "```\n",
    "you can run in with python\n",
    "* if you don't use unittest.main(), you can run in the cli\n",
    "\n",
    "```shell\n",
    "# run all the test files in the directory\n",
    "python -m unittest\n",
    "# run\n",
    "```\n",
    "* even we can print the comments of the test function by `-v`\n",
    "```shell\n",
    "python -m unittest -v \n",
    "```"
   ]
  },
  {
   "cell_type": "code",
   "execution_count": null,
   "metadata": {},
   "outputs": [],
   "source": [
    "import unittest\n",
    "\n",
    "class Apptesting(unittest.TestCase):\n",
    "    @unittest.SkipTest\n",
    "    def test_search(self):\n",
    "        # Skip this test function\n",
    "        print(\"This is search test\")\n",
    "        \n",
    "    # skip this test function but will print a sentence\n",
    "    @unittest.skip(\"I am skipping this test method, it is not yet ready\")\n",
    "    def test_advancedsearch(self)\n",
    "        print(\"This is adv search method\")\n",
    "    \n",
    "    # skip only when the condition meets\n",
    "    @unittest.skipIf(1==1, \"print this message if skip this function\")\n",
    "    \n",
    "    \n",
    "if __name__ = \"__main__\":\n",
    "    unittest.main()"
   ]
  },
  {
   "cell_type": "markdown",
   "metadata": {},
   "source": [
    "## Pytest\n",
    "* find all the py file begin with 'test' to test\n",
    "* the test function should also begin with 'test'\n",
    "* by default not print out by stdout, you need to use `pytest -s` to force print out to the console"
   ]
  },
  {
   "cell_type": "markdown",
   "metadata": {},
   "source": [
    "```python\n",
    "# test_01.py\n",
    "def test_a():\n",
    "    assert 1 + 1 == 2\n",
    "```\n",
    "run pytest in cli\n",
    "```shell\n",
    "pytest\n",
    "```\n",
    "or\n",
    "```shell\n",
    "python -m pytest"
   ]
  },
  {
   "cell_type": "code",
   "execution_count": null,
   "metadata": {},
   "outputs": [],
   "source": [
    "# test_01.py\n",
    "import pytest\n",
    "\n",
    "@pytest.fixture()\n",
    "def test_setup():\n",
    "    # before test set 'a' as global varaible\n",
    "    global a\n",
    "    a = 1\n",
    "    yield\n",
    "    # after test\n",
    "    \n",
    "# pass test_setup as parameter    \n",
    "def test_first(test_setup):\n",
    "    assert a + 1 == 2"
   ]
  },
  {
   "cell_type": "markdown",
   "metadata": {},
   "source": [
    "## Request\n",
    "* 401 unauthorized access\n",
    "* 300 redirect\n",
    "* http://httpbin.org/#/ is very good webpage to test http request"
   ]
  },
  {
   "cell_type": "code",
   "execution_count": 2,
   "metadata": {},
   "outputs": [
    {
     "name": "stdout",
     "output_type": "stream",
     "text": [
      "<Response [200]>\n",
      "['__attrs__', '__bool__', '__class__', '__delattr__', '__dict__', '__dir__', '__doc__', '__enter__', '__eq__', '__exit__', '__format__', '__ge__', '__getattribute__', '__getstate__', '__gt__', '__hash__', '__init__', '__init_subclass__', '__iter__', '__le__', '__lt__', '__module__', '__ne__', '__new__', '__nonzero__', '__reduce__', '__reduce_ex__', '__repr__', '__setattr__', '__setstate__', '__sizeof__', '__str__', '__subclasshook__', '__weakref__', '_content', '_content_consumed', '_next', 'apparent_encoding', 'close', 'connection', 'content', 'cookies', 'elapsed', 'encoding', 'headers', 'history', 'is_permanent_redirect', 'is_redirect', 'iter_content', 'iter_lines', 'json', 'links', 'next', 'ok', 'raise_for_status', 'raw', 'reason', 'request', 'status_code', 'text', 'url']\n"
     ]
    }
   ],
   "source": [
    "import requests\n",
    "r = requests.get('https://xkcd.com/353')\n",
    "r # 200 response\n",
    "dir(r) # list all the attributes and method of one instance\n",
    "help(r) # more detail helf info\n",
    "r.text # return html content\n",
    "r.status.code # 200\n",
    "r.ok # true is status.code is 200 ok"
   ]
  },
  {
   "cell_type": "code",
   "execution_count": null,
   "metadata": {},
   "outputs": [],
   "source": [
    "# download an image by request\n",
    "import requests\n",
    "r = requests.get('https://imgs.xkcd.com/comics/python.png')\n",
    "with open('python.png', 'wb') as handler:\n",
    "    handler.write(r.content) # content is byte of the image"
   ]
  },
  {
   "cell_type": "code",
   "execution_count": null,
   "metadata": {},
   "outputs": [],
   "source": [
    "# send data by get method\n",
    "import requests\n",
    "\n",
    "payload = {'page':2, 'count':25}\n",
    "r = requests.get('https://httpbin.org/get', params=payload)\n",
    "r.url # https://httpbin/org/get?page=2&count=25"
   ]
  },
  {
   "cell_type": "code",
   "execution_count": null,
   "metadata": {},
   "outputs": [],
   "source": [
    "# send data by post method\n",
    "import request\n",
    "payload = {'username': 'xiao', 'password':'testing'}\n",
    "r = requests.post('https://httpbin.org/post', data=payload)\n",
    "r_dict = r.json() # return a dictionary\n",
    "r_dict['form'] # got username and password"
   ]
  },
  {
   "cell_type": "code",
   "execution_count": null,
   "metadata": {},
   "outputs": [],
   "source": [
    "# basic authenticate \n",
    "import requests\n",
    "r = requests.get('https://httpbin.org/basic-auth/corey/testing', auth=('corey', 'testing'))"
   ]
  },
  {
   "cell_type": "code",
   "execution_count": 9,
   "metadata": {},
   "outputs": [
    {
     "data": {
      "text/plain": [
       "'{\\n  \"authenticated\": true, \\n  \"token\": \"your_token\"\\n}\\n'"
      ]
     },
     "execution_count": 9,
     "metadata": {},
     "output_type": "execute_result"
    }
   ],
   "source": [
    "# bearer authenticate token\n",
    "import requests\n",
    "auth_token = 'your_token'\n",
    "# if usint Bearer method, token sent should begin with Bearer \n",
    "head = {'Authorization': 'Bearer ' + auth_token, 'accept': 'application/json'}\n",
    "r = requests.get('http://httpbin.org/bearer', headers=head)\n",
    "r.text"
   ]
  },
  {
   "cell_type": "markdown",
   "metadata": {},
   "source": [
    "# <font color=\"red\">Python Data Structure</font>"
   ]
  },
  {
   "cell_type": "markdown",
   "metadata": {},
   "source": [
    "## Anagram Check\n",
    "\n",
    "### Problem\n",
    "\n",
    "Given two strings, check to see if they are anagrams. An anagram is when the two strings can be written using the exact same letters (so you can just rearrange the letters to get a different phrase or word). \n",
    "\n",
    "For example:\n",
    "\n",
    "    \"public relations\" is an anagram of \"crap built on lies.\"\n",
    "    \n",
    "    \"clint eastwood\" is an anagram of \"old west action\"\n",
    "    \n",
    "**Note: Ignore spaces and capitalization. So \"d go\" is an anagram of \"God\" and \"dog\" and \"o d g\".**\n",
    "\n",
    "### Xiao's Solution\n"
   ]
  },
  {
   "cell_type": "code",
   "execution_count": null,
   "metadata": {},
   "outputs": [],
   "source": [
    "def anagram(word01, word02):\n",
    "    # normalize the input\n",
    "    word01 = word01.replace(' ', '').lower()\n",
    "    word02 = word02.replace(' ', '').lower()\n",
    "    \n",
    "    if len(word01) != len(word02):\n",
    "        return False\n",
    "    \n",
    "    output_dict = {}\n",
    "    # count the appearance of each letter\n",
    "    for _ in word01:\n",
    "        if _ not in output_dict:\n",
    "            output_dict[_] = 1\n",
    "        else:\n",
    "            output_dict[_] += 1\n",
    "    # minus from the count of appearance\n",
    "    for _ in word02:\n",
    "        if _ not in output_dict:\n",
    "            output_dict[_] =1\n",
    "        else: \n",
    "            output_dict[_] -= 1\n",
    "    \n",
    "    # check the count is 0\n",
    "    for _ in output_dict.values():\n",
    "        if _ != 0:\n",
    "            return False\n",
    "    return True\n",
    "            "
   ]
  },
  {
   "cell_type": "code",
   "execution_count": null,
   "metadata": {},
   "outputs": [],
   "source": [
    "# test\n",
    "print(anagram(\"public relations\" , \"crap built on lies\"))\n",
    "print(anagram(\"clint eastwood\", \"old west action\"))"
   ]
  },
  {
   "cell_type": "markdown",
   "metadata": {},
   "source": [
    "## Array Pair Sum\n",
    "\n",
    "### Problem\n",
    "\n",
    "Given an integer array, output all the ** *unique* ** pairs that sum up to a specific value **k**.\n",
    "\n",
    "So the input:\n",
    "    \n",
    "    pair_sum([1,3,2,2],4)\n",
    "\n",
    "would return **2** pairs:\n",
    "\n",
    "     (1,3)\n",
    "     (2,2)\n",
    "\n",
    "**NOTE: FOR TESTING PURPOSES CHANGE YOUR FUNCTION SO IT OUTPUTS THE NUMBER OF PAIRS**\n",
    "\n",
    "### Xiao's Solution"
   ]
  },
  {
   "cell_type": "code",
   "execution_count": null,
   "metadata": {},
   "outputs": [],
   "source": [
    "def pair_sum(arr, sum):\n",
    "    visited_set = set()\n",
    "    output_set = set()\n",
    "    \n",
    "    for n in arr:\n",
    "        target = sum - n\n",
    "        if target not in visited_set:\n",
    "            visited_set.add(n)\n",
    "        else:\n",
    "            output_set.add((min(n, target), max(n, target)))\n",
    "    return output_set\n",
    "    \n",
    "    "
   ]
  },
  {
   "cell_type": "code",
   "execution_count": null,
   "metadata": {},
   "outputs": [],
   "source": [
    "# test\n",
    "pair_sum([1,3,2,2],4)"
   ]
  },
  {
   "cell_type": "markdown",
   "metadata": {},
   "source": [
    "### Dynamic Array Implementation\n",
    "* Dynamic Array is one type of array we can extend the capacity of array\n",
    "* ctypes is library we can use C object\n"
   ]
  },
  {
   "cell_type": "code",
   "execution_count": null,
   "metadata": {},
   "outputs": [],
   "source": [
    "import ctypes\n",
    "\n",
    "class DynamicArray:\n",
    "    '''\n",
    "    DYNAMIC ARRAY CLASS (Similar to Python List)\n",
    "    '''\n",
    "    def __init__(self):\n",
    "        self.point = -1 # -1 indicate no element in the array\n",
    "        self.capacity = 1 # init array with one element capacity\n",
    "        self.arr = self.make_array(self.capacity)\n",
    "        \n",
    "    def __len__(self):\n",
    "        \"\"\"\n",
    "        Return number of elements sorted in array\n",
    "        \"\"\"\n",
    "        return self.point + 1\n",
    "    \n",
    "    def __getitem__(self,k):\n",
    "        \"\"\"\n",
    "        Return element at index k\n",
    "        \"\"\"\n",
    "        if not 0 <= k <self.capacity:\n",
    "            return IndexError('Index is out of bounds!') # Check it k index is in bounds of array\n",
    "        \n",
    "        return self.arr[k] #Retrieve from array at index k\n",
    "        \n",
    "    def append(self, ele):\n",
    "        \"\"\"\n",
    "        Add element to end of the array\n",
    "        \"\"\"\n",
    "        if self.point == self.capacity - 1:\n",
    "            self._resize(2*self.capacity) #Double capacity if not enough room\n",
    "        \n",
    "        self.arr[self.point + 1] = ele #Set self.n index to element\n",
    "        self.point += 1\n",
    "        \n",
    "    def _resize(self,new_capability):\n",
    "        \"\"\"\n",
    "        Resize internal array to capacity new_cap\n",
    "        \"\"\"\n",
    "        \n",
    "        newArr = self.make_array(new_capability) # New bigger array\n",
    "        \n",
    "        for k in range(self.point + 1): # Reference all existing values\n",
    "            newArr[k] = self.arr[k]\n",
    "            \n",
    "        self.arr = newArr # Call A the new bigger array\n",
    "        self.capacity = new_capability # Reset the capacity\n",
    "        \n",
    "    def make_array(self, capacity):\n",
    "        \"\"\"\n",
    "        Returns a new array with new_cap capacity\n",
    "        \"\"\"\n",
    "        return (capacity * ctypes.py_object)()\n",
    "    \n",
    "    def __str__(self):\n",
    "        result = '['\n",
    "        for i in range(self.point):\n",
    "            result += str(self.arr[i]) + ', '\n",
    "        result += str(self.arr[self.point]) + ']'\n",
    "        return result "
   ]
  },
  {
   "cell_type": "code",
   "execution_count": null,
   "metadata": {},
   "outputs": [],
   "source": [
    "one = DynamicArray()\n",
    "one.append(1)\n",
    "one.append(2) # double the capacity\n",
    "one.append(3)\n",
    "one.append(4) # double the capacity\n",
    "one.append(5)\n",
    "print(one)\n",
    "print(one.capacity)"
   ]
  },
  {
   "cell_type": "markdown",
   "metadata": {},
   "source": [
    "# <font color=\"red\"> Python 100 Practice </font>"
   ]
  },
  {
   "cell_type": "markdown",
   "metadata": {},
   "source": [
    "## Question 1\n",
    "\n",
    "> ***Write a program which will find all such numbers which are divisible by 7 but are not a multiple of 5,\n",
    "> between 2000 and 3200 (both included).The numbers obtained should be printed in a comma-separated sequence on a single line.***"
   ]
  },
  {
   "cell_type": "code",
   "execution_count": null,
   "metadata": {},
   "outputs": [],
   "source": [
    "result = [i for i in range(2000, 3201) if i%7==0 and i%5!=0]\n",
    "\",\".join(map(str,result))"
   ]
  },
  {
   "cell_type": "markdown",
   "metadata": {},
   "source": [
    "## Question 2\n",
    "> ***Write a program which can compute the factorial of a given numbers. The results should be printed in a comma-separated sequence on a single line. Suppose the following input is supplied to the program: 8\n",
    "> Then, the output should be:40320***\n"
   ]
  },
  {
   "cell_type": "code",
   "execution_count": null,
   "metadata": {},
   "outputs": [],
   "source": [
    "# solution 1: recursion\n",
    "def facotrial(n): return 1 if n==0 else n*facotrial(n-1)"
   ]
  },
  {
   "cell_type": "code",
   "execution_count": null,
   "metadata": {},
   "outputs": [],
   "source": [
    "# test\n",
    "facotrial(8)"
   ]
  },
  {
   "cell_type": "code",
   "execution_count": null,
   "metadata": {},
   "outputs": [],
   "source": [
    "# solution 2: while loop\n",
    "def factorial_loop(n):\n",
    "    result = 1\n",
    "    while n >0:\n",
    "        result *= n\n",
    "        n = n -1\n",
    "    return result    "
   ]
  },
  {
   "cell_type": "code",
   "execution_count": null,
   "metadata": {},
   "outputs": [],
   "source": [
    "factorial_loop(8)"
   ]
  },
  {
   "cell_type": "markdown",
   "metadata": {},
   "source": [
    "### Reduce \n",
    "* reduce is in packege functools\n",
    "* reduce(acc, list, init)\n",
    "* acc describes the relation between the first and the second element in the list\n",
    "* when we got the result of first two element, we will process the previous result with the third element, keep this logic to the end of list\n",
    "* init is the initial value for the acc before we process the list. \n"
   ]
  },
  {
   "cell_type": "code",
   "execution_count": null,
   "metadata": {},
   "outputs": [],
   "source": [
    "# solution 3: reduce\n",
    "from functools import reduce\n",
    "def factorial_reduce(n):\n",
    "    return reduce(lambda x, y: x * y, range(1,n+1), 1)"
   ]
  },
  {
   "cell_type": "code",
   "execution_count": null,
   "metadata": {},
   "outputs": [],
   "source": [
    "# test\n",
    "factorial_reduce(8)"
   ]
  },
  {
   "cell_type": "markdown",
   "metadata": {},
   "source": [
    "## Question 3\n",
    "\n",
    ">***With a given integral number n, write a program to generate a dictionary that contains (i, i x i) such that is an integral number between 1 and n (both included). and then the program should print the dictionary. Suppose the following input is supplied to the program: 8***\n",
    "\n",
    ">***Then, the output should be:***\n",
    "\n",
    "```\n",
    "{1: 1, 2: 4, 3: 9, 4: 16, 5: 25, 6: 36, 7: 49, 8: 64}\n",
    "```"
   ]
  },
  {
   "cell_type": "code",
   "execution_count": null,
   "metadata": {},
   "outputs": [],
   "source": [
    "result = {x:x**2 for x in range(1,9)}\n",
    "print(result)"
   ]
  },
  {
   "cell_type": "markdown",
   "metadata": {},
   "source": [
    "## Question 4\n",
    ">***Write a program which accepts a sequence of comma-separated numbers from console and generate a list and a tuple which contains every number. Suppose the following input is supplied to the program:***\n",
    "\n",
    "```\n",
    "34,67,55,33,12,98\n",
    "```\n",
    "\n",
    "\n",
    ">***Then, the output should be:***\n",
    "\n",
    "```\n",
    "['34', '67', '55', '33', '12', '98']\n",
    "('34', '67', '55', '33', '12', '98')\n",
    "```"
   ]
  },
  {
   "cell_type": "code",
   "execution_count": null,
   "metadata": {},
   "outputs": [],
   "source": [
    "# test \n",
    "input_str = '34,67,55,33,12,98'\n",
    "result = input_str.split(',')\n",
    "print(result)\n",
    "print(tuple(result))"
   ]
  },
  {
   "cell_type": "markdown",
   "metadata": {},
   "source": [
    "## Question 5\n",
    ">***Define a class which has at least two methods:***\n",
    ">\n",
    ">* ***getString: to get a string from console input*** \n",
    ">* ***printString: to print the string in upper case.*** \n",
    "\n",
    ">***Also please include simple test function to test the class methods.***\n"
   ]
  },
  {
   "cell_type": "code",
   "execution_count": null,
   "metadata": {},
   "outputs": [],
   "source": [
    "class Foo5():\n",
    "    def __init__(self):\n",
    "        self.input_str = ''\n",
    "        \n",
    "    def getString(self):\n",
    "        self.input_str = input(\"please input something: \")\n",
    "    \n",
    "    def printString(self):\n",
    "        print(self.input_str.upper())"
   ]
  },
  {
   "cell_type": "code",
   "execution_count": null,
   "metadata": {},
   "outputs": [],
   "source": [
    "# test\n",
    "foo5 = Foo5()\n",
    "foo5.getString()\n",
    "foo5.printString()"
   ]
  },
  {
   "cell_type": "markdown",
   "metadata": {},
   "source": [
    "## Question 6\n",
    ">***Write a program that calculates and prints the value according to the given formula:***\n",
    "\n",
    ">***Q = Square root of [(2 * C * D)/H]***\n",
    "\n",
    ">***Following are the fixed values of C and H:***\n",
    "\n",
    ">***C is 50. H is 30.***\n",
    "\n",
    ">***D is the variable whose values should be input to your program in a comma-separated sequence.For example\n",
    ">Let us assume the following comma separated input sequence is given to the program:***\n",
    "\n",
    "```\n",
    "100,150,180\n",
    "```\n",
    "\n",
    ">***The output of the program should be:***\n",
    "\n",
    "```\n",
    "18,22,24\n",
    "```"
   ]
  },
  {
   "cell_type": "code",
   "execution_count": null,
   "metadata": {},
   "outputs": [],
   "source": [
    "from math import sqrt\n",
    "\n",
    "def sqrt_root(arr):\n",
    "    C = 50\n",
    "    H = 30\n",
    "    input_list = map(int,arr.split(','))\n",
    "    return [int(sqrt(2*C*i/H)) for i in input_list]"
   ]
  },
  {
   "cell_type": "code",
   "execution_count": null,
   "metadata": {},
   "outputs": [],
   "source": [
    "# test\n",
    "sqrt_root('100,150,180')"
   ]
  },
  {
   "cell_type": "markdown",
   "metadata": {},
   "source": [
    "## Question 7\n",
    ">***Write a program which takes 2 digits, X,Y as input and generates a 2-dimensional array. The element value in the i-th row and j-th column of the array should be i * j.***\n",
    "\n",
    ">***Note: i=0,1.., X-1; j=0,1,¡­Y-1. Suppose the following inputs are given to the program: 3,5***\n",
    "\n",
    ">***Then, the output of the program should be:***\n",
    "\n",
    "```\n",
    "[[0, 0, 0, 0, 0], [0, 1, 2, 3, 4], [0, 2, 4, 6, 8]]\n",
    "```"
   ]
  },
  {
   "cell_type": "code",
   "execution_count": null,
   "metadata": {},
   "outputs": [],
   "source": [
    "def generate2Darray(row, col):\n",
    "    return [[i * j for j in range(col)] for i in range(row)]\n"
   ]
  },
  {
   "cell_type": "code",
   "execution_count": null,
   "metadata": {},
   "outputs": [],
   "source": [
    "# test\n",
    "generate2Darray(3,5)"
   ]
  },
  {
   "cell_type": "markdown",
   "metadata": {},
   "source": [
    "## Question 8\n",
    ">***Write a program that accepts a comma separated sequence of words as input and prints the words in a comma-separated sequence after sorting them alphabetically.***\n",
    "\n",
    ">***Suppose the following input is supplied to the program:***\n",
    "\n",
    "```\n",
    "without,hello,bag,world\n",
    "```\n",
    "\n",
    ">***Then, the output should be:***\n",
    "\n",
    "```\n",
    "bag,hello,without,world\n",
    "```"
   ]
  },
  {
   "cell_type": "code",
   "execution_count": null,
   "metadata": {},
   "outputs": [],
   "source": [
    "def sort_string(my_str):\n",
    "    str_list = my_str.split(',')\n",
    "    return ','.join(sorted(str_list))"
   ]
  },
  {
   "cell_type": "code",
   "execution_count": null,
   "metadata": {},
   "outputs": [],
   "source": [
    "# test\n",
    "input_string = 'without,hello,bag,world'\n",
    "sort_string(input_string)"
   ]
  },
  {
   "cell_type": "markdown",
   "metadata": {},
   "source": [
    "## Question 9\n",
    ">***Write a program that accepts sequence of lines as input and prints the lines after making all characters in the sentence capitalized.***\n",
    "\n",
    ">***Suppose the following input is supplied to the program:***\n",
    "\n",
    "```\n",
    "Hello world\n",
    "Practice makes perfect\n",
    "```\n",
    "\n",
    ">***Then, the output should be:***\n",
    "\n",
    "```\n",
    "HELLO WORLD\n",
    "PRACTICE MAKES PERFECT\n",
    "```"
   ]
  },
  {
   "cell_type": "code",
   "execution_count": null,
   "metadata": {},
   "outputs": [],
   "source": [
    "# test \n",
    "input_lines = '''\n",
    "Hello world\n",
    "Practice makes perfect'''\n",
    "print(input_lines.upper())"
   ]
  },
  {
   "cell_type": "markdown",
   "metadata": {},
   "source": [
    "## Question 10\n",
    ">***Write a program that accepts a sequence of whitespace separated words as input and prints the words after removing all duplicate words and sorting them alphanumerically.***\n",
    "\n",
    ">***Suppose the following input is supplied to the program:***\n",
    "\n",
    "```\n",
    "hello world and practice makes perfect and hello world again\n",
    "```\n",
    "\n",
    ">***Then, the output should be:***\n",
    "\n",
    "```\n",
    "again and hello makes perfect practice world\n",
    "```"
   ]
  },
  {
   "cell_type": "code",
   "execution_count": null,
   "metadata": {},
   "outputs": [],
   "source": [
    "def sort_word(words_str):\n",
    "    return ' '.join(sorted(list(set(words_str.split()))))"
   ]
  },
  {
   "cell_type": "code",
   "execution_count": null,
   "metadata": {},
   "outputs": [],
   "source": [
    "sort_word('hello world and practice makes perfect and hello world again')"
   ]
  },
  {
   "cell_type": "markdown",
   "metadata": {},
   "source": [
    "## Question 11\n",
    ">***Write a program which accepts a sequence of comma separated 4 digit binary numbers as its input and then check whether they are divisible by 5 or not. The numbers that are divisible by 5 are to be printed in a comma separated sequence.***\n",
    "\n",
    ">***Example:***\n",
    "\n",
    "```\n",
    "0100,0011,1010,1001\n",
    "```\n",
    "\n",
    ">***Then the output should be:***\n",
    "\n",
    "```\n",
    "1010\n",
    "```"
   ]
  },
  {
   "cell_type": "code",
   "execution_count": null,
   "metadata": {},
   "outputs": [],
   "source": [
    "def divide5(str_list): return [_ for _ in str_list.split(',') if int(_, 2)%5==0]"
   ]
  },
  {
   "cell_type": "code",
   "execution_count": null,
   "metadata": {},
   "outputs": [],
   "source": [
    "# test\n",
    "integer_list = '0100,0011,1010,1001'\n",
    "divide5(integer_list)"
   ]
  },
  {
   "cell_type": "markdown",
   "metadata": {},
   "source": [
    "### filter \n",
    "* filter(lambda, input_list)\n",
    "* return a **filter object**, can change to list by list()"
   ]
  },
  {
   "cell_type": "code",
   "execution_count": null,
   "metadata": {},
   "outputs": [],
   "source": [
    "def divide5filter(str_list):\n",
    "    return list(filter(lambda x: int(x,2) % 5 ==0,str_list.split(',')))"
   ]
  },
  {
   "cell_type": "code",
   "execution_count": null,
   "metadata": {},
   "outputs": [],
   "source": [
    "# test\n",
    "integer_list = '0100,0011,1010,1001'\n",
    "divide5filter(integer_list)"
   ]
  },
  {
   "cell_type": "markdown",
   "metadata": {},
   "source": [
    "## Question 12\n",
    ">***Write a program, which will find all such numbers between 1000 and 3000 (both included) such that each digit of the number is an even number.The numbers obtained should be printed in a comma-separated sequence on a single line.***\n",
    "\n"
   ]
  },
  {
   "cell_type": "code",
   "execution_count": null,
   "metadata": {},
   "outputs": [],
   "source": [
    "# solution1 use break\n",
    "def get_even_digit(begin, end):\n",
    "    result = []\n",
    "    for n in range(begin, end+1):\n",
    "        for digit in str(n):\n",
    "            if int(digit)%2!= 0:\n",
    "                break\n",
    "        else:\n",
    "            result.append(n)\n",
    "    return result"
   ]
  },
  {
   "cell_type": "code",
   "execution_count": null,
   "metadata": {},
   "outputs": [],
   "source": [
    "\",\".join(map(str, get_even_digit(1000,3000)))"
   ]
  },
  {
   "cell_type": "code",
   "execution_count": null,
   "metadata": {},
   "outputs": [],
   "source": [
    "# solution2 use filter\n",
    "def filter_ever_digit(begin, end):\n",
    "    input_list = map(str, list(range(begin, end + 1)))\n",
    "    return list(filter(lambda x:all([int(digit)%2==0 for digit in x]), input_list))"
   ]
  },
  {
   "cell_type": "code",
   "execution_count": null,
   "metadata": {},
   "outputs": [],
   "source": [
    "\",\".join(map(str, filter_ever_digit(2000,3000)))"
   ]
  },
  {
   "cell_type": "markdown",
   "metadata": {},
   "source": [
    "## Question 13\n",
    ">***Write a program that accepts a sentence and calculate the number of letters and digits.***\n",
    "\n",
    ">***Suppose the following input is supplied to the program:***\n",
    "\n",
    "```\n",
    "hello world! 123\n",
    "```\n",
    "\n",
    ">***Then, the output should be:***\n",
    "\n",
    "```\n",
    "LETTERS 10\n",
    "DIGITS 3\n",
    "```"
   ]
  },
  {
   "cell_type": "code",
   "execution_count": null,
   "metadata": {},
   "outputs": [],
   "source": [
    "def count_alpha_digit(my_str):\n",
    "    count_letter = 0\n",
    "    count_digit = 0\n",
    "    for _ in my_str:\n",
    "        if _.isalpha():\n",
    "            count_letter += 1\n",
    "        if _.isdigit():\n",
    "            count_digit += 1\n",
    "    print(f'LETTERS {count_letter}\\nDIGITS {count_digit}')"
   ]
  },
  {
   "cell_type": "code",
   "execution_count": null,
   "metadata": {},
   "outputs": [],
   "source": [
    "# test\n",
    "test_words = 'hello world! 123'\n",
    "count_alpha_digit(test_words)"
   ]
  },
  {
   "cell_type": "code",
   "execution_count": null,
   "metadata": {},
   "outputs": [],
   "source": [
    "# solution 2: 0 + True = 1\n",
    "my_string = 'hello world! 123'\n",
    "num_char, num_digit = 0, 0\n",
    "for char in my_string:\n",
    "    num_char += char.isalpha()\n",
    "    num_digit += char.isdigit()\n",
    "print(f'LETTERS: {num_char}\\nDIGITS: {num_digit}')"
   ]
  },
  {
   "cell_type": "markdown",
   "metadata": {},
   "source": [
    "### Regex\n",
    "* reg_patten = re.compile(regex)\n",
    "* reg_patten.findall(my_string) return a list of all found element "
   ]
  },
  {
   "cell_type": "code",
   "execution_count": null,
   "metadata": {},
   "outputs": [],
   "source": [
    "## solution 3: Reg\n",
    "import re\n",
    "my_string = 'hello world! 123'\n",
    "\n",
    "pattern_digit = re.compile('[0-9]')\n",
    "pattern_char = re.compile('[a-zA-Z]')\n",
    "num_char = len(pattern_char.findall(my_string))\n",
    "num_digit = len(pattern_digit.findall(my_string))\n",
    "print(f'LETTERS: {num_char}\\nDIGITS: {num_digit}')"
   ]
  },
  {
   "cell_type": "markdown",
   "metadata": {},
   "source": [
    "## Question 14\n",
    ">***Write a program that accepts a sentence and calculate the number of upper case letters and lower case letters.***\n",
    "\n",
    ">***Suppose the following input is supplied to the program:***\n",
    "\n",
    "```\n",
    "Hello world!\n",
    "```\n",
    "\n",
    ">***Then, the output should be:***\n",
    "\n",
    "```\n",
    "UPPER CASE 1\n",
    "LOWER CASE 9\n",
    "```"
   ]
  },
  {
   "cell_type": "code",
   "execution_count": null,
   "metadata": {},
   "outputs": [],
   "source": [
    "my_string = 'Hello world!'\n",
    "num_upper, num_lower = 0, 0\n",
    "for char in my_string:\n",
    "    num_upper += 1 if char.isupper() else 0\n",
    "    num_lower +=1 if char.islower() else 0\n",
    "print(f'UPPER CASE {num_upper}\\nLOWER CASE {num_lower}')"
   ]
  },
  {
   "cell_type": "markdown",
   "metadata": {},
   "source": [
    "## Question 15\n",
    "\n",
    ">***Write a program that computes the value of a+aa+aaa+aaaa with a given digit as the value of a.***\n",
    "\n",
    ">***Suppose the following input is supplied to the program:***\n",
    "\n",
    "```\n",
    "9\n",
    "```\n",
    "\n",
    ">***Then, the output should be:***\n",
    "\n",
    "```\n",
    "11106\n",
    "```"
   ]
  },
  {
   "cell_type": "code",
   "execution_count": null,
   "metadata": {},
   "outputs": [],
   "source": [
    "def sum_a(a):\n",
    "    return a * (1 + 11 + 111 + 1111)"
   ]
  },
  {
   "cell_type": "code",
   "execution_count": null,
   "metadata": {},
   "outputs": [],
   "source": [
    "sum_a(9)"
   ]
  },
  {
   "cell_type": "markdown",
   "metadata": {},
   "source": [
    "## Question 16\n",
    "\n",
    ">***Use a list comprehension to square each odd number in a list. The list is input by a sequence of comma-separated numbers.***\n",
    ">***Suppose the following input is supplied to the program:***\n",
    "\n",
    "```\n",
    "1,2,3,4,5,6,7,8,9\n",
    "```\n",
    "\n",
    ">***Then, the output should be:***\n",
    "\n",
    "```\n",
    "1,9,25,49,81\n",
    "```"
   ]
  },
  {
   "cell_type": "code",
   "execution_count": null,
   "metadata": {},
   "outputs": [],
   "source": [
    "def square_list(arr):\n",
    "    arr_list = map(int, arr.split(','))\n",
    "    return list(map(lambda x:x**2, list(filter(lambda x: x%2!=0, arr_list))))"
   ]
  },
  {
   "cell_type": "code",
   "execution_count": null,
   "metadata": {},
   "outputs": [],
   "source": [
    "# test\n",
    "input_list = '1,2,3,4,5,6,7,8,9'\n",
    "square_list(input_list)"
   ]
  },
  {
   "cell_type": "markdown",
   "metadata": {},
   "source": [
    "## Question 17\n",
    ">***Write a program that computes the net amount of a bank account based a transaction log from console input. The transaction log format is shown as following:***\n",
    "\n",
    "```\n",
    "D 100\n",
    "W 200\n",
    "```\n",
    "\n",
    "* D means deposit while W means withdrawal.\n",
    "\n",
    ">***Suppose the following input is supplied to the program:***\n",
    "\n",
    "```\n",
    "D 300\n",
    "D 300\n",
    "W 200\n",
    "D 100\n",
    "```\n",
    "\n",
    ">***Then, the output should be:***\n",
    "\n",
    "```\n",
    "500\n",
    "```"
   ]
  },
  {
   "cell_type": "code",
   "execution_count": null,
   "metadata": {},
   "outputs": [],
   "source": [
    "def transaction(trans):\n",
    "    trans_list = trans.split('\\n')\n",
    "    \n",
    "    result = 0\n",
    "    for tr in trans_list:\n",
    "        if tr.startswith('D'):\n",
    "            result += int(tr.strip('D '))\n",
    "        if tr.startswith('W'):\n",
    "            result -= int(tr.strip('W '))\n",
    "    return result"
   ]
  },
  {
   "cell_type": "code",
   "execution_count": null,
   "metadata": {},
   "outputs": [],
   "source": [
    "# test\n",
    "test_trans = '''\n",
    "D 300\n",
    "D 300\n",
    "W 200\n",
    "D 100'''\n",
    "transaction(test_trans)"
   ]
  },
  {
   "cell_type": "markdown",
   "metadata": {},
   "source": [
    "## Question 18\n",
    "\n",
    ">***A website requires the users to input username and password to register. Write a program to check the validity of password input by users.***\n",
    "\n",
    ">***Following are the criteria for checking the password:***\n",
    ">\n",
    ">- ***At least 1 letter between [a-z]***\n",
    ">- ***At least 1 number between [0-9]***\n",
    ">- ***At least 1 letter between [A-Z]***\n",
    ">- ***At least 1 character from [$#@]***\n",
    ">- ***Minimum length of transaction password: 6***\n",
    ">- ***Maximum length of transaction password: 12***\n",
    "\n",
    ">***Your program should accept a sequence of comma separated passwords and will check them according to the above criteria. Passwords that match the criteria are to be printed, each separated by a comma.***\n",
    "\n",
    ">***Example***\n",
    "\n",
    ">***If the following passwords are given as input to the program:***\n",
    "\n",
    "```\n",
    "ABd1234@1,a F1#,2w3E*,2We3345\n",
    "```\n",
    "\n",
    ">***Then, the output of the program should be:***\n",
    "\n",
    "```\n",
    "ABd1234@1\n",
    "```"
   ]
  },
  {
   "cell_type": "code",
   "execution_count": null,
   "metadata": {},
   "outputs": [],
   "source": [
    "import re\n",
    "def check_pass(password_list):\n",
    "    output = []\n",
    "    for password in password_list.split(','):\n",
    "        check_letter = bool(re.search('[a-z]', password))\n",
    "        check_num = bool(re.search('[0-9]', password))\n",
    "        check_char = bool(re.search('[$#@]', password))\n",
    "        check_length = bool(6<=len(password)<=12)\n",
    "        if all([check_letter, check_num, check_char, check_length]):\n",
    "            output.append(password)\n",
    "    return output"
   ]
  },
  {
   "cell_type": "code",
   "execution_count": null,
   "metadata": {},
   "outputs": [],
   "source": [
    "# test\n",
    "check_pass('ABd1234@1,a F1#,2w3E*,2We3345')"
   ]
  },
  {
   "cell_type": "markdown",
   "metadata": {},
   "source": [
    "## Question 19\n",
    ">***You are required to write a program to sort the (name, age, score) tuples by ascending order where name is string, age and score are numbers. The tuples are input by console. The sort criteria is:***\n",
    "\n",
    "- ***1: Sort based on name***\n",
    "- ***2: Then sort based on age***\n",
    "- ***3: Then sort by score***\n",
    "\n",
    ">***The priority is that name > age > score.***\n",
    "\n",
    ">***If the following tuples are given as input to the program:***\n",
    "\n",
    "```\n",
    "Tom,19,80\n",
    "John,20,90\n",
    "Jony,17,91\n",
    "Jony,17,93\n",
    "Json,21,85\n",
    "```\n",
    "\n",
    ">***Then, the output of the program should be:***\n",
    "\n",
    "```\n",
    "[('John', '20', '90'), ('Jony', '17', '91'), ('Jony', '17', '93'), ('Json', '21', '85'), ('Tom', '19', '80')]\n",
    "```"
   ]
  },
  {
   "cell_type": "code",
   "execution_count": null,
   "metadata": {},
   "outputs": [],
   "source": [
    "def sort_tuple(my_str):\n",
    "    input_list = [tuple(_.split(',')) for _ in my_str.split('\\n')]\n",
    "    print(input_list)\n",
    "    return sorted(input_list, key=lambda x: (x[0], x[1], x[2]))"
   ]
  },
  {
   "cell_type": "code",
   "execution_count": null,
   "metadata": {},
   "outputs": [],
   "source": [
    "# test \n",
    "test_string = '''Tom,19,80\n",
    "John,20,90\n",
    "Jony,17,91\n",
    "Jony,17,93\n",
    "Json,21,85'''\n",
    "sort_tuple(test_string)"
   ]
  },
  {
   "cell_type": "markdown",
   "metadata": {},
   "source": [
    "## Question 20\n",
    ">***Define a class with a generator which can iterate the numbers, which are divisible by 7, between a given range 0 and n.***"
   ]
  },
  {
   "cell_type": "code",
   "execution_count": null,
   "metadata": {},
   "outputs": [],
   "source": [
    "def generator_multiple_7(n):\n",
    "    for i in range(n+1):\n",
    "        if i % 7 == 0:\n",
    "            yield i\n",
    "\n",
    "my_generator_7 = generator_multiple_7(20)\n",
    "for i in my_generator_7:\n",
    "    print(i)"
   ]
  },
  {
   "cell_type": "markdown",
   "metadata": {},
   "source": [
    "## Question 21\n",
    ">***A robot moves in a plane starting from the original point (0,0). The robot can move toward UP, DOWN, LEFT and RIGHT with a given steps. The trace of robot movement is shown as the following:***\n",
    "\n",
    "```\n",
    "UP 5\n",
    "DOWN 3\n",
    "LEFT 3\n",
    "RIGHT 2\n",
    "```\n",
    "\n",
    ">***The numbers after the direction are steps. Please write a program to compute the distance from current position after a sequence of movement and original point. If the distance is a float, then just print the nearest integer.***\n",
    ">***Example:***\n",
    ">***If the following tuples are given as input to the program:***\n",
    "\n",
    "```\n",
    "UP 5\n",
    "DOWN 3\n",
    "LEFT 3\n",
    "RIGHT 2\n",
    "```\n",
    "\n",
    ">***Then, the output of the program should be:***\n",
    "\n",
    "```\n",
    "2\n",
    "```"
   ]
  },
  {
   "cell_type": "code",
   "execution_count": null,
   "metadata": {},
   "outputs": [],
   "source": [
    "def distance(str_list):\n",
    "    step_list = str_list.split('\\n')\n",
    "    height = 0\n",
    "    width = 0\n",
    "    for step in step_list:\n",
    "        move = int(step.split()[1])\n",
    "        if step.startswith('U'):\n",
    "            height += move\n",
    "        if step.startswith('D'):\n",
    "            height -= move\n",
    "        if step.startswith('L'):\n",
    "            width += move\n",
    "        if step.startswith('R'):\n",
    "            width -= move\n",
    "    import math\n",
    "    return int(math.sqrt(height**2 + width**2))\n"
   ]
  },
  {
   "cell_type": "code",
   "execution_count": null,
   "metadata": {},
   "outputs": [],
   "source": [
    "# test\n",
    "str_list = '''UP 5\n",
    "DOWN 3\n",
    "LEFT 3\n",
    "RIGHT 2'''\n",
    "distance(str_list)"
   ]
  },
  {
   "cell_type": "markdown",
   "metadata": {},
   "source": [
    "## Question 22\n",
    ">***Write a program to compute the frequency of the words from the input. The output should output after sorting the key alphanumerically.***\n",
    "\n",
    ">***Suppose the following input is supplied to the program:***\n",
    "\n",
    "```\n",
    "New to Python or choosing between Python 2 and Python 3? Read Python 2 or Python 3.\n",
    "```\n",
    "\n",
    ">***Then, the output should be:***\n",
    "\n",
    "```\n",
    "2:2\n",
    "3.:1\n",
    "3?:1\n",
    "New:1\n",
    "Python:5\n",
    "Read:1\n",
    "and:1\n",
    "between:1\n",
    "choosing:1\n",
    "or:2\n",
    "to:1\n",
    "```"
   ]
  },
  {
   "cell_type": "code",
   "execution_count": null,
   "metadata": {},
   "outputs": [],
   "source": [
    "def count_sort(arr):\n",
    "    input_list = arr.split()\n",
    "    count_dict = {}\n",
    "    for i in input_list:\n",
    "        count_dict[i] = count_dict.get(i, 0) + 1\n",
    "    output = []\n",
    "    for key, value in count_dict.items():\n",
    "        output.append((key, value))\n",
    "    return sorted(output)"
   ]
  },
  {
   "cell_type": "code",
   "execution_count": null,
   "metadata": {},
   "outputs": [],
   "source": [
    "# test\n",
    "test_list = 'New to Python or choosing between Python 2 and Python 3? Read Python 2 or Python 3.'\n",
    "count_sort(test_list)"
   ]
  },
  {
   "cell_type": "markdown",
   "metadata": {},
   "source": [
    "### Collections.Counter()\n",
    "`Counter` takes a `list`, return a `dict`"
   ]
  },
  {
   "cell_type": "code",
   "execution_count": null,
   "metadata": {},
   "outputs": [],
   "source": [
    "## solution 2 list.count()\n",
    "from collections import Counter\n",
    "test_list = 'New to Python or choosing between Python 2 and Python 3? Read Python 2 or Python 3.'\n",
    "Counter(test_list.split())"
   ]
  },
  {
   "cell_type": "markdown",
   "metadata": {},
   "source": [
    "# Question 23\n",
    ">***Write a method which can calculate square value of number***"
   ]
  },
  {
   "cell_type": "code",
   "execution_count": null,
   "metadata": {},
   "outputs": [],
   "source": [
    "def square(n): return n**2\n",
    "# test\n",
    "square(5)"
   ]
  },
  {
   "cell_type": "markdown",
   "metadata": {},
   "source": [
    "## Question 24\n",
    ">***Python has many built-in functions, and if you do not know how to use it, you can read document online or find some books. But Python has a built-in document function for every built-in functions.***\n",
    "\n",
    ">***Please write a program to print some Python built-in functions documents, such as abs(), int(), raw_input()***\n",
    "\n",
    ">***And add document for your own function***"
   ]
  },
  {
   "cell_type": "code",
   "execution_count": null,
   "metadata": {
    "scrolled": true
   },
   "outputs": [],
   "source": [
    "print(abs.__doc__)\n",
    "print(int.__doc__)\n",
    "\n",
    "def my_func():\n",
    "    '''this is test func doc'''\n",
    "    pass\n",
    "\n",
    "print(my_func.__doc__)"
   ]
  },
  {
   "cell_type": "markdown",
   "metadata": {},
   "source": [
    "## Question 25\n",
    "\n",
    ">***Define a class, which have a class parameter and have a same instance parameter.*** "
   ]
  },
  {
   "cell_type": "code",
   "execution_count": null,
   "metadata": {},
   "outputs": [],
   "source": [
    "class Person:\n",
    "    name = 'Fan'\n",
    "    def __init__(self, name=None):\n",
    "        self.name = name\n",
    "\n",
    "mi = Person('Xiao')\n",
    "print(f'Instance parameter: {mi.name}, Class parameter: {Person.name}')"
   ]
  },
  {
   "cell_type": "markdown",
   "metadata": {},
   "source": [
    "## Question 26\n",
    "\n",
    ">***Define a function which can compute the sum of two numbers.***"
   ]
  },
  {
   "cell_type": "code",
   "execution_count": null,
   "metadata": {},
   "outputs": [],
   "source": [
    "sum = lambda x, y: x + y\n",
    "sum(4,5)"
   ]
  },
  {
   "cell_type": "markdown",
   "metadata": {},
   "source": [
    "## Question 27\n",
    ">***Define a function that can convert a integer into a string and print it in console.***"
   ]
  },
  {
   "cell_type": "code",
   "execution_count": null,
   "metadata": {},
   "outputs": [],
   "source": [
    "int2str = lambda x: str(x)\n",
    "int2str(2)"
   ]
  },
  {
   "cell_type": "markdown",
   "metadata": {},
   "source": [
    "## Question 28\n",
    ">***Define a function that can receive two integer numbers in string form and compute their sum and then print it in console.*** "
   ]
  },
  {
   "cell_type": "code",
   "execution_count": null,
   "metadata": {},
   "outputs": [],
   "source": [
    "sum2str = lambda x, y: int(x) + int(y)\n",
    "sum2str('1', '2')"
   ]
  },
  {
   "cell_type": "markdown",
   "metadata": {},
   "source": [
    "## Question 29\n",
    "\n",
    ">***Define a function that can accept two strings as input and concatenate them and then print it in console.***"
   ]
  },
  {
   "cell_type": "code",
   "execution_count": null,
   "metadata": {},
   "outputs": [],
   "source": [
    "concate_str = lambda x, y: x + y\n",
    "concate_str('a', 'b')"
   ]
  },
  {
   "cell_type": "markdown",
   "metadata": {},
   "source": [
    "# Question 30\n",
    "\n",
    ">***Define a function that can accept two strings as input and print the string with maximum length in console. If two strings have the same length, then the function should print all strings line by line.***"
   ]
  },
  {
   "cell_type": "code",
   "execution_count": null,
   "metadata": {},
   "outputs": [],
   "source": [
    "def print_len(x, y):\n",
    "    if len(x) == len(y):\n",
    "        print('\\n'.join([x, y]))\n",
    "        return \n",
    "    print(x if len(x)>len(y) else y)\n",
    "\n",
    "# test\n",
    "print_len('fan', 'xiao')\n",
    "print_len('fan', 'hao')\n"
   ]
  },
  {
   "cell_type": "markdown",
   "metadata": {},
   "source": [
    "## Question 39\n",
    ">***Write a program to generate and print another tuple whose values are even numbers in the given tuple (1,2,3,4,5,6,7,8,9,10).***"
   ]
  },
  {
   "cell_type": "code",
   "execution_count": null,
   "metadata": {},
   "outputs": [],
   "source": [
    "test_tuple= (1,2,3,4,5,6,7,8,9,10)\n",
    "list(filter(lambda x: x%2==0, test_tuple))"
   ]
  },
  {
   "cell_type": "markdown",
   "metadata": {},
   "source": [
    "## Question 53\n",
    "> ***Assuming that we have some email addresses in the \"username@companyname.com\" format, please write program to print the user name of a given email address. Both user names and company names are composed of letters only.***\n",
    "\n",
    "> ***Example:\n",
    "> If the following email address is given as input to the \n",
    "> program:***\n",
    "\n",
    "```\n",
    "john@google.com\n",
    "```\n",
    "\n",
    "> ***Then, the output of the program should be:***\n",
    "\n",
    "```\n",
    "john\n",
    "```\n",
    "\n",
    "> ***In case of input data being supplied to the question, it should be assumed to be a console input.***\n"
   ]
  },
  {
   "cell_type": "code",
   "execution_count": null,
   "metadata": {},
   "outputs": [],
   "source": [
    "import re\n",
    "test_email = 'john@google.com'\n",
    "pattern = r'(\\w+)@'\n",
    "matched = re.match(pattern, test_email)\n",
    "matched.group(1) # match the first bracket"
   ]
  },
  {
   "cell_type": "markdown",
   "metadata": {},
   "source": [
    "# Question 55\n",
    "\n",
    ">***Write a program which accepts a sequence of words separated by whitespace as input to print the words composed of digits only.***\n",
    "\n",
    ">***Example:\n",
    ">If the following words is given as input to the program:***\n",
    "\n",
    "```\n",
    "2 cats and 3 dogs.\n",
    "```\n",
    "\n",
    ">***Then, the output of the program should be:***\n",
    "\n",
    "```\n",
    "['2', '3']\n",
    "```\n"
   ]
  },
  {
   "cell_type": "code",
   "execution_count": null,
   "metadata": {},
   "outputs": [],
   "source": [
    "# solution 1\n",
    "test_list = '2 cats and 3 dogs.'.rstrip('.').split()\n",
    "[i for i in test_list if i.isdigit()]"
   ]
  },
  {
   "cell_type": "code",
   "execution_count": null,
   "metadata": {},
   "outputs": [],
   "source": [
    "# solution 2 findall\n",
    "import re\n",
    "test_string = '2 cats and 3 dogs.'\n",
    "pattern = r'\\d+'\n",
    "re.findall(pattern, test_string)"
   ]
  },
  {
   "cell_type": "markdown",
   "metadata": {},
   "source": [
    "## Question 56\n",
    "> ***Print a unicode string \"hello world\".***"
   ]
  },
  {
   "cell_type": "code",
   "execution_count": null,
   "metadata": {},
   "outputs": [],
   "source": [
    "u_string = u'Hello World'\n",
    "print(u_string)"
   ]
  },
  {
   "cell_type": "markdown",
   "metadata": {},
   "source": [
    "## Question 57\n",
    "> ***Write a program to read an ASCII string and to convert it to a unicode string encoded by utf-8.***"
   ]
  },
  {
   "cell_type": "code",
   "execution_count": null,
   "metadata": {},
   "outputs": [],
   "source": [
    "asii_string = 'hello world'\n",
    "u_string = asii_string.encode('utf-8')\n",
    "print(u_string)"
   ]
  },
  {
   "cell_type": "markdown",
   "metadata": {},
   "source": [
    "# Question 58\n",
    "> ***Write a special comment to indicate a Python source code file is in unicode.***"
   ]
  },
  {
   "cell_type": "code",
   "execution_count": null,
   "metadata": {},
   "outputs": [],
   "source": [
    "# -*- coding = utf-8 -*-"
   ]
  },
  {
   "cell_type": "markdown",
   "metadata": {},
   "source": [
    "# Question 59\n",
    "\n",
    ">***Write a program to compute 1/2+2/3+3/4+...+n/n+1 with a given n input by console (n>0).***\n",
    "\n",
    ">***Example:\n",
    ">If the following n is given as input to the program:***\n",
    "\n",
    "```\n",
    "5\n",
    "```\n",
    "\n",
    ">***Then, the output of the program should be:***\n",
    "\n",
    "```\n",
    "3.55\n",
    "```\n",
    "\n",
    ">***In case of input data being supplied to the question, it should be assumed to be a console input.***"
   ]
  },
  {
   "cell_type": "code",
   "execution_count": null,
   "metadata": {},
   "outputs": [],
   "source": [
    "from functools import reduce\n",
    "round(reduce(lambda x, y: x + y, [i/(i+1) for i in range(1,6)], 0),2)"
   ]
  },
  {
   "cell_type": "markdown",
   "metadata": {},
   "source": [
    "# Question 61\n",
    "\n",
    ">***The Fibonacci Sequence is computed based on the following formula:***\n",
    "\n",
    "```\n",
    "f(n)=0 if n=0\n",
    "f(n)=1 if n=1\n",
    "f(n)=f(n-1)+f(n-2) if n>1\n",
    "```\n",
    "\n",
    ">***Please write a program to compute the value of f(n) with a given n input by console.***\n",
    "\n",
    ">***Example:\n",
    ">If the following n is given as input to the program:***\n",
    "\n",
    "```\n",
    "7\n",
    "```\n",
    "\n",
    ">***Then, the output of the program should be:***\n",
    "\n",
    "```\n",
    "13\n",
    "```\n"
   ]
  },
  {
   "cell_type": "code",
   "execution_count": null,
   "metadata": {},
   "outputs": [],
   "source": [
    "def fibonacci(n): return n if n<=1 else fibonacci(n-1) + fibonacci(n-2)\n",
    "\n",
    "fibonacci(7)"
   ]
  },
  {
   "cell_type": "markdown",
   "metadata": {},
   "source": [
    "## Question 63\n",
    ">***Please write a program using generator to print the even numbers between 0 and n in comma separated form while n is input by console.***\n",
    "\n",
    ">***Example:\n",
    ">If the following n is given as input to the program:***\n",
    "\n",
    "```\n",
    "10\n",
    "```\n",
    "\n",
    ">***Then, the output of the program should be:***\n",
    "\n",
    "```\n",
    "0,2,4,6,8,10\n",
    "```\n"
   ]
  },
  {
   "cell_type": "code",
   "execution_count": null,
   "metadata": {},
   "outputs": [],
   "source": [
    "def even_gen(n):\n",
    "    for i in range(0, n+1):\n",
    "        if i % 2 == 0:\n",
    "            yield i\n",
    "            \n",
    "[i for i in even_gen(10)]"
   ]
  },
  {
   "cell_type": "markdown",
   "metadata": {},
   "source": [
    "## Question 65\n",
    ">***Please write assert statements to verify that every number in the list [2,4,6,8] is even.***"
   ]
  },
  {
   "cell_type": "code",
   "execution_count": null,
   "metadata": {},
   "outputs": [],
   "source": [
    "for i in [2,4,6,8]:\n",
    "    assert i%2==0, f'{i} is not even'"
   ]
  },
  {
   "cell_type": "markdown",
   "metadata": {},
   "source": [
    "# Question 67\n",
    "\n",
    ">***Please write a binary search function which searches an item in a sorted list. The function should return the index of element to be searched in the list.***"
   ]
  },
  {
   "cell_type": "code",
   "execution_count": null,
   "metadata": {},
   "outputs": [],
   "source": [
    "def binary_search(arr, target):\n",
    "    left, right = 0, len(arr)-1\n",
    "    while left< right:\n",
    "        mid = (left + right) // 2\n",
    "        if arr[mid] == target:\n",
    "            return mid\n",
    "        if arr[mid] > target:\n",
    "            right = mid - 1\n",
    "        else:\n",
    "            left = mid + 1\n",
    "    return 'not found'\n",
    "\n",
    "binary_search([1,2,4,5], 3)"
   ]
  },
  {
   "cell_type": "markdown",
   "metadata": {},
   "source": [
    "# Question 68\n",
    ">***Please generate a random float where the value is between 10 and 100 using Python module.***"
   ]
  },
  {
   "cell_type": "code",
   "execution_count": null,
   "metadata": {},
   "outputs": [],
   "source": [
    "import random\n",
    "print(100 * random.random())"
   ]
  },
  {
   "cell_type": "markdown",
   "metadata": {},
   "source": [
    "# Question 69\n",
    ">***Please generate a random float where the value is between 5 and 95 using Python module.***"
   ]
  },
  {
   "cell_type": "code",
   "execution_count": null,
   "metadata": {},
   "outputs": [],
   "source": [
    "import random\n",
    "print(random.uniform(9,95))"
   ]
  },
  {
   "cell_type": "markdown",
   "metadata": {},
   "source": [
    "# Question 70\n",
    ">***Please write a program to output a random even number between 0 and 10 inclusive using random module and list comprehension.***"
   ]
  },
  {
   "cell_type": "code",
   "execution_count": null,
   "metadata": {},
   "outputs": [],
   "source": [
    "import random\n",
    "random.choice([i for i in range(0,11) if i % 2==0])"
   ]
  },
  {
   "cell_type": "markdown",
   "metadata": {},
   "source": [
    "# Question 71\n",
    ">***Please write a program to output a random number, which is divisible by 5 and 7, between 10 and 150 inclusive using random module and list comprehension.***"
   ]
  },
  {
   "cell_type": "code",
   "execution_count": null,
   "metadata": {},
   "outputs": [],
   "source": [
    "import random\n",
    "random.choice([i for i in range(10,151) if i%35==0])"
   ]
  },
  {
   "cell_type": "markdown",
   "metadata": {},
   "source": [
    "# Question 72\n",
    ">***Please write a program to generate a list with 5 random numbers between 100 and 200 inclusive.***"
   ]
  },
  {
   "cell_type": "code",
   "execution_count": null,
   "metadata": {},
   "outputs": [],
   "source": [
    "import random\n",
    "random.sample(range(100,201),5)"
   ]
  },
  {
   "cell_type": "markdown",
   "metadata": {},
   "source": [
    "# Question 75\n",
    ">***Please write a program to randomly print a integer number between 7 and 15 inclusive.***"
   ]
  },
  {
   "cell_type": "code",
   "execution_count": null,
   "metadata": {},
   "outputs": [],
   "source": [
    "import random\n",
    "random.randrange(7,16)"
   ]
  },
  {
   "cell_type": "markdown",
   "metadata": {},
   "source": [
    "# Question 76\n",
    ">***Please write a program to compress and decompress the string \"hello world!hello world!hello world!hello world!\".***"
   ]
  },
  {
   "cell_type": "code",
   "execution_count": null,
   "metadata": {},
   "outputs": [],
   "source": [
    "test_string = b'hello world!hello world!hello world!hello world!'\n",
    "import zlib\n",
    "compressed = zlib.compress(test_string)\n",
    "print(compressed)\n",
    "print(zlib.decompress(compressed))\n",
    "import sys\n",
    "print(f'orignal: {sys.getsizeof(test_string)}, compressed: {sys.getsizeof(compressed)}')"
   ]
  },
  {
   "cell_type": "markdown",
   "metadata": {},
   "source": [
    "# Question 77\n",
    ">***Please write a program to print the running time of execution of \"1+1\" for 100 times.***"
   ]
  },
  {
   "cell_type": "code",
   "execution_count": null,
   "metadata": {},
   "outputs": [],
   "source": [
    "# solution 1: megic word in jupyter\n",
    "%timeit for i in range(100): 1 + 1"
   ]
  },
  {
   "cell_type": "code",
   "execution_count": null,
   "metadata": {},
   "outputs": [],
   "source": [
    "# solution 2: timeit()\n",
    "import time\n",
    "start = time.time()\n",
    "for i in range(100): 1 + 1\n",
    "end = time.time()\n",
    "print(end - start)"
   ]
  },
  {
   "cell_type": "code",
   "execution_count": null,
   "metadata": {},
   "outputs": [],
   "source": [
    "# solution 3: datetime.datetime.now()\n",
    "import datetime\n",
    "\n",
    "before = datetime.datetime.now()\n",
    "for i in range(100):\n",
    "    x = 1 + 1\n",
    "after = datetime.datetime.now()\n",
    "execution_time = after - before\n",
    "print(execution_time.microseconds)"
   ]
  },
  {
   "cell_type": "markdown",
   "metadata": {},
   "source": [
    "# Question 78\n",
    ">***Please write a program to shuffle and print the list [3,6,7,8].***"
   ]
  },
  {
   "cell_type": "code",
   "execution_count": null,
   "metadata": {},
   "outputs": [],
   "source": [
    "import random\n",
    "test_list = [3,6,7,8]\n",
    "random.shuffle(test_list) # shuffle on the original list\n",
    "print(test_list)"
   ]
  },
  {
   "cell_type": "markdown",
   "metadata": {},
   "source": [
    "# Question 79\n",
    ">***Please write a program to generate all sentences where subject is in [\"I\", \"You\"] and verb is in [\"Play\", \"Love\"] and the object is in [\"Hockey\",\"Football\"].***"
   ]
  },
  {
   "cell_type": "code",
   "execution_count": null,
   "metadata": {},
   "outputs": [],
   "source": [
    "[' '.join([x,y,z]) for x in ['I', 'You'] for y in ['Play', 'Love'] for z in ['Hockey', 'Football']]"
   ]
  },
  {
   "cell_type": "markdown",
   "metadata": {},
   "source": [
    "## Question 82\n",
    ">***By using list comprehension, please write a program to print the list after removing the 0th, 2nd, 4th,6th numbers in [12,24,35,70,88,120,155].***"
   ]
  },
  {
   "cell_type": "code",
   "execution_count": null,
   "metadata": {},
   "outputs": [],
   "source": [
    "# solution 1\n",
    "test_list = [12,24,35,70,88,120,155]\n",
    "test_list[::2]"
   ]
  },
  {
   "cell_type": "code",
   "execution_count": null,
   "metadata": {},
   "outputs": [],
   "source": [
    "# solution 2\n",
    "test_list = [12,24,35,70,88,120,155]\n",
    "[ value for index, value in enumerate(test_list) if index%2 == 0]"
   ]
  },
  {
   "cell_type": "markdown",
   "metadata": {},
   "source": [
    "## Question 87\n",
    ">***With two given lists [1,3,6,78,35,55] and [12,24,35,24,88,120,155], write a program to make a list whose elements are intersection of the above given lists.***"
   ]
  },
  {
   "cell_type": "code",
   "execution_count": null,
   "metadata": {},
   "outputs": [],
   "source": [
    "set1 = set([1,3,6,78,35,55])\n",
    "set2 = set([12,24,35,24,88,120,155])\n",
    "# use operator\n",
    "result = set1 & set2 \n",
    "# use method\n",
    "set1.intersection(set2)"
   ]
  },
  {
   "cell_type": "markdown",
   "metadata": {},
   "source": [
    "## Question 93\n",
    ">***Please write a program which prints all permutations of [1,2,3]***"
   ]
  },
  {
   "cell_type": "code",
   "execution_count": null,
   "metadata": {},
   "outputs": [],
   "source": [
    "from itertools import permutations\n",
    "test_list = [1,2,3]\n",
    "list(permutations(test_list))"
   ]
  },
  {
   "cell_type": "markdown",
   "metadata": {},
   "source": [
    "## Question 96\n",
    "\n",
    ">***You are given a string S and width W.\n",
    ">Your task is to wrap the string into a paragraph of width.***\n",
    "\n",
    ">***If the following string is given as input to the program:***\n",
    ">\n",
    ">```\n",
    ">ABCDEFGHIJKLIMNOQRSTUVWXYZ\n",
    ">4\n",
    ">```\n",
    ">\n",
    ">***Then, the output of the program should be:***\n",
    ">\n",
    ">```\n",
    ">ABCD\n",
    ">EFGH\n",
    ">IJKL\n",
    ">IMNO\n",
    ">QRST\n",
    ">UVWX\n",
    ">YZ\n",
    ">```\n"
   ]
  },
  {
   "cell_type": "code",
   "execution_count": null,
   "metadata": {},
   "outputs": [],
   "source": [
    "import textwrap\n",
    "\n",
    "test_string = 'ABCDEFGHIJKLIMNOQRSTUVWXYZ'\n",
    "# cut the string by each 4 letters\n",
    "print(textwrap.wrap(test_string,4))\n"
   ]
  },
  {
   "cell_type": "markdown",
   "metadata": {},
   "source": [
    "## Question 97\n",
    ">***You are given an integer, N. Your task is to print an alphabet rangoli of size N. (Rangoli is a form of Indian folk art based on creation of patterns.)***\n",
    "\n",
    ">***Different sizes of alphabet rangoli are shown below:***\n",
    ">\n",
    ">```\n",
    ">#size 3\n",
    ">\n",
    ">----c----\n",
    ">--c-b-c--\n",
    ">c-b-a-b-c\n",
    ">--c-b-c--\n",
    ">----c----\n",
    ">\n",
    ">#size 5\n",
    ">\n",
    ">--------e--------\n",
    ">------e-d-e------\n",
    ">----e-d-c-d-e----\n",
    ">--e-d-c-b-c-d-e--\n",
    ">e-d-c-b-a-b-c-d-e\n",
    ">--e-d-c-b-c-d-e--\n",
    ">----e-d-c-d-e----\n",
    ">------e-d-e------\n",
    ">--------e--------\n",
    ">```"
   ]
  },
  {
   "cell_type": "code",
   "execution_count": null,
   "metadata": {},
   "outputs": [],
   "source": [
    "def rangoli(n):\n",
    "    result = []\n",
    "    alphatable = [chr(97 + i) for i in range(26)]\n",
    "    for i in range(1,n+1):\n",
    "        count_letter = 2*n -1\n",
    "        buffer = 2*(n - i) * \"-\"\n",
    "        letters = \"-\".join(alphatable[n-i:n] + alphatable[n-i:n-1][::-1])\n",
    "        row = buffer + letters + buffer\n",
    "        result.append(row)\n",
    "    result+= result[-2::-1]\n",
    "    print('\\n'.join(result))\n",
    "                           \n",
    "rangoli(3)\n",
    "rangoli(5)"
   ]
  },
  {
   "cell_type": "markdown",
   "metadata": {},
   "source": [
    "## Question 98\n",
    ">***You are given a date. Your task is to find what the day is on that date.***\n",
    "\n",
    "**Input**\n",
    "\n",
    ">***A single line of input containing the space separated month, day and year, respectively, in MM DD YYYY format.***\n",
    ">\n",
    ">```\n",
    ">08 05 2015\n",
    ">```\n",
    "\n",
    "\n",
    "**Output**\n",
    "\n",
    ">***Output the correct day in capital letters.***\n",
    ">\n",
    ">```\n",
    ">WEDNESDAY\n",
    ">```"
   ]
  },
  {
   "cell_type": "code",
   "execution_count": null,
   "metadata": {},
   "outputs": [],
   "source": [
    "import calendar\n",
    "\n",
    "year, month, day = 2020, 10, 13\n",
    "# dayId is begin at 0 to 6\n",
    "dayId = calendar.weekday(year, month, day)\n",
    "# day_name is the dictionary of Weeday name\n",
    "print(calendar.day_name[dayId].upper())"
   ]
  },
  {
   "cell_type": "markdown",
   "metadata": {},
   "source": [
    "## Question 99\n",
    ">***Given 2 sets of integers, M and N, print their symmetric difference in ascending order. The term symmetric difference indicates those values that exist in either M or N but do not exist in both.***\n",
    "\n",
    "**Input**\n",
    "\n",
    ">***The first line of input contains an integer, M.The second line contains M space-separated integers.The third line contains an integer, N.The fourth line contains N space-separated integers.***\n",
    ">\n",
    ">```\n",
    ">4\n",
    ">2 4 5 9\n",
    ">4\n",
    ">2 4 11 12\n",
    ">```\n",
    "\n",
    "**Output**\n",
    "\n",
    ">***Output the symmetric difference integers in ascending order, one per line.***\n",
    ">\n",
    ">```\n",
    ">5\n",
    ">9\n",
    ">11\n",
    ">12\n",
    ">```"
   ]
  },
  {
   "cell_type": "code",
   "execution_count": null,
   "metadata": {},
   "outputs": [],
   "source": [
    "set1 = set([2,4,5,9])\n",
    "set2 = set([2,4,11,12])\n",
    "set1 ^ set2"
   ]
  },
  {
   "cell_type": "markdown",
   "metadata": {},
   "source": [
    "## Question 100\n",
    "***You are given  words. Some words may repeat. For each word, output its number of occurrences. The output order should correspond with the input order of appearance of the word. See the sample input/output for clarification.***\n",
    "\n",
    "***If the following string is given as input to the program:***\n",
    "\n",
    "```\n",
    "4\n",
    "bcdef\n",
    "abcdefg\n",
    "bcde\n",
    "bcdef\n",
    "```\n",
    "\n",
    "***Then, the output of the program should be:***\n",
    "\n",
    "```\n",
    "3\n",
    "2 1 1\n",
    "```\n",
    " "
   ]
  },
  {
   "cell_type": "code",
   "execution_count": null,
   "metadata": {},
   "outputs": [],
   "source": [
    "from collections import OrderedDict\n",
    "def count_word(arr):\n",
    "    output_dict = OrderedDict()\n",
    "    for _ in arr:\n",
    "        if _ not in output_dict:\n",
    "            output_dict[_] = 1\n",
    "        else:\n",
    "            output_dict[_] += 1\n",
    "    return output_dict\n"
   ]
  },
  {
   "cell_type": "code",
   "execution_count": null,
   "metadata": {},
   "outputs": [],
   "source": [
    "# test\n",
    "test_arr = ['bcdef', 'abcdefg', 'bcde', 'bcdef']\n",
    "count_word(test_arr)"
   ]
  },
  {
   "cell_type": "markdown",
   "metadata": {},
   "source": [
    "## Question 101\n",
    ">***You are given a string. Your task is to count the frequency of letters of the string and print the letters in descending order of frequency.***\n",
    "\n",
    ">***If the following string is given as input to the program:***\n",
    ">\n",
    ">```\n",
    ">aabbbccde\n",
    ">```\n",
    ">\n",
    ">***Then, the output of the program should be:***\n",
    ">\n",
    ">```\n",
    ">b 3\n",
    ">a 2\n",
    ">c 2\n",
    ">d 1\n",
    ">e 1\n",
    ">```\n"
   ]
  },
  {
   "cell_type": "markdown",
   "metadata": {},
   "source": [
    "**Note**\n",
    "1. dict.get('key',0)\n",
    "2. sort(iter, key=lambda x: (-x[1], x[0])"
   ]
  },
  {
   "cell_type": "code",
   "execution_count": null,
   "metadata": {},
   "outputs": [],
   "source": [
    "def count_letter(my_str):\n",
    "    letter_dict = {}\n",
    "    output = []\n",
    "    for letter in my_str:\n",
    "        letter_dict[letter] = letter_dict.get(letter, 0) + 1\n",
    "    return sorted(letter_dict.items(), key=lambda x: (-x[1], x[0]))\n",
    "        "
   ]
  },
  {
   "cell_type": "code",
   "execution_count": null,
   "metadata": {},
   "outputs": [],
   "source": [
    "# test\n",
    "count_letter('aabbbccde')"
   ]
  },
  {
   "cell_type": "code",
   "execution_count": null,
   "metadata": {},
   "outputs": [],
   "source": [
    "# solution 2\n",
    "test_str = 'aabbbccde'\n",
    "from collections import Counter\n",
    "cou = Counter(test_str).items()\n",
    "sorted(cou, key=lambda x:(-x[1], x[0]))"
   ]
  },
  {
   "cell_type": "markdown",
   "metadata": {},
   "source": [
    "## Question 102\n",
    "\n",
    "### **Question**\n",
    "\n",
    ">***Write a Python program that accepts a string and calculate the number of digits and letters.***\n",
    "\n",
    "**Input**\n",
    "\n",
    ">```\n",
    ">Hello321Bye360\n",
    ">```\n",
    "\n",
    "**Output**\n",
    "\n",
    ">```\n",
    ">Digit - 6\n",
    ">Letter - 8\n",
    ">```\n"
   ]
  },
  {
   "cell_type": "code",
   "execution_count": null,
   "metadata": {},
   "outputs": [],
   "source": [
    "def count_alpha_digit(my_str):\n",
    "    result = {}\n",
    "    for _ in my_str:\n",
    "        if _.isalpha():\n",
    "            result['alpha'] = result.get('alpha', 0) + 1\n",
    "        if _.isdigit():\n",
    "            result['digit']= result.get('digit', 0) + 1\n",
    "    print(f'Digit - {result[\"digit\"]}')\n",
    "    print(f'Letter - {result[\"alpha\"]}')\n",
    "    \n",
    "    return \n",
    "        "
   ]
  },
  {
   "cell_type": "code",
   "execution_count": null,
   "metadata": {},
   "outputs": [],
   "source": [
    "# test\n",
    "count_alpha_digit('Hello321Bye360')"
   ]
  },
  {
   "cell_type": "markdown",
   "metadata": {},
   "source": [
    "## Question 103\n",
    "\n",
    "### **Question**\n",
    "\n",
    ">***Given a number N. Find Sum of 1 to N Using Recursion***\n",
    "\n",
    "**Input**\n",
    "\n",
    ">```\n",
    ">5\n",
    ">```\n",
    "\n",
    "**Output**\n",
    "\n",
    ">```\n",
    ">15\n",
    ">```"
   ]
  },
  {
   "cell_type": "code",
   "execution_count": null,
   "metadata": {},
   "outputs": [],
   "source": [
    "def sum_recurstion(n): return 0 if n == 0 else n + sum_recurstion(n-1)\n",
    "\n",
    "sum_recurstion(5)"
   ]
  },
  {
   "cell_type": "markdown",
   "metadata": {},
   "source": [
    "# Hackerrank Python Practices"
   ]
  },
  {
   "cell_type": "markdown",
   "metadata": {},
   "source": [
    "* [Sales by Match](https://www.hackerrank.com/challenges/sock-merchant/problem?h_l=interview&playlist_slugs%5B%5D=interview-preparation-kit&playlist_slugs%5B%5D=warmup)\n",
    "* [Repeated String](https://www.hackerrank.com/challenges/repeated-string/problem?h_l=interview&playlist_slugs%5B%5D=interview-preparation-kit&playlist_slugs%5B%5D=warmup)\n",
    "* [Counting Valleys](https://www.hackerrank.com/challenges/counting-valleys/problem?h_l=interview&playlist_slugs%5B%5D=interview-preparation-kit&playlist_slugs%5B%5D=warmup)\n",
    "* [Jumping on Clouds](https://www.hackerrank.com/challenges/jumping-on-the-clouds/problem?h_l=interview&playlist_slugs%5B%5D=interview-preparation-kit&playlist_slugs%5B%5D=warmup)\n",
    "* [Draw Books](https://www.hackerrank.com/challenges/drawing-book/problem?utm_campaign=challenge-recommendation&utm_medium=email&utm_source=24-hour-campaign)\n",
    "* [Equalize the Array](https://www.hackerrank.com/challenges/equality-in-a-array/problem?utm_campaign=challenge-recommendation&utm_medium=email&utm_source=24-hour-campaign)\n",
    "* [Tauma D'days](https://www.hackerrank.com/challenges/taum-and-bday/problem?utm_campaign=challenge-recommendation&utm_medium=email&utm_source=24-hour-campaign)"
   ]
  },
  {
   "cell_type": "code",
   "execution_count": null,
   "metadata": {},
   "outputs": [],
   "source": [
    "'aaa'.count('a')"
   ]
  },
  {
   "cell_type": "code",
   "execution_count": null,
   "metadata": {},
   "outputs": [],
   "source": []
  }
 ],
 "metadata": {
  "kernelspec": {
   "display_name": "Python 3.8.3 64-bit",
   "language": "python",
   "name": "python38364bit51df7958d433420c82d5985973c1ae91"
  },
  "language_info": {
   "codemirror_mode": {
    "name": "ipython",
    "version": 3
   },
   "file_extension": ".py",
   "mimetype": "text/x-python",
   "name": "python",
   "nbconvert_exporter": "python",
   "pygments_lexer": "ipython3",
   "version": "3.8.3"
  }
 },
 "nbformat": 4,
 "nbformat_minor": 4
}
