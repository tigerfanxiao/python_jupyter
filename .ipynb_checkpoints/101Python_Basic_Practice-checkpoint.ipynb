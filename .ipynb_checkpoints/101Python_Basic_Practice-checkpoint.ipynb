{
 "cells": [
  {
   "cell_type": "markdown",
   "metadata": {},
   "source": [
    "# <font color=\"blue\"> Python 100 Practice </font>"
   ]
  },
  {
   "cell_type": "markdown",
   "metadata": {},
   "source": [
    "## Question 1\n",
    "\n",
    "> ***Write a program which will find all such numbers which are divisible by 7 but are not a multiple of 5,\n",
    "> between 2000 and 3200 (both included).The numbers obtained should be printed in a comma-separated sequence on a single line.***\n",
    "\n",
    "Python Notes: \n",
    "* use of `map` function\n",
    "* Python comprehension list with if condition"
   ]
  },
  {
   "cell_type": "code",
   "execution_count": 1,
   "metadata": {},
   "outputs": [
    {
     "data": {
      "text/plain": [
       "'2002,2009,2016,2023,2037,2044,2051,2058,2072,2079,2086,2093,2107,2114,2121,2128,2142,2149,2156,2163,2177,2184,2191,2198,2212,2219,2226,2233,2247,2254,2261,2268,2282,2289,2296,2303,2317,2324,2331,2338,2352,2359,2366,2373,2387,2394,2401,2408,2422,2429,2436,2443,2457,2464,2471,2478,2492,2499,2506,2513,2527,2534,2541,2548,2562,2569,2576,2583,2597,2604,2611,2618,2632,2639,2646,2653,2667,2674,2681,2688,2702,2709,2716,2723,2737,2744,2751,2758,2772,2779,2786,2793,2807,2814,2821,2828,2842,2849,2856,2863,2877,2884,2891,2898,2912,2919,2926,2933,2947,2954,2961,2968,2982,2989,2996,3003,3017,3024,3031,3038,3052,3059,3066,3073,3087,3094,3101,3108,3122,3129,3136,3143,3157,3164,3171,3178,3192,3199'"
      ]
     },
     "execution_count": 1,
     "metadata": {},
     "output_type": "execute_result"
    }
   ],
   "source": [
    "result = [i for i in range(2000, 3201) if i%7==0 and i%5!=0]\n",
    "\",\".join(map(str,result))"
   ]
  },
  {
   "cell_type": "markdown",
   "metadata": {},
   "source": [
    "## Question 2\n",
    "> ***Write a program which can compute the factorial of a given numbers. The results should be printed in a comma-separated sequence on a single line. Suppose the following input is supplied to the program: 8\n",
    "> Then, the output should be:40320***\n",
    "\n",
    "Python Note: \n",
    "* recursion"
   ]
  },
  {
   "cell_type": "code",
   "execution_count": null,
   "metadata": {},
   "outputs": [],
   "source": [
    "# solution 1: recursion\n",
    "def facotrial(n): return 1 if n==0 else n*facotrial(n-1)"
   ]
  },
  {
   "cell_type": "code",
   "execution_count": null,
   "metadata": {},
   "outputs": [],
   "source": [
    "# test\n",
    "facotrial(8)"
   ]
  },
  {
   "cell_type": "code",
   "execution_count": null,
   "metadata": {},
   "outputs": [],
   "source": [
    "# solution 2: while loop\n",
    "def factorial_loop(n):\n",
    "    result = 1\n",
    "    while n >0:\n",
    "        result *= n\n",
    "        n = n -1\n",
    "    return result    "
   ]
  },
  {
   "cell_type": "code",
   "execution_count": null,
   "metadata": {},
   "outputs": [],
   "source": [
    "factorial_loop(8)"
   ]
  },
  {
   "cell_type": "markdown",
   "metadata": {},
   "source": [
    "### Reduce \n",
    "* `reduce` is in packege functools\n",
    "* `reduce(acc, list, init)`\n",
    "* `acc` contains a lambda function which describe the calculation of the first two element in the iterable objects\n",
    "* when we got the result of first two element, we will process the previous result with the third element, keep this logic to the end of list\n",
    "* `init` is the initial value for the acc before we process the list. \n"
   ]
  },
  {
   "cell_type": "code",
   "execution_count": null,
   "metadata": {},
   "outputs": [],
   "source": [
    "# solution 3: reduce\n",
    "from functools import reduce\n",
    "def factorial_reduce(n):\n",
    "    return reduce(lambda x, y: x * y, range(1,n+1), 1)"
   ]
  },
  {
   "cell_type": "code",
   "execution_count": null,
   "metadata": {},
   "outputs": [],
   "source": [
    "# test\n",
    "factorial_reduce(8)"
   ]
  },
  {
   "cell_type": "markdown",
   "metadata": {},
   "source": [
    "## Question 3\n",
    "\n",
    ">***With a given integral number n, write a program to generate a dictionary that contains (i, i x i) such that is an integral number between 1 and n (both included). and then the program should print the dictionary. Suppose the following input is supplied to the program: 8***\n",
    ">***Then, the output should be:***\n",
    "\n",
    "```\n",
    "{1: 1, 2: 4, 3: 9, 4: 16, 5: 25, 6: 36, 7: 49, 8: 64}\n",
    "```"
   ]
  },
  {
   "cell_type": "code",
   "execution_count": 1,
   "metadata": {},
   "outputs": [
    {
     "name": "stdout",
     "output_type": "stream",
     "text": [
      "{1: 1, 2: 4, 3: 9, 4: 16, 5: 25, 6: 36, 7: 49, 8: 64}\n"
     ]
    }
   ],
   "source": [
    "result = {x:x**2 for x in range(1,9)}\n",
    "print(result)"
   ]
  },
  {
   "cell_type": "markdown",
   "metadata": {},
   "source": [
    "## Question 4\n",
    ">***Write a program which accepts a sequence of comma-separated numbers from console and generate a list and a tuple which contains every number. Suppose the following input is supplied to the program:***\n",
    "\n",
    "```\n",
    "34,67,55,33,12,98\n",
    "```\n",
    "\n",
    "\n",
    ">***Then, the output should be:***\n",
    "\n",
    "```\n",
    "['34', '67', '55', '33', '12', '98']\n",
    "('34', '67', '55', '33', '12', '98')\n",
    "```"
   ]
  },
  {
   "cell_type": "code",
   "execution_count": null,
   "metadata": {},
   "outputs": [],
   "source": [
    "# test \n",
    "input_str = '34,67,55,33,12,98'\n",
    "result = input_str.split(',')\n",
    "print(result)\n",
    "print(tuple(result))"
   ]
  },
  {
   "cell_type": "markdown",
   "metadata": {},
   "source": [
    "## Question 5\n",
    ">***Define a class which has at least two methods:***\n",
    ">\n",
    ">* ***getString: to get a string from console input*** \n",
    ">* ***printString: to print the string in upper case.*** \n",
    "\n",
    ">***Also please include simple test function to test the class methods.***\n"
   ]
  },
  {
   "cell_type": "code",
   "execution_count": null,
   "metadata": {},
   "outputs": [],
   "source": [
    "class Foo5():\n",
    "    def __init__(self):\n",
    "        self.input_str = ''\n",
    "        \n",
    "    def getString(self):\n",
    "        self.input_str = input(\"please input something: \")\n",
    "    \n",
    "    def printString(self):\n",
    "        print(self.input_str.upper())"
   ]
  },
  {
   "cell_type": "code",
   "execution_count": null,
   "metadata": {},
   "outputs": [],
   "source": [
    "# test\n",
    "foo5 = Foo5()\n",
    "foo5.getString()\n",
    "foo5.printString()"
   ]
  },
  {
   "cell_type": "markdown",
   "metadata": {},
   "source": [
    "## Question 6\n",
    ">***Write a program that calculates and prints the value according to the given formula:***\n",
    ">***Q = Square root of [(2 * C * D)/H]***\n",
    ">***Following are the fixed values of C and H:***\n",
    ">***C is 50. H is 30.***\n",
    ">***D is the variable whose values should be input to your program in a comma-separated sequence.For example\n",
    ">Let us assume the following comma separated input sequence is given to the program:***\n",
    "```\n",
    "100,150,180\n",
    "```\n",
    ">***The output of the program should be:***\n",
    "```\n",
    "18,22,24\n",
    "```"
   ]
  },
  {
   "cell_type": "code",
   "execution_count": null,
   "metadata": {},
   "outputs": [],
   "source": [
    "from math import sqrt\n",
    "\n",
    "def sqrt_root(arr):\n",
    "    C = 50\n",
    "    H = 30\n",
    "    input_list = map(int,arr.split(','))\n",
    "    return [int(sqrt(2*C*i/H)) for i in input_list]"
   ]
  },
  {
   "cell_type": "code",
   "execution_count": null,
   "metadata": {},
   "outputs": [],
   "source": [
    "# test\n",
    "sqrt_root('100,150,180')"
   ]
  },
  {
   "cell_type": "markdown",
   "metadata": {},
   "source": [
    "## Question 7\n",
    ">***Write a program which takes 2 digits, X,Y as input and generates a 2-dimensional array. The element value in the i-th row and j-th column of the array should be i * j.***\n",
    ">***Note: i=0,1.., X-1; j=0,1,¡­Y-1. Suppose the following inputs are given to the program: 3,5***\n",
    ">***Then, the output of the program should be:***\n",
    "```\n",
    "[[0, 0, 0, 0, 0], [0, 1, 2, 3, 4], [0, 2, 4, 6, 8]]\n",
    "```"
   ]
  },
  {
   "cell_type": "code",
   "execution_count": null,
   "metadata": {},
   "outputs": [],
   "source": [
    "def generate2Darray(row, col):\n",
    "    return [[i * j for j in range(col)] for i in range(row)]\n"
   ]
  },
  {
   "cell_type": "code",
   "execution_count": null,
   "metadata": {},
   "outputs": [],
   "source": [
    "# test\n",
    "generate2Darray(3,5)"
   ]
  },
  {
   "cell_type": "markdown",
   "metadata": {},
   "source": [
    "## Question 8\n",
    ">***Write a program that accepts a comma separated sequence of words as input and prints the words in a comma-separated sequence after sorting them alphabetically.***\n",
    "\n",
    ">***Suppose the following input is supplied to the program:***\n",
    "\n",
    "```\n",
    "without,hello,bag,world\n",
    "```\n",
    "\n",
    ">***Then, the output should be:***\n",
    "\n",
    "```\n",
    "bag,hello,without,world\n",
    "```"
   ]
  },
  {
   "cell_type": "code",
   "execution_count": null,
   "metadata": {},
   "outputs": [],
   "source": [
    "def sort_string(my_str):\n",
    "    str_list = my_str.split(',')\n",
    "    return ','.join(sorted(str_list))"
   ]
  },
  {
   "cell_type": "code",
   "execution_count": null,
   "metadata": {},
   "outputs": [],
   "source": [
    "# test\n",
    "input_string = 'without,hello,bag,world'\n",
    "sort_string(input_string)"
   ]
  },
  {
   "cell_type": "markdown",
   "metadata": {},
   "source": [
    "## Question 9\n",
    ">***Write a program that accepts sequence of lines as input and prints the lines after making all characters in the sentence capitalized.***\n",
    "\n",
    ">***Suppose the following input is supplied to the program:***\n",
    "\n",
    "```\n",
    "Hello world\n",
    "Practice makes perfect\n",
    "```\n",
    "\n",
    ">***Then, the output should be:***\n",
    "\n",
    "```\n",
    "HELLO WORLD\n",
    "PRACTICE MAKES PERFECT\n",
    "```"
   ]
  },
  {
   "cell_type": "code",
   "execution_count": null,
   "metadata": {},
   "outputs": [],
   "source": [
    "# test \n",
    "input_lines = '''\n",
    "Hello world\n",
    "Practice makes perfect'''\n",
    "print(input_lines.upper())"
   ]
  },
  {
   "cell_type": "markdown",
   "metadata": {},
   "source": [
    "## Question 10\n",
    ">***Write a program that accepts a sequence of whitespace separated words as input and prints the words after removing all duplicate words and sorting them alphanumerically.***\n",
    "\n",
    ">***Suppose the following input is supplied to the program:***\n",
    "\n",
    "```\n",
    "hello world and practice makes perfect and hello world again\n",
    "```\n",
    "\n",
    ">***Then, the output should be:***\n",
    "\n",
    "```\n",
    "again and hello makes perfect practice world\n",
    "```"
   ]
  },
  {
   "cell_type": "code",
   "execution_count": null,
   "metadata": {},
   "outputs": [],
   "source": [
    "def sort_word(words_str):\n",
    "    return ' '.join(sorted(list(set(words_str.split()))))"
   ]
  },
  {
   "cell_type": "code",
   "execution_count": null,
   "metadata": {},
   "outputs": [],
   "source": [
    "sort_word('hello world and practice makes perfect and hello world again')"
   ]
  },
  {
   "cell_type": "markdown",
   "metadata": {},
   "source": [
    "## Question 11\n",
    ">***Write a program which accepts a sequence of comma separated 4 digit binary numbers as its input and then check whether they are divisible by 5 or not. The numbers that are divisible by 5 are to be printed in a comma separated sequence.***\n",
    ">***Example:***\n",
    "\n",
    "```\n",
    "0100,0011,1010,1001\n",
    "```\n",
    ">***Then the output should be:***\n",
    "```\n",
    "1010\n",
    "```"
   ]
  },
  {
   "cell_type": "code",
   "execution_count": null,
   "metadata": {},
   "outputs": [],
   "source": [
    "def divide5(str_list): return [_ for _ in str_list.split(',') if int(_, 2)%5==0]"
   ]
  },
  {
   "cell_type": "code",
   "execution_count": null,
   "metadata": {},
   "outputs": [],
   "source": [
    "# test\n",
    "integer_list = '0100,0011,1010,1001'\n",
    "divide5(integer_list)"
   ]
  },
  {
   "cell_type": "markdown",
   "metadata": {},
   "source": [
    "### filter \n",
    "* filter(lambda, input_list)\n",
    "* return a **filter object**, can change to list by list()"
   ]
  },
  {
   "cell_type": "code",
   "execution_count": null,
   "metadata": {},
   "outputs": [],
   "source": [
    "def divide5filter(str_list):\n",
    "    return list(filter(lambda x: int(x,2) % 5 ==0,str_list.split(',')))"
   ]
  },
  {
   "cell_type": "code",
   "execution_count": null,
   "metadata": {},
   "outputs": [],
   "source": [
    "# test\n",
    "integer_list = '0100,0011,1010,1001'\n",
    "divide5filter(integer_list)"
   ]
  },
  {
   "cell_type": "markdown",
   "metadata": {},
   "source": [
    "## Question 12\n",
    ">***Write a program, which will find all such numbers between 1000 and 3000 (both included) such that each digit of the number is an even number.The numbers obtained should be printed in a comma-separated sequence on a single line.***\n",
    "\n"
   ]
  },
  {
   "cell_type": "code",
   "execution_count": null,
   "metadata": {},
   "outputs": [],
   "source": [
    "# solution1 use break\n",
    "def get_even_digit(begin, end):\n",
    "    result = []\n",
    "    for n in range(begin, end+1):\n",
    "        for digit in str(n):\n",
    "            if int(digit)%2!= 0:\n",
    "                break\n",
    "        else:\n",
    "            result.append(n)\n",
    "    return result"
   ]
  },
  {
   "cell_type": "code",
   "execution_count": null,
   "metadata": {},
   "outputs": [],
   "source": [
    "\",\".join(map(str, get_even_digit(1000,3000)))"
   ]
  },
  {
   "cell_type": "code",
   "execution_count": null,
   "metadata": {},
   "outputs": [],
   "source": [
    "# solution2 use filter\n",
    "def filter_ever_digit(begin, end):\n",
    "    input_list = map(str, list(range(begin, end + 1)))\n",
    "    return list(filter(lambda x:all([int(digit)%2==0 for digit in x]), input_list))"
   ]
  },
  {
   "cell_type": "code",
   "execution_count": null,
   "metadata": {},
   "outputs": [],
   "source": [
    "\",\".join(map(str, filter_ever_digit(2000,3000)))"
   ]
  },
  {
   "cell_type": "markdown",
   "metadata": {},
   "source": [
    "## Question 13\n",
    ">***Write a program that accepts a sentence and calculate the number of letters and digits.***\n",
    "\n",
    ">***Suppose the following input is supplied to the program:***\n",
    "\n",
    "```\n",
    "hello world! 123\n",
    "```\n",
    "\n",
    ">***Then, the output should be:***\n",
    "\n",
    "```\n",
    "LETTERS 10\n",
    "DIGITS 3\n",
    "```"
   ]
  },
  {
   "cell_type": "code",
   "execution_count": null,
   "metadata": {},
   "outputs": [],
   "source": [
    "def count_alpha_digit(my_str):\n",
    "    count_letter = 0\n",
    "    count_digit = 0\n",
    "    for _ in my_str:\n",
    "        if _.isalpha():\n",
    "            count_letter += 1\n",
    "        if _.isdigit():\n",
    "            count_digit += 1\n",
    "    print(f'LETTERS {count_letter}\\nDIGITS {count_digit}')"
   ]
  },
  {
   "cell_type": "code",
   "execution_count": null,
   "metadata": {},
   "outputs": [],
   "source": [
    "# test\n",
    "test_words = 'hello world! 123'\n",
    "count_alpha_digit(test_words)"
   ]
  },
  {
   "cell_type": "code",
   "execution_count": null,
   "metadata": {},
   "outputs": [],
   "source": [
    "# solution 2: 0 + True = 1\n",
    "my_string = 'hello world! 123'\n",
    "num_char, num_digit = 0, 0\n",
    "for char in my_string:\n",
    "    num_char += char.isalpha()\n",
    "    num_digit += char.isdigit()\n",
    "print(f'LETTERS: {num_char}\\nDIGITS: {num_digit}')"
   ]
  },
  {
   "cell_type": "markdown",
   "metadata": {},
   "source": [
    "### Regex\n",
    "* reg_patten = re.compile(regex)\n",
    "* reg_patten.findall(my_string) return a list of all found element "
   ]
  },
  {
   "cell_type": "code",
   "execution_count": 4,
   "metadata": {},
   "outputs": [
    {
     "name": "stdout",
     "output_type": "stream",
     "text": [
      "LETTERS: 10\n",
      "DIGITS: 3\n"
     ]
    }
   ],
   "source": [
    "## solution 3: Reg\n",
    "import re\n",
    "my_string = 'hello world! 123'\n",
    "\n",
    "pattern_digit = re.compile('[0-9]')\n",
    "pattern_char = re.compile('[a-zA-Z]')\n",
    "num_char = len(pattern_char.findall(my_string))\n",
    "num_digit = len(pattern_digit.findall(my_string))\n",
    "print(f'LETTERS: {num_char}\\nDIGITS: {num_digit}')"
   ]
  },
  {
   "cell_type": "markdown",
   "metadata": {},
   "source": [
    "## Question 14\n",
    ">***Write a program that accepts a sentence and calculate the number of upper case letters and lower case letters.***\n",
    "\n",
    ">***Suppose the following input is supplied to the program:***\n",
    "\n",
    "```\n",
    "Hello world!\n",
    "```\n",
    "\n",
    ">***Then, the output should be:***\n",
    "\n",
    "```\n",
    "UPPER CASE 1\n",
    "LOWER CASE 9\n",
    "```"
   ]
  },
  {
   "cell_type": "code",
   "execution_count": null,
   "metadata": {},
   "outputs": [],
   "source": [
    "my_string = 'Hello world!'\n",
    "num_upper, num_lower = 0, 0\n",
    "for char in my_string:\n",
    "    num_upper += 1 if char.isupper() else 0\n",
    "    num_lower +=1 if char.islower() else 0\n",
    "print(f'UPPER CASE {num_upper}\\nLOWER CASE {num_lower}')"
   ]
  },
  {
   "cell_type": "markdown",
   "metadata": {},
   "source": [
    "## Question 15\n",
    "\n",
    ">***Write a program that computes the value of a+aa+aaa+aaaa with a given digit as the value of a.***\n",
    "\n",
    ">***Suppose the following input is supplied to the program:***\n",
    "\n",
    "```\n",
    "9\n",
    "```\n",
    "\n",
    ">***Then, the output should be:***\n",
    "\n",
    "```\n",
    "11106\n",
    "```"
   ]
  },
  {
   "cell_type": "code",
   "execution_count": null,
   "metadata": {},
   "outputs": [],
   "source": [
    "def sum_a(a):\n",
    "    return a * (1 + 11 + 111 + 1111)"
   ]
  },
  {
   "cell_type": "code",
   "execution_count": null,
   "metadata": {},
   "outputs": [],
   "source": [
    "sum_a(9)"
   ]
  },
  {
   "cell_type": "markdown",
   "metadata": {},
   "source": [
    "## Question 16\n",
    "\n",
    ">***Use a list comprehension to square each odd number in a list. The list is input by a sequence of comma-separated numbers.***\n",
    ">***Suppose the following input is supplied to the program:***\n",
    "\n",
    "```\n",
    "1,2,3,4,5,6,7,8,9\n",
    "```\n",
    "\n",
    ">***Then, the output should be:***\n",
    "\n",
    "```\n",
    "1,9,25,49,81\n",
    "```"
   ]
  },
  {
   "cell_type": "code",
   "execution_count": null,
   "metadata": {},
   "outputs": [],
   "source": [
    "def square_list(arr):\n",
    "    arr_list = map(int, arr.split(','))\n",
    "    return list(map(lambda x:x**2, list(filter(lambda x: x%2!=0, arr_list))))"
   ]
  },
  {
   "cell_type": "code",
   "execution_count": null,
   "metadata": {},
   "outputs": [],
   "source": [
    "# test\n",
    "input_list = '1,2,3,4,5,6,7,8,9'\n",
    "square_list(input_list)"
   ]
  },
  {
   "cell_type": "markdown",
   "metadata": {},
   "source": [
    "## Question 17\n",
    ">***Write a program that computes the net amount of a bank account based a transaction log from console input. The transaction log format is shown as following:***\n",
    "```\n",
    "D 100\n",
    "W 200\n",
    "```\n",
    "* D means deposit while W means withdrawal.\n",
    ">***Suppose the following input is supplied to the program:***\n",
    "```\n",
    "D 300\n",
    "D 300\n",
    "W 200\n",
    "D 100\n",
    "```\n",
    ">***Then, the output should be:***\n",
    "```\n",
    "500\n",
    "```"
   ]
  },
  {
   "cell_type": "code",
   "execution_count": null,
   "metadata": {},
   "outputs": [],
   "source": [
    "def transaction(trans):\n",
    "    trans_list = trans.split('\\n')\n",
    "    \n",
    "    result = 0\n",
    "    for tr in trans_list:\n",
    "        if tr.startswith('D'):\n",
    "            result += int(tr.strip('D '))\n",
    "        if tr.startswith('W'):\n",
    "            result -= int(tr.strip('W '))\n",
    "    return result"
   ]
  },
  {
   "cell_type": "code",
   "execution_count": null,
   "metadata": {},
   "outputs": [],
   "source": [
    "# test\n",
    "test_trans = '''\n",
    "D 300\n",
    "D 300\n",
    "W 200\n",
    "D 100'''\n",
    "transaction(test_trans)"
   ]
  },
  {
   "cell_type": "markdown",
   "metadata": {},
   "source": [
    "## Question 18\n",
    "\n",
    ">***A website requires the users to input username and password to register. Write a program to check the validity of password input by users.***\n",
    ">***Following are the criteria for checking the password:***\n",
    ">- ***At least 1 letter between [a-z]***\n",
    ">- ***At least 1 number between [0-9]***\n",
    ">- ***At least 1 letter between [A-Z]***\n",
    ">- ***At least 1 character from [$#@]***\n",
    ">- ***Minimum length of transaction password: 6***\n",
    ">- ***Maximum length of transaction password: 12***\n",
    ">***Your program should accept a sequence of comma separated passwords and will check them according to the above criteria. Passwords that match the criteria are to be printed, each separated by a comma.***\n",
    ">***Example***\n",
    ">***If the following passwords are given as input to the program:***\n",
    "```\n",
    "ABd1234@1,a F1#,2w3E*,2We3345\n",
    "```\n",
    ">***Then, the output of the program should be:***\n",
    "```\n",
    "ABd1234@1\n",
    "```"
   ]
  },
  {
   "cell_type": "code",
   "execution_count": null,
   "metadata": {},
   "outputs": [],
   "source": [
    "import re\n",
    "def check_pass(password_list):\n",
    "    output = []\n",
    "    for password in password_list.split(','):\n",
    "        check_letter = bool(re.search('[a-z]', password))\n",
    "        check_num = bool(re.search('[0-9]', password))\n",
    "        check_char = bool(re.search('[$#@]', password))\n",
    "        check_length = bool(6<=len(password)<=12)\n",
    "        if all([check_letter, check_num, check_char, check_length]):\n",
    "            output.append(password)\n",
    "    return output"
   ]
  },
  {
   "cell_type": "code",
   "execution_count": null,
   "metadata": {},
   "outputs": [],
   "source": [
    "# test\n",
    "check_pass('ABd1234@1,a F1#,2w3E*,2We3345')"
   ]
  },
  {
   "cell_type": "markdown",
   "metadata": {},
   "source": [
    "## Question 19\n",
    ">***You are required to write a program to sort the (name, age, score) tuples by ascending order where name is string, age and score are numbers. The tuples are input by console. The sort criteria is:***\n",
    "- ***1: Sort based on name***\n",
    "- ***2: Then sort based on age***\n",
    "- ***3: Then sort by score***\n",
    ">***The priority is that name > age > score.***\n",
    ">***If the following tuples are given as input to the program:***\n",
    "```\n",
    "Tom,19,80\n",
    "John,20,90\n",
    "Jony,17,91\n",
    "Jony,17,93\n",
    "Json,21,85\n",
    "```\n",
    ">***Then, the output of the program should be:***\n",
    "```\n",
    "[('John', '20', '90'), ('Jony', '17', '91'), ('Jony', '17', '93'), ('Json', '21', '85'), ('Tom', '19', '80')]\n",
    "```"
   ]
  },
  {
   "cell_type": "code",
   "execution_count": 5,
   "metadata": {},
   "outputs": [],
   "source": [
    "def sort_tuple(my_str):\n",
    "    input_list = [tuple(_.split(',')) for _ in my_str.split('\\n')]\n",
    "    print(input_list)\n",
    "    return sorted(input_list, key=lambda x: (x[0], x[1], x[2]))"
   ]
  },
  {
   "cell_type": "code",
   "execution_count": 6,
   "metadata": {},
   "outputs": [
    {
     "name": "stdout",
     "output_type": "stream",
     "text": [
      "[('Tom', '19', '80'), ('John', '20', '90'), ('Jony', '17', '91'), ('Jony', '17', '93'), ('Json', '21', '85')]\n"
     ]
    },
    {
     "data": {
      "text/plain": [
       "[('John', '20', '90'),\n",
       " ('Jony', '17', '91'),\n",
       " ('Jony', '17', '93'),\n",
       " ('Json', '21', '85'),\n",
       " ('Tom', '19', '80')]"
      ]
     },
     "execution_count": 6,
     "metadata": {},
     "output_type": "execute_result"
    }
   ],
   "source": [
    "# test \n",
    "test_string = '''Tom,19,80\n",
    "John,20,90\n",
    "Jony,17,91\n",
    "Jony,17,93\n",
    "Json,21,85'''\n",
    "sort_tuple(test_string)"
   ]
  },
  {
   "cell_type": "markdown",
   "metadata": {},
   "source": [
    "## Question 20\n",
    ">***Define a class with a generator which can iterate the numbers, which are divisible by 7, between a given range 0 and n.***"
   ]
  },
  {
   "cell_type": "code",
   "execution_count": null,
   "metadata": {},
   "outputs": [],
   "source": [
    "def generator_multiple_7(n):\n",
    "    for i in range(n+1):\n",
    "        if i % 7 == 0:\n",
    "            yield i\n",
    "\n",
    "my_generator_7 = generator_multiple_7(20)\n",
    "for i in my_generator_7:\n",
    "    print(i)"
   ]
  },
  {
   "cell_type": "markdown",
   "metadata": {},
   "source": [
    "## Question 21\n",
    ">***A robot moves in a plane starting from the original point (0,0). The robot can move toward UP, DOWN, LEFT and RIGHT with a given steps. The trace of robot movement is shown as the following:***\n",
    "\n",
    "```\n",
    "UP 5\n",
    "DOWN 3\n",
    "LEFT 3\n",
    "RIGHT 2\n",
    "```\n",
    "\n",
    ">***The numbers after the direction are steps. Please write a program to compute the distance from current position after a sequence of movement and original point. If the distance is a float, then just print the nearest integer.***\n",
    ">***Example:***\n",
    ">***If the following tuples are given as input to the program:***\n",
    "\n",
    "```\n",
    "UP 5\n",
    "DOWN 3\n",
    "LEFT 3\n",
    "RIGHT 2\n",
    "```\n",
    "\n",
    ">***Then, the output of the program should be:***\n",
    "\n",
    "```\n",
    "2\n",
    "```"
   ]
  },
  {
   "cell_type": "code",
   "execution_count": null,
   "metadata": {},
   "outputs": [],
   "source": [
    "def distance(str_list):\n",
    "    step_list = str_list.split('\\n')\n",
    "    height = 0\n",
    "    width = 0\n",
    "    for step in step_list:\n",
    "        move = int(step.split()[1])\n",
    "        if step.startswith('U'):\n",
    "            height += move\n",
    "        if step.startswith('D'):\n",
    "            height -= move\n",
    "        if step.startswith('L'):\n",
    "            width += move\n",
    "        if step.startswith('R'):\n",
    "            width -= move\n",
    "    import math\n",
    "    return int(math.sqrt(height**2 + width**2))\n"
   ]
  },
  {
   "cell_type": "code",
   "execution_count": null,
   "metadata": {},
   "outputs": [],
   "source": [
    "# test\n",
    "str_list = '''UP 5\n",
    "DOWN 3\n",
    "LEFT 3\n",
    "RIGHT 2'''\n",
    "distance(str_list)"
   ]
  },
  {
   "cell_type": "markdown",
   "metadata": {},
   "source": [
    "## Question 22\n",
    ">***Write a program to compute the frequency of the words from the input. The output should output after sorting the key alphanumerically.***\n",
    "\n",
    ">***Suppose the following input is supplied to the program:***\n",
    "\n",
    "```\n",
    "New to Python or choosing between Python 2 and Python 3? Read Python 2 or Python 3.\n",
    "```\n",
    "\n",
    ">***Then, the output should be:***\n",
    "\n",
    "```\n",
    "2:2\n",
    "3.:1\n",
    "3?:1\n",
    "New:1\n",
    "Python:5\n",
    "Read:1\n",
    "and:1\n",
    "between:1\n",
    "choosing:1\n",
    "or:2\n",
    "to:1\n",
    "```"
   ]
  },
  {
   "cell_type": "code",
   "execution_count": null,
   "metadata": {},
   "outputs": [],
   "source": [
    "def count_sort(arr):\n",
    "    input_list = arr.split()\n",
    "    count_dict = {}\n",
    "    for i in input_list:\n",
    "        count_dict[i] = count_dict.get(i, 0) + 1\n",
    "    output = []\n",
    "    for key, value in count_dict.items():\n",
    "        output.append((key, value))\n",
    "    return sorted(output)"
   ]
  },
  {
   "cell_type": "code",
   "execution_count": null,
   "metadata": {},
   "outputs": [],
   "source": [
    "# test\n",
    "test_list = 'New to Python or choosing between Python 2 and Python 3? Read Python 2 or Python 3.'\n",
    "count_sort(test_list)"
   ]
  },
  {
   "cell_type": "markdown",
   "metadata": {},
   "source": [
    "### `collections.Counter`\n",
    "`Counter` takes a `list`, return a `dict`"
   ]
  },
  {
   "cell_type": "code",
   "execution_count": 8,
   "metadata": {},
   "outputs": [
    {
     "data": {
      "text/plain": [
       "Counter({'New': 1,\n",
       "         'to': 1,\n",
       "         'Python': 5,\n",
       "         'or': 2,\n",
       "         'choosing': 1,\n",
       "         'between': 1,\n",
       "         '2': 2,\n",
       "         'and': 1,\n",
       "         '3?': 1,\n",
       "         'Read': 1,\n",
       "         '3.': 1})"
      ]
     },
     "execution_count": 8,
     "metadata": {},
     "output_type": "execute_result"
    }
   ],
   "source": [
    "## solution 2 list.count()\n",
    "from collections import Counter\n",
    "test_list = 'New to Python or choosing between Python 2 and Python 3? Read Python 2 or Python 3.'\n",
    "Counter(test_list.split())"
   ]
  },
  {
   "cell_type": "markdown",
   "metadata": {},
   "source": [
    "# Question 23\n",
    ">***Write a method which can calculate square value of number***"
   ]
  },
  {
   "cell_type": "code",
   "execution_count": null,
   "metadata": {},
   "outputs": [],
   "source": [
    "def square(n): return n**2\n",
    "# test\n",
    "square(5)"
   ]
  },
  {
   "cell_type": "markdown",
   "metadata": {},
   "source": [
    "## Question 24\n",
    ">***Python has many built-in functions, and if you do not know how to use it, you can read document online or find some books. But Python has a built-in document function for every built-in functions.***\n",
    "\n",
    ">***Please write a program to print some Python built-in functions documents, such as abs(), int(), raw_input()***\n",
    "\n",
    ">***And add document for your own function***"
   ]
  },
  {
   "cell_type": "code",
   "execution_count": 9,
   "metadata": {
    "scrolled": true
   },
   "outputs": [
    {
     "name": "stdout",
     "output_type": "stream",
     "text": [
      "Return the absolute value of the argument.\n",
      "int([x]) -> integer\n",
      "int(x, base=10) -> integer\n",
      "\n",
      "Convert a number or string to an integer, or return 0 if no arguments\n",
      "are given.  If x is a number, return x.__int__().  For floating point\n",
      "numbers, this truncates towards zero.\n",
      "\n",
      "If x is not a number or if base is given, then x must be a string,\n",
      "bytes, or bytearray instance representing an integer literal in the\n",
      "given base.  The literal can be preceded by '+' or '-' and be surrounded\n",
      "by whitespace.  The base defaults to 10.  Valid bases are 0 and 2-36.\n",
      "Base 0 means to interpret the base from the string as an integer literal.\n",
      ">>> int('0b100', base=0)\n",
      "4\n",
      "this is test func doc\n"
     ]
    }
   ],
   "source": [
    "print(abs.__doc__)\n",
    "print(int.__doc__)\n",
    "\n",
    "def my_func():\n",
    "    '''this is test func doc'''\n",
    "    pass\n",
    "\n",
    "print(my_func.__doc__)"
   ]
  },
  {
   "cell_type": "markdown",
   "metadata": {},
   "source": [
    "## Question 25\n",
    "\n",
    ">***Define a class, which have a class parameter and have a same instance parameter.*** "
   ]
  },
  {
   "cell_type": "code",
   "execution_count": null,
   "metadata": {},
   "outputs": [],
   "source": [
    "class Person:\n",
    "    name = 'Fan'\n",
    "    def __init__(self, name=None):\n",
    "        self.name = name\n",
    "\n",
    "mi = Person('Xiao')\n",
    "print(f'Instance parameter: {mi.name}, Class parameter: {Person.name}')"
   ]
  },
  {
   "cell_type": "markdown",
   "metadata": {},
   "source": [
    "## Question 26\n",
    "\n",
    ">***Define a function which can compute the sum of two numbers.***"
   ]
  },
  {
   "cell_type": "code",
   "execution_count": null,
   "metadata": {},
   "outputs": [],
   "source": [
    "sum = lambda x, y: x + y\n",
    "sum(4,5)"
   ]
  },
  {
   "cell_type": "markdown",
   "metadata": {},
   "source": [
    "## Question 27\n",
    ">***Define a function that can convert a integer into a string and print it in console.***"
   ]
  },
  {
   "cell_type": "code",
   "execution_count": null,
   "metadata": {},
   "outputs": [],
   "source": [
    "int2str = lambda x: str(x)\n",
    "int2str(2)"
   ]
  },
  {
   "cell_type": "markdown",
   "metadata": {},
   "source": [
    "## Question 28\n",
    ">***Define a function that can receive two integer numbers in string form and compute their sum and then print it in console.*** "
   ]
  },
  {
   "cell_type": "code",
   "execution_count": null,
   "metadata": {},
   "outputs": [],
   "source": [
    "sum2str = lambda x, y: int(x) + int(y)\n",
    "sum2str('1', '2')"
   ]
  },
  {
   "cell_type": "markdown",
   "metadata": {},
   "source": [
    "## Question 29\n",
    "\n",
    ">***Define a function that can accept two strings as input and concatenate them and then print it in console.***"
   ]
  },
  {
   "cell_type": "code",
   "execution_count": null,
   "metadata": {},
   "outputs": [],
   "source": [
    "concate_str = lambda x, y: x + y\n",
    "concate_str('a', 'b')"
   ]
  },
  {
   "cell_type": "markdown",
   "metadata": {},
   "source": [
    "# Question 30\n",
    "\n",
    ">***Define a function that can accept two strings as input and print the string with maximum length in console. If two strings have the same length, then the function should print all strings line by line.***"
   ]
  },
  {
   "cell_type": "code",
   "execution_count": null,
   "metadata": {},
   "outputs": [],
   "source": [
    "def print_len(x, y):\n",
    "    if len(x) == len(y):\n",
    "        print('\\n'.join([x, y]))\n",
    "        return \n",
    "    print(x if len(x)>len(y) else y)\n",
    "\n",
    "# test\n",
    "print_len('fan', 'xiao')\n",
    "print_len('fan', 'hao')\n"
   ]
  },
  {
   "cell_type": "markdown",
   "metadata": {},
   "source": [
    "## Question 39\n",
    ">***Write a program to generate and print another tuple whose values are even numbers in the given tuple (1,2,3,4,5,6,7,8,9,10).***"
   ]
  },
  {
   "cell_type": "code",
   "execution_count": null,
   "metadata": {},
   "outputs": [],
   "source": [
    "test_tuple= (1,2,3,4,5,6,7,8,9,10)\n",
    "list(filter(lambda x: x%2==0, test_tuple))"
   ]
  },
  {
   "cell_type": "markdown",
   "metadata": {},
   "source": [
    "## Question 53\n",
    "> ***Assuming that we have some email addresses in the \"username@companyname.com\" format, please write program to print the user name of a given email address. Both user names and company names are composed of letters only.***\n",
    "\n",
    "> ***Example:\n",
    "> If the following email address is given as input to the \n",
    "> program:***\n",
    "\n",
    "```\n",
    "john@google.com\n",
    "```\n",
    "\n",
    "> ***Then, the output of the program should be:***\n",
    "\n",
    "```\n",
    "john\n",
    "```\n",
    "\n",
    "> ***In case of input data being supplied to the question, it should be assumed to be a console input.***\n"
   ]
  },
  {
   "cell_type": "code",
   "execution_count": 11,
   "metadata": {},
   "outputs": [
    {
     "data": {
      "text/plain": [
       "'john'"
      ]
     },
     "execution_count": 11,
     "metadata": {},
     "output_type": "execute_result"
    }
   ],
   "source": [
    "import re\n",
    "test_email = 'john@google.com'\n",
    "pattern = r'(\\w+)@'\n",
    "matched = re.match(pattern, test_email)\n",
    "matched.group(1) # match the first bracket"
   ]
  },
  {
   "cell_type": "markdown",
   "metadata": {},
   "source": [
    "# Question 55\n",
    "\n",
    ">***Write a program which accepts a sequence of words separated by whitespace as input to print the words composed of digits only.***\n",
    ">***Example:\n",
    ">If the following words is given as input to the program:***\n",
    "```\n",
    "2 cats and 3 dogs.\n",
    "```\n",
    ">***Then, the output of the program should be:***\n",
    "```\n",
    "['2', '3']\n",
    "```"
   ]
  },
  {
   "cell_type": "code",
   "execution_count": 12,
   "metadata": {},
   "outputs": [
    {
     "data": {
      "text/plain": [
       "['2', '3']"
      ]
     },
     "execution_count": 12,
     "metadata": {},
     "output_type": "execute_result"
    }
   ],
   "source": [
    "# solution 1\n",
    "test_list = '2 cats and 3 dogs.'.rstrip('.').split()\n",
    "[i for i in test_list if i.isdigit()]"
   ]
  },
  {
   "cell_type": "code",
   "execution_count": 13,
   "metadata": {},
   "outputs": [
    {
     "data": {
      "text/plain": [
       "['2', '3']"
      ]
     },
     "execution_count": 13,
     "metadata": {},
     "output_type": "execute_result"
    }
   ],
   "source": [
    "# solution 2 findall\n",
    "import re\n",
    "test_string = '2 cats and 3 dogs.'\n",
    "pattern = r'\\d+'\n",
    "re.findall(pattern, test_string)"
   ]
  },
  {
   "cell_type": "markdown",
   "metadata": {},
   "source": [
    "## Question 56\n",
    "> ***Print a unicode string \"hello world\".***"
   ]
  },
  {
   "cell_type": "code",
   "execution_count": null,
   "metadata": {},
   "outputs": [],
   "source": [
    "u_string = u'Hello World'\n",
    "print(u_string)"
   ]
  },
  {
   "cell_type": "markdown",
   "metadata": {},
   "source": [
    "## Question 57\n",
    "> ***Write a program to read an ASCII string and to convert it to a unicode string encoded by utf-8.***"
   ]
  },
  {
   "cell_type": "code",
   "execution_count": null,
   "metadata": {},
   "outputs": [],
   "source": [
    "asii_string = 'hello world'\n",
    "u_string = asii_string.encode('utf-8')\n",
    "print(u_string)"
   ]
  },
  {
   "cell_type": "markdown",
   "metadata": {},
   "source": [
    "# Question 58\n",
    "> ***Write a special comment to indicate a Python source code file is in unicode.***"
   ]
  },
  {
   "cell_type": "code",
   "execution_count": null,
   "metadata": {},
   "outputs": [],
   "source": [
    "# -*- coding = utf-8 -*-"
   ]
  },
  {
   "cell_type": "markdown",
   "metadata": {},
   "source": [
    "# Question 59\n",
    "\n",
    ">***Write a program to compute 1/2+2/3+3/4+...+n/n+1 with a given n input by console (n>0).***\n",
    "\n",
    ">***Example:\n",
    ">If the following n is given as input to the program:***\n",
    "\n",
    "```\n",
    "5\n",
    "```\n",
    "\n",
    ">***Then, the output of the program should be:***\n",
    "\n",
    "```\n",
    "3.55\n",
    "```\n",
    "\n",
    ">***In case of input data being supplied to the question, it should be assumed to be a console input.***"
   ]
  },
  {
   "cell_type": "code",
   "execution_count": null,
   "metadata": {},
   "outputs": [],
   "source": [
    "from functools import reduce\n",
    "round(reduce(lambda x, y: x + y, [i/(i+1) for i in range(1,6)], 0),2)"
   ]
  },
  {
   "cell_type": "markdown",
   "metadata": {},
   "source": [
    "# Question 61\n",
    "\n",
    ">***The Fibonacci Sequence is computed based on the following formula:***\n",
    "\n",
    "```\n",
    "f(n)=0 if n=0\n",
    "f(n)=1 if n=1\n",
    "f(n)=f(n-1)+f(n-2) if n>1\n",
    "```\n",
    "\n",
    ">***Please write a program to compute the value of f(n) with a given n input by console.***\n",
    "\n",
    ">***Example:\n",
    ">If the following n is given as input to the program:***\n",
    "\n",
    "```\n",
    "7\n",
    "```\n",
    "\n",
    ">***Then, the output of the program should be:***\n",
    "\n",
    "```\n",
    "13\n",
    "```\n"
   ]
  },
  {
   "cell_type": "code",
   "execution_count": null,
   "metadata": {},
   "outputs": [],
   "source": [
    "def fibonacci(n): return n if n<=1 else fibonacci(n-1) + fibonacci(n-2)\n",
    "\n",
    "fibonacci(7)"
   ]
  },
  {
   "cell_type": "markdown",
   "metadata": {},
   "source": [
    "## Question 63\n",
    ">***Please write a program using generator to print the even numbers between 0 and n in comma separated form while n is input by console.***\n",
    "\n",
    ">***Example:\n",
    ">If the following n is given as input to the program:***\n",
    "\n",
    "```\n",
    "10\n",
    "```\n",
    "\n",
    ">***Then, the output of the program should be:***\n",
    "\n",
    "```\n",
    "0,2,4,6,8,10\n",
    "```\n"
   ]
  },
  {
   "cell_type": "code",
   "execution_count": null,
   "metadata": {},
   "outputs": [],
   "source": [
    "def even_gen(n):\n",
    "    for i in range(0, n+1):\n",
    "        if i % 2 == 0:\n",
    "            yield i\n",
    "            \n",
    "[i for i in even_gen(10)]"
   ]
  },
  {
   "cell_type": "markdown",
   "metadata": {},
   "source": [
    "## Question 65\n",
    ">***Please write assert statements to verify that every number in the list [2,4,6,8] is even.***"
   ]
  },
  {
   "cell_type": "code",
   "execution_count": 16,
   "metadata": {},
   "outputs": [
    {
     "ename": "AssertionError",
     "evalue": "7 is not even",
     "output_type": "error",
     "traceback": [
      "\u001b[0;31m---------------------------------------------------------------------------\u001b[0m",
      "\u001b[0;31mAssertionError\u001b[0m                            Traceback (most recent call last)",
      "\u001b[0;32m<ipython-input-16-a8331224dca9>\u001b[0m in \u001b[0;36m<module>\u001b[0;34m\u001b[0m\n\u001b[1;32m      1\u001b[0m \u001b[0;32mfor\u001b[0m \u001b[0mi\u001b[0m \u001b[0;32min\u001b[0m \u001b[0;34m[\u001b[0m\u001b[0;36m2\u001b[0m\u001b[0;34m,\u001b[0m\u001b[0;36m4\u001b[0m\u001b[0;34m,\u001b[0m\u001b[0;36m7\u001b[0m\u001b[0;34m,\u001b[0m\u001b[0;36m8\u001b[0m\u001b[0;34m]\u001b[0m\u001b[0;34m:\u001b[0m\u001b[0;34m\u001b[0m\u001b[0;34m\u001b[0m\u001b[0m\n\u001b[0;32m----> 2\u001b[0;31m     \u001b[0;32massert\u001b[0m \u001b[0mi\u001b[0m\u001b[0;34m%\u001b[0m\u001b[0;36m2\u001b[0m\u001b[0;34m==\u001b[0m\u001b[0;36m0\u001b[0m\u001b[0;34m,\u001b[0m \u001b[0;34mf'{i} is not even'\u001b[0m\u001b[0;34m\u001b[0m\u001b[0;34m\u001b[0m\u001b[0m\n\u001b[0m",
      "\u001b[0;31mAssertionError\u001b[0m: 7 is not even"
     ]
    }
   ],
   "source": [
    "for i in [2,4,7,8]:\n",
    "    assert i%2==0, f'{i} is not even'"
   ]
  },
  {
   "cell_type": "markdown",
   "metadata": {},
   "source": [
    "# Question 67\n",
    "\n",
    ">***Please write a binary search function which searches an item in a sorted list. The function should return the index of element to be searched in the list.***"
   ]
  },
  {
   "cell_type": "code",
   "execution_count": null,
   "metadata": {},
   "outputs": [],
   "source": [
    "def binary_search(arr, target):\n",
    "    left, right = 0, len(arr)-1\n",
    "    while left< right:\n",
    "        mid = (left + right) // 2\n",
    "        if arr[mid] == target:\n",
    "            return mid\n",
    "        if arr[mid] > target:\n",
    "            right = mid - 1\n",
    "        else:\n",
    "            left = mid + 1\n",
    "    return 'not found'\n",
    "\n",
    "binary_search([1,2,4,5], 3)"
   ]
  },
  {
   "cell_type": "markdown",
   "metadata": {},
   "source": [
    "# Question 68\n",
    ">***Please generate a random float where the value is between 10 and 100 using Python module.***"
   ]
  },
  {
   "cell_type": "code",
   "execution_count": 20,
   "metadata": {},
   "outputs": [
    {
     "name": "stdout",
     "output_type": "stream",
     "text": [
      "67.05612184165427\n"
     ]
    }
   ],
   "source": [
    "import random\n",
    "print(100 * random.random())"
   ]
  },
  {
   "cell_type": "markdown",
   "metadata": {},
   "source": [
    "# Question 69\n",
    ">***Please generate a random float where the value is between 5 and 95 using Python module.***"
   ]
  },
  {
   "cell_type": "code",
   "execution_count": null,
   "metadata": {},
   "outputs": [],
   "source": [
    "import random\n",
    "print(random.uniform(9,95))"
   ]
  },
  {
   "cell_type": "markdown",
   "metadata": {},
   "source": [
    "# Question 70\n",
    ">***Please write a program to output a random even number between 0 and 10 inclusive using random module and list comprehension.***"
   ]
  },
  {
   "cell_type": "code",
   "execution_count": null,
   "metadata": {},
   "outputs": [],
   "source": [
    "import random\n",
    "random.choice([i for i in range(0,11) if i % 2==0])"
   ]
  },
  {
   "cell_type": "markdown",
   "metadata": {},
   "source": [
    "# Question 71\n",
    ">***Please write a program to output a random number, which is divisible by 5 and 7, between 10 and 150 inclusive using random module and list comprehension.***"
   ]
  },
  {
   "cell_type": "code",
   "execution_count": null,
   "metadata": {},
   "outputs": [],
   "source": [
    "import random\n",
    "random.choice([i for i in range(10,151) if i%35==0])"
   ]
  },
  {
   "cell_type": "markdown",
   "metadata": {},
   "source": [
    "# Question 72\n",
    ">***Please write a program to generate a list with 5 random numbers between 100 and 200 inclusive.***"
   ]
  },
  {
   "cell_type": "code",
   "execution_count": null,
   "metadata": {},
   "outputs": [],
   "source": [
    "import random\n",
    "random.sample(range(100,201),5)"
   ]
  },
  {
   "cell_type": "markdown",
   "metadata": {},
   "source": [
    "# Question 75\n",
    ">***Please write a program to randomly print a integer number between 7 and 15 inclusive.***"
   ]
  },
  {
   "cell_type": "code",
   "execution_count": null,
   "metadata": {},
   "outputs": [],
   "source": [
    "import random\n",
    "random.randrange(7,16)"
   ]
  },
  {
   "cell_type": "markdown",
   "metadata": {},
   "source": [
    "# Question 76\n",
    ">***Please write a program to compress and decompress the string \"hello world!hello world!hello world!hello world!\".***"
   ]
  },
  {
   "cell_type": "code",
   "execution_count": 21,
   "metadata": {},
   "outputs": [
    {
     "name": "stdout",
     "output_type": "stream",
     "text": [
      "b'x\\x9c\\xcbH\\xcd\\xc9\\xc9W(\\xcf/\\xcaIQ\\xcc \\x82\\r\\x00\\xbd[\\x11\\xf5'\n",
      "b'hello world!hello world!hello world!hello world!'\n",
      "orignal: 81, compressed: 56\n"
     ]
    }
   ],
   "source": [
    "test_string = b'hello world!hello world!hello world!hello world!'\n",
    "import zlib\n",
    "compressed = zlib.compress(test_string)\n",
    "print(compressed)\n",
    "print(zlib.decompress(compressed))\n",
    "import sys\n",
    "print(f'orignal: {sys.getsizeof(test_string)}, compressed: {sys.getsizeof(compressed)}')"
   ]
  },
  {
   "cell_type": "markdown",
   "metadata": {},
   "source": [
    "# Question 77\n",
    ">***Please write a program to print the running time of execution of \"1+1\" for 100 times.***"
   ]
  },
  {
   "cell_type": "code",
   "execution_count": null,
   "metadata": {},
   "outputs": [],
   "source": [
    "# solution 1: megic word in jupyter\n",
    "%timeit for i in range(100): 1 + 1"
   ]
  },
  {
   "cell_type": "code",
   "execution_count": 23,
   "metadata": {},
   "outputs": [
    {
     "name": "stdout",
     "output_type": "stream",
     "text": [
      "6.508827209472656e-05\n"
     ]
    }
   ],
   "source": [
    "# solution 2: timeit()\n",
    "import time\n",
    "start = time.time()\n",
    "for i in range(100): 1 + 1\n",
    "end = time.time()\n",
    "print(end - start)"
   ]
  },
  {
   "cell_type": "code",
   "execution_count": 22,
   "metadata": {},
   "outputs": [
    {
     "name": "stdout",
     "output_type": "stream",
     "text": [
      "59\n"
     ]
    }
   ],
   "source": [
    "# solution 3: datetime.datetime.now()\n",
    "import datetime\n",
    "\n",
    "before = datetime.datetime.now()\n",
    "for i in range(100):\n",
    "    x = 1 + 1\n",
    "after = datetime.datetime.now()\n",
    "execution_time = after - before\n",
    "print(execution_time.microseconds)"
   ]
  },
  {
   "cell_type": "markdown",
   "metadata": {},
   "source": [
    "# Question 78\n",
    ">***Please write a program to shuffle and print the list [3,6,7,8].***"
   ]
  },
  {
   "cell_type": "code",
   "execution_count": null,
   "metadata": {},
   "outputs": [],
   "source": [
    "import random\n",
    "test_list = [3,6,7,8]\n",
    "random.shuffle(test_list) # shuffle on the original list\n",
    "print(test_list)"
   ]
  },
  {
   "cell_type": "markdown",
   "metadata": {},
   "source": [
    "# Question 79\n",
    ">***Please write a program to generate all sentences where subject is in [\"I\", \"You\"] and verb is in [\"Play\", \"Love\"] and the object is in [\"Hockey\",\"Football\"].***"
   ]
  },
  {
   "cell_type": "code",
   "execution_count": 24,
   "metadata": {},
   "outputs": [
    {
     "data": {
      "text/plain": [
       "['I Play Hockey',\n",
       " 'I Play Football',\n",
       " 'I Love Hockey',\n",
       " 'I Love Football',\n",
       " 'You Play Hockey',\n",
       " 'You Play Football',\n",
       " 'You Love Hockey',\n",
       " 'You Love Football']"
      ]
     },
     "execution_count": 24,
     "metadata": {},
     "output_type": "execute_result"
    }
   ],
   "source": [
    "[' '.join([x,y,z]) for x in ['I', 'You'] for y in ['Play', 'Love'] for z in ['Hockey', 'Football']]"
   ]
  },
  {
   "cell_type": "markdown",
   "metadata": {},
   "source": [
    "## Question 82\n",
    ">***By using list comprehension, please write a program to print the list after removing the 0th, 2nd, 4th,6th numbers in [12,24,35,70,88,120,155].***"
   ]
  },
  {
   "cell_type": "code",
   "execution_count": null,
   "metadata": {},
   "outputs": [],
   "source": [
    "# solution 1\n",
    "test_list = [12,24,35,70,88,120,155]\n",
    "test_list[::2]"
   ]
  },
  {
   "cell_type": "code",
   "execution_count": null,
   "metadata": {},
   "outputs": [],
   "source": [
    "# solution 2\n",
    "test_list = [12,24,35,70,88,120,155]\n",
    "[ value for index, value in enumerate(test_list) if index%2 == 0]"
   ]
  },
  {
   "cell_type": "markdown",
   "metadata": {},
   "source": [
    "## Question 87\n",
    ">***With two given lists [1,3,6,78,35,55] and [12,24,35,24,88,120,155], write a program to make a list whose elements are intersection of the above given lists.***"
   ]
  },
  {
   "cell_type": "code",
   "execution_count": null,
   "metadata": {},
   "outputs": [],
   "source": [
    "set1 = set([1,3,6,78,35,55])\n",
    "set2 = set([12,24,35,24,88,120,155])\n",
    "# use operator\n",
    "result = set1 & set2 \n",
    "# use method\n",
    "set1.intersection(set2)"
   ]
  },
  {
   "cell_type": "markdown",
   "metadata": {},
   "source": [
    "## Question 93\n",
    ">***Please write a program which prints all permutations of [1,2,3]***"
   ]
  },
  {
   "cell_type": "code",
   "execution_count": 25,
   "metadata": {},
   "outputs": [
    {
     "data": {
      "text/plain": [
       "[(1, 2, 3), (1, 3, 2), (2, 1, 3), (2, 3, 1), (3, 1, 2), (3, 2, 1)]"
      ]
     },
     "execution_count": 25,
     "metadata": {},
     "output_type": "execute_result"
    }
   ],
   "source": [
    "from itertools import permutations\n",
    "test_list = [1,2,3]\n",
    "list(permutations(test_list))"
   ]
  },
  {
   "cell_type": "markdown",
   "metadata": {},
   "source": [
    "## Question 96\n",
    "\n",
    ">***You are given a string S and width W.\n",
    ">Your task is to wrap the string into a paragraph of width.***\n",
    "\n",
    ">***If the following string is given as input to the program:***\n",
    ">\n",
    ">```\n",
    ">ABCDEFGHIJKLIMNOQRSTUVWXYZ\n",
    ">4\n",
    ">```\n",
    ">\n",
    ">***Then, the output of the program should be:***\n",
    ">\n",
    ">```\n",
    ">ABCD\n",
    ">EFGH\n",
    ">IJKL\n",
    ">IMNO\n",
    ">QRST\n",
    ">UVWX\n",
    ">YZ\n",
    ">```\n"
   ]
  },
  {
   "cell_type": "code",
   "execution_count": null,
   "metadata": {},
   "outputs": [],
   "source": [
    "import textwrap\n",
    "\n",
    "test_string = 'ABCDEFGHIJKLIMNOQRSTUVWXYZ'\n",
    "# cut the string by each 4 letters\n",
    "print(textwrap.wrap(test_string,4))\n"
   ]
  },
  {
   "cell_type": "markdown",
   "metadata": {},
   "source": [
    "## Question 97\n",
    ">***You are given an integer, N. Your task is to print an alphabet rangoli of size N. (Rangoli is a form of Indian folk art based on creation of patterns.)***\n",
    "\n",
    ">***Different sizes of alphabet rangoli are shown below:***\n",
    ">\n",
    ">```\n",
    ">#size 3\n",
    ">\n",
    ">----c----\n",
    ">--c-b-c--\n",
    ">c-b-a-b-c\n",
    ">--c-b-c--\n",
    ">----c----\n",
    ">\n",
    ">#size 5\n",
    ">\n",
    ">--------e--------\n",
    ">------e-d-e------\n",
    ">----e-d-c-d-e----\n",
    ">--e-d-c-b-c-d-e--\n",
    ">e-d-c-b-a-b-c-d-e\n",
    ">--e-d-c-b-c-d-e--\n",
    ">----e-d-c-d-e----\n",
    ">------e-d-e------\n",
    ">--------e--------\n",
    ">```"
   ]
  },
  {
   "cell_type": "code",
   "execution_count": 35,
   "metadata": {},
   "outputs": [
    {
     "name": "stdout",
     "output_type": "stream",
     "text": [
      "----c----\n",
      "--b-c-b--\n",
      "a-b-c-b-a\n",
      "--b-c-b--\n",
      "----c----\n",
      "--------e--------\n",
      "------d-e-d------\n",
      "----c-d-e-d-c----\n",
      "--b-c-d-e-d-c-b--\n",
      "a-b-c-d-e-d-c-b-a\n",
      "--b-c-d-e-d-c-b--\n",
      "----c-d-e-d-c----\n",
      "------d-e-d------\n",
      "--------e--------\n"
     ]
    }
   ],
   "source": [
    "# solution 1\n",
    "def rangoli(n):\n",
    "    '''\n",
    "    param: n is # of alpha\n",
    "    '''\n",
    "    result = []\n",
    "    alphatable = [chr(97 + i) for i in range(26)]\n",
    "    for i in range(1,n+1):\n",
    "        buffer = 2*(n - i) * \"-\"\n",
    "        letters = \"-\".join(alphatable[n-i:n] + alphatable[n-i:n-1][::-1])\n",
    "        row = buffer + letters + buffer\n",
    "        result.append(row)\n",
    "    result+= result[-2::-1]\n",
    "    print('\\n'.join(result))\n",
    "                           \n",
    "rangoli(3)\n",
    "rangoli(5)"
   ]
  },
  {
   "cell_type": "markdown",
   "metadata": {},
   "source": [
    "## Question 98\n",
    ">***You are given a date. Your task is to find what the day is on that date.***\n",
    "**Input**\n",
    ">***A single line of input containing the space separated month, day and year, respectively, in MM DD YYYY format.***\n",
    ">\n",
    ">```\n",
    ">08 05 2015\n",
    ">```\n",
    "**Output**\n",
    ">***Output the correct day in capital letters.***\n",
    ">\n",
    ">```\n",
    ">WEDNESDAY\n",
    ">```"
   ]
  },
  {
   "cell_type": "code",
   "execution_count": null,
   "metadata": {},
   "outputs": [],
   "source": [
    "import calendar\n",
    "\n",
    "year, month, day = 2020, 10, 13\n",
    "# dayId is begin at 0 to 6\n",
    "dayId = calendar.weekday(year, month, day)\n",
    "# day_name is the dictionary of Weeday name\n",
    "print(calendar.day_name[dayId].upper())"
   ]
  },
  {
   "cell_type": "markdown",
   "metadata": {},
   "source": [
    "## Question 99\n",
    ">***Given 2 sets of integers, M and N, print their symmetric difference in ascending order. The term symmetric difference indicates those values that exist in either M or N but do not exist in both.***\n",
    "**Input**\n",
    ">***The first line of input contains an integer, M.The second line contains M space-separated integers.The third line contains an integer, N.The fourth line contains N space-separated integers.***\n",
    ">\n",
    ">```\n",
    ">4\n",
    ">2 4 5 9\n",
    ">4\n",
    ">2 4 11 12\n",
    ">```\n",
    "**Output**\n",
    ">***Output the symmetric difference integers in ascending order, one per line.***\n",
    ">\n",
    ">```\n",
    ">5\n",
    ">9\n",
    ">11\n",
    ">12\n",
    ">```"
   ]
  },
  {
   "cell_type": "code",
   "execution_count": null,
   "metadata": {},
   "outputs": [],
   "source": [
    "set1 = set([2,4,5,9])\n",
    "set2 = set([2,4,11,12])\n",
    "set1 ^ set2"
   ]
  },
  {
   "cell_type": "markdown",
   "metadata": {},
   "source": [
    "## Question 100\n",
    "***You are given  words. Some words may repeat. For each word, output its number of occurrences. The output order should correspond with the input order of appearance of the word. See the sample input/output for clarification.***\n",
    "\n",
    "***If the following string is given as input to the program:***\n",
    "\n",
    "```\n",
    "4\n",
    "bcdef\n",
    "abcdefg\n",
    "bcde\n",
    "bcdef\n",
    "```\n",
    "\n",
    "***Then, the output of the program should be:***\n",
    "\n",
    "```\n",
    "3\n",
    "2 1 1\n",
    "```\n",
    " "
   ]
  },
  {
   "cell_type": "code",
   "execution_count": null,
   "metadata": {},
   "outputs": [],
   "source": [
    "from collections import OrderedDict\n",
    "def count_word(arr):\n",
    "    output_dict = OrderedDict()\n",
    "    for _ in arr:\n",
    "        if _ not in output_dict:\n",
    "            output_dict[_] = 1\n",
    "        else:\n",
    "            output_dict[_] += 1\n",
    "    return output_dict\n"
   ]
  },
  {
   "cell_type": "code",
   "execution_count": null,
   "metadata": {},
   "outputs": [],
   "source": [
    "# test\n",
    "test_arr = ['bcdef', 'abcdefg', 'bcde', 'bcdef']\n",
    "count_word(test_arr)"
   ]
  },
  {
   "cell_type": "markdown",
   "metadata": {},
   "source": [
    "## Question 101\n",
    ">***You are given a string. Your task is to count the frequency of letters of the string and print the letters in descending order of frequency.***\n",
    "\n",
    ">***If the following string is given as input to the program:***\n",
    ">\n",
    ">```\n",
    ">aabbbccde\n",
    ">```\n",
    ">\n",
    ">***Then, the output of the program should be:***\n",
    ">\n",
    ">```\n",
    ">b 3\n",
    ">a 2\n",
    ">c 2\n",
    ">d 1\n",
    ">e 1\n",
    ">```\n"
   ]
  },
  {
   "cell_type": "markdown",
   "metadata": {},
   "source": [
    "**Note**\n",
    "1. `dict.get('key',0)`\n",
    "2. `sorted(iter, key=lambda x: (-x[1], x[0])`"
   ]
  },
  {
   "cell_type": "code",
   "execution_count": null,
   "metadata": {},
   "outputs": [],
   "source": [
    "def count_letter(my_str):\n",
    "    letter_dict = {}\n",
    "    output = []\n",
    "    for letter in my_str:\n",
    "        letter_dict[letter] = letter_dict.get(letter, 0) + 1\n",
    "    return sorted(letter_dict.items(), key=lambda x: (-x[1], x[0]))\n",
    "        "
   ]
  },
  {
   "cell_type": "code",
   "execution_count": null,
   "metadata": {},
   "outputs": [],
   "source": [
    "# test\n",
    "count_letter('aabbbccde')"
   ]
  },
  {
   "cell_type": "code",
   "execution_count": null,
   "metadata": {},
   "outputs": [],
   "source": [
    "# solution 2\n",
    "test_str = 'aabbbccde'\n",
    "from collections import Counter\n",
    "cou = Counter(test_str).items()\n",
    "sorted(cou, key=lambda x:(-x[1], x[0]))"
   ]
  },
  {
   "cell_type": "markdown",
   "metadata": {},
   "source": [
    "## Question 102\n",
    ">***Write a Python program that accepts a string and calculate the number of digits and letters.***\n",
    "**Input**\n",
    ">```\n",
    ">Hello321Bye360\n",
    ">```\n",
    "**Output**\n",
    ">```\n",
    ">Digit - 6\n",
    ">Letter - 8\n",
    ">```"
   ]
  },
  {
   "cell_type": "code",
   "execution_count": null,
   "metadata": {},
   "outputs": [],
   "source": [
    "def count_alpha_digit(my_str):\n",
    "    result = {}\n",
    "    for _ in my_str:\n",
    "        if _.isalpha():\n",
    "            result['alpha'] = result.get('alpha', 0) + 1\n",
    "        if _.isdigit():\n",
    "            result['digit']= result.get('digit', 0) + 1\n",
    "    print(f'Digit - {result[\"digit\"]}')\n",
    "    print(f'Letter - {result[\"alpha\"]}')\n",
    "    \n",
    "    return \n",
    "        "
   ]
  },
  {
   "cell_type": "code",
   "execution_count": null,
   "metadata": {},
   "outputs": [],
   "source": [
    "# test\n",
    "count_alpha_digit('Hello321Bye360')"
   ]
  },
  {
   "cell_type": "markdown",
   "metadata": {},
   "source": [
    "## Question 103\n",
    ">***Given a number N. Find Sum of 1 to N Using Recursion***\n",
    "**Input**\n",
    ">```\n",
    ">5\n",
    ">```\n",
    "**Output**\n",
    ">```\n",
    ">15\n",
    ">```"
   ]
  },
  {
   "cell_type": "code",
   "execution_count": 36,
   "metadata": {},
   "outputs": [
    {
     "data": {
      "text/plain": [
       "15"
      ]
     },
     "execution_count": 36,
     "metadata": {},
     "output_type": "execute_result"
    }
   ],
   "source": [
    "def sum_recurstion(n): return 0 if n == 0 else n + sum_recurstion(n-1)\n",
    "\n",
    "sum_recurstion(5)"
   ]
  },
  {
   "cell_type": "code",
   "execution_count": null,
   "metadata": {},
   "outputs": [],
   "source": []
  }
 ],
 "metadata": {
  "kernelspec": {
   "display_name": "Python 3",
   "language": "python",
   "name": "python3"
  },
  "language_info": {
   "codemirror_mode": {
    "name": "ipython",
    "version": 3
   },
   "file_extension": ".py",
   "mimetype": "text/x-python",
   "name": "python",
   "nbconvert_exporter": "python",
   "pygments_lexer": "ipython3",
   "version": "3.7.3"
  }
 },
 "nbformat": 4,
 "nbformat_minor": 4
}
