{
 "cells": [
  {
   "cell_type": "markdown",
   "metadata": {},
   "source": [
    "### [Triange Quest 2](https://www.hackerrank.com/challenges/triangle-quest-2/problem)\n"
   ]
  },
  {
   "cell_type": "markdown",
   "metadata": {},
   "source": [
    "As $111^2 = 12321$, the question has transformed to how to get $1, 11, 111, 1111$"
   ]
  },
  {
   "cell_type": "markdown",
   "metadata": {},
   "source": [
    "#### Submission 1\n",
    "Obtain $111 = 10^0 + 10^1 + 10^2$. I have to use one `for` loop"
   ]
  },
  {
   "cell_type": "code",
   "execution_count": 1,
   "metadata": {},
   "outputs": [
    {
     "name": "stdout",
     "output_type": "stream",
     "text": [
      "NUMBER OF DIGIT OF THE LAST NUMBER4\n",
      "1\n",
      "121\n",
      "12321\n",
      "1234321\n"
     ]
    }
   ],
   "source": [
    "length_of_number= int(input(\"NUMBER OF DIGIT OF THE LAST NUMBER\"))\n",
    "for n in range(1, length_of_number+1):\n",
    "    print(sum([10**i for i in range(n)])**2)"
   ]
  },
  {
   "cell_type": "markdown",
   "metadata": {},
   "source": [
    "#### Submission 2\n",
    "Obtain $111 = (10^3-1) / 9$"
   ]
  },
  {
   "cell_type": "code",
   "execution_count": 10,
   "metadata": {},
   "outputs": [
    {
     "name": "stdout",
     "output_type": "stream",
     "text": [
      "1\n",
      "121\n",
      "12321\n",
      "1234321\n",
      "123454321\n"
     ]
    }
   ],
   "source": [
    "for i in range(1, 5+1):\n",
    "    print(((10**i-1)//9)**2)"
   ]
  },
  {
   "cell_type": "markdown",
   "metadata": {},
   "source": [
    "#### Submission 3\n",
    "use `map` with `range`"
   ]
  },
  {
   "cell_type": "code",
   "execution_count": 23,
   "metadata": {},
   "outputs": [
    {
     "name": "stdout",
     "output_type": "stream",
     "text": [
      "NUMBER OF DIGIT OF THE LAST NUMBER5\n",
      "1\n",
      "121\n",
      "12321\n",
      "1234321\n",
      "123454321\n"
     ]
    }
   ],
   "source": [
    "length_of_number= int(input(\"NUMBER OF DIGIT OF THE LAST NUMBER\"))\n",
    "for i in range(1,length_of_number+1):\n",
    "    print(sum(map(lambda x: 10**(x-1), range(1,i+1))) ** 2)"
   ]
  }
 ],
 "metadata": {
  "kernelspec": {
   "display_name": "Python 3",
   "language": "python",
   "name": "python3"
  },
  "language_info": {
   "codemirror_mode": {
    "name": "ipython",
    "version": 3
   },
   "file_extension": ".py",
   "mimetype": "text/x-python",
   "name": "python",
   "nbconvert_exporter": "python",
   "pygments_lexer": "ipython3",
   "version": "3.7.3"
  }
 },
 "nbformat": 4,
 "nbformat_minor": 4
}
