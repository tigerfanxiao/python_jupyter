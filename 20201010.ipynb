{
 "cells": [
  {
   "cell_type": "markdown",
   "metadata": {},
   "source": [
    "# Data Structure"
   ]
  },
  {
   "cell_type": "code",
   "execution_count": null,
   "metadata": {},
   "outputs": [],
   "source": []
  },
  {
   "cell_type": "code",
   "execution_count": 35,
   "metadata": {},
   "outputs": [],
   "source": [
    "def shift(array, n):\n",
    "    for idx, x in enumerate(array):\n",
    "        if x == n:\n",
    "            while idx > 0 and a[idx - 1] != n:\n",
    "                a[idx - 1], a[idx] = a[idx], a[idx - 1]\n",
    "                idx -= 1\n",
    "    return "
   ]
  },
  {
   "cell_type": "code",
   "execution_count": 39,
   "metadata": {},
   "outputs": [
    {
     "data": {
      "text/plain": [
       "[0, 0, 0, 1, 1]"
      ]
     },
     "execution_count": 39,
     "metadata": {},
     "output_type": "execute_result"
    }
   ],
   "source": [
    "a = [0, 1, 0, 1, 0 ]\n",
    "shift(a, 0)\n",
    "a"
   ]
  },
  {
   "cell_type": "code",
   "execution_count": 45,
   "metadata": {},
   "outputs": [],
   "source": [
    "def shift2(array, n, init):\n",
    "    for idx, x in enumerate(array):\n",
    "        if x == n:\n",
    "            while idx > init and a[idx - 1] != n:\n",
    "                a[idx - 1], a[idx] = a[idx], a[idx - 1]\n",
    "                idx -= 1\n",
    "    return "
   ]
  },
  {
   "cell_type": "code",
   "execution_count": 46,
   "metadata": {},
   "outputs": [
    {
     "data": {
      "text/plain": [
       "[0, 0, 1, 1, 0, 2, 2]"
      ]
     },
     "execution_count": 46,
     "metadata": {},
     "output_type": "execute_result"
    }
   ],
   "source": [
    "a = [0, 0, 0, 1, 2, 2, 1]\n",
    "shift2(a, 1, 2)\n",
    "a"
   ]
  },
  {
   "cell_type": "markdown",
   "metadata": {},
   "source": [
    "## Tree\n",
    "A Tree consists of a set of nodes (vertex) and a set of edges that connect pairs of nodes. A tree has following properites:\n",
    "* One node of the tree is designed as the root \n",
    "* Every node `n`, except the root node, is connected by an edge from exactly one other node p, where p is parent of n\n",
    "* A unique path traverse from the root to each node\n",
    "\n",
    "**Branch**\n",
    "* Any path in the tree that starts from the root node and ends at one of the bottom nodes in the tree\n",
    "\n",
    "### Complete Tree\n",
    "* Every single level filled up except the final level which may or may not be filled up, but the final level has nodes, they should be filled up left to right\n",
    "\n",
    "### Full Tree\n",
    "* Every node in the tree, either has no children nodes or `k` children nodes\n",
    "\n",
    "### Perfect Tree\n",
    "* All of the leaf node has the same depth\n",
    "\n",
    "### Binary Tree\n",
    "if each node in the tree has a maximum of two children, we say that the tree is a binary tree"
   ]
  },
  {
   "cell_type": "markdown",
   "metadata": {},
   "source": [
    "### depthFirstSearch method.\n"
   ]
  },
  {
   "cell_type": "markdown",
   "metadata": {},
   "source": [
    "### Itertools \n",
    "there are probability tools in the itertools package\n",
    "* `combinations(n, r)`: accept list or string, return iterable object\n"
   ]
  },
  {
   "cell_type": "code",
   "execution_count": null,
   "metadata": {},
   "outputs": [],
   "source": [
    "import itertools \n",
    "print(list(itertools.combinations('abcd',2))) # accept string\n",
    "print(list(itertools.combinations(['a', 'b', 'c', 'd'], 2))) # accept list"
   ]
  },
  {
   "cell_type": "markdown",
   "metadata": {},
   "source": [
    "### Generator"
   ]
  },
  {
   "cell_type": "code",
   "execution_count": null,
   "metadata": {},
   "outputs": [],
   "source": [
    "# in range(n+1) return the numbers which can be divided by 7\n",
    "def multiple_7(n):\n",
    "    for n in range(n+1):\n",
    "        if n % 7 == 0: yield n\n",
    "\n",
    "# call generator\n",
    "generator_multiple_7 = multiple_7(20)\n",
    "for i in generator_multiple_7:\n",
    "    print(i)"
   ]
  },
  {
   "cell_type": "markdown",
   "metadata": {},
   "source": [
    "# Regex"
   ]
  },
  {
   "cell_type": "markdown",
   "metadata": {},
   "source": [
    "### `re.match()` vs `re.findall()`\n",
    "* `re.match()` only return the first matched, used with group()\n",
    "* `re.findall()` return a list with all content found, ***no need*** to use group()"
   ]
  },
  {
   "cell_type": "code",
   "execution_count": null,
   "metadata": {},
   "outputs": [],
   "source": [
    "import re\n",
    "test_word = 'fanxiao@gmail.com'\n",
    "pattern = r'\\w+'\n",
    "# return match obj\n",
    "matched = re.match(pattern, test_word)\n",
    "print(type(matched))\n",
    "# return the first mathced content, \n",
    "print(matched.group())\n",
    "\n",
    "# return a list of all matched content\n",
    "findalled = re.findall(pattern, test_word)\n",
    "print(findalled)"
   ]
  },
  {
   "cell_type": "markdown",
   "metadata": {},
   "source": [
    "### group(), group(1), group(2)\n",
    "* No paranthesis are needed to form match group 0 since it locates the whole match object anyway.\n",
    "\n",
    "* group(1) return the first matched group by the first bracket pattern\n",
    "\n",
    "* group(2) return the second mateched group by the second breacket pattern"
   ]
  },
  {
   "cell_type": "code",
   "execution_count": null,
   "metadata": {},
   "outputs": [],
   "source": [
    "import re\n",
    "pattern = r'(\\w+)@(\\w+)'\n",
    "test_word = 'fanxiao@gmail.com'\n",
    "result = re.match(pattern, test_word)\n",
    "\n",
    "print(result.group()) # or group(0) return the whole matched \n",
    "print(result.group(1)) # return the first bracket matched content\n",
    "print(result.group(2)) # return the second bracket matched content"
   ]
  },
  {
   "cell_type": "markdown",
   "metadata": {},
   "source": [
    "# Error Handling\n",
    "* `ZeroDivisionError`\n",
    "* `AssertionError`when use assert\n"
   ]
  },
  {
   "cell_type": "code",
   "execution_count": null,
   "metadata": {},
   "outputs": [],
   "source": [
    "try: \n",
    "    raise RuntimeError(\"this is runtime error\")\n",
    "except:\n",
    "    print('this is a error')\n",
    "else: \n",
    "# excute only when no error occurs\n",
    "    print('hello world')"
   ]
  },
  {
   "cell_type": "markdown",
   "metadata": {},
   "source": [
    "### Custom Error"
   ]
  },
  {
   "cell_type": "code",
   "execution_count": null,
   "metadata": {},
   "outputs": [],
   "source": [
    "def MyError(Exception):\n",
    "    def __init__(self, msg):\n",
    "        self.msg = msg\n",
    "        \n",
    "MyError('this is my error')    "
   ]
  },
  {
   "cell_type": "markdown",
   "metadata": {},
   "source": [
    "# IO"
   ]
  },
  {
   "cell_type": "code",
   "execution_count": null,
   "metadata": {},
   "outputs": [],
   "source": [
    "# basic open \n",
    "with open('file_path', 'a', encoding='utf-8') as file_handler:\n",
    "    content = file_handler.write()\n",
    "\n",
    "# read file to the end\n",
    "f = open('my_text_file.txt')\n",
    "line = f.readline()\n",
    "while line: # read until the last line of the file\n",
    "    print(line)\n",
    "    line = f.readline()\n",
    "f.close()"
   ]
  },
  {
   "cell_type": "markdown",
   "metadata": {},
   "source": [
    "# CSV"
   ]
  },
  {
   "cell_type": "code",
   "execution_count": null,
   "metadata": {},
   "outputs": [],
   "source": [
    "import csv\n",
    "\n",
    "def csv_w(firstname, lastname, email):\n",
    "  fieldnames = ['firstname', 'lastname', 'email']\n",
    "\n",
    "  file_handler = open('your_file.csv', 'a', newline='')\n",
    "  csv_writer = csv.DictWriter(file_handler, quotechar='\"', delimiter=',', fieldnames=fieldnames)\n",
    "  # csv_writer.writeheader()\n",
    "  csv_writer.writerow({'firstname':firstname, 'lastname': lastname, 'email':email})\n",
    "  file_handler.close()\n",
    "    "
   ]
  },
  {
   "cell_type": "markdown",
   "metadata": {},
   "source": [
    "# OOP"
   ]
  },
  {
   "cell_type": "markdown",
   "metadata": {},
   "source": [
    "### super "
   ]
  },
  {
   "cell_type": "code",
   "execution_count": null,
   "metadata": {},
   "outputs": [],
   "source": [
    "class Shape():\n",
    "    def __init__(self):\n",
    "        pass\n",
    "\n",
    "    def area(self):\n",
    "        return 0\n",
    "\n",
    "class Square(Shape):\n",
    "    # extend init function \n",
    "    def __init__(self,length = 0): \n",
    "        super().__init__() # reuse init function in super class\n",
    "        self.length = length\n",
    "\n",
    "    def area(self):\n",
    "        return self.length*self.length\n",
    "\n",
    "asqr = Square(5)\n",
    "print(asqr.area())      # prints 25 as given argument\n",
    "\n",
    "print(Square().area())  # prints zero as default area"
   ]
  },
  {
   "cell_type": "markdown",
   "metadata": {},
   "source": [
    "### Class Method, Static Method, Instance Method\n",
    "* Class method takes `cls`, has no reference to instance attribute\n",
    "* Instance method takes `self`, \n",
    "* Static method no need `self`, nor `cls`, has no reference to instance and class attribute"
   ]
  },
  {
   "cell_type": "code",
   "execution_count": null,
   "metadata": {},
   "outputs": [],
   "source": [
    "class Foo:\n",
    "    name = 'Fan'\n",
    "    def __init__(self):\n",
    "        self.name = 'Xiao'\n",
    "    \n",
    "    # static method cannot refer instance attribute and class attribute\n",
    "    @staticmethod\n",
    "    def myStatic():\n",
    "        print(f'Static method')\n",
    "    \n",
    "    @classmethod\n",
    "    def myClass(cls):\n",
    "        print(f'Class method')\n",
    "        \n",
    "Foo.myStatic()\n",
    "foo = Foo()\n",
    "foo.myStatic()  # instance can call static method\n",
    "Foo.myClass()\n",
    "foo.myClass() # instance can call class method"
   ]
  },
  {
   "cell_type": "markdown",
   "metadata": {},
   "source": [
    "### `__repr__` vs `__str__`"
   ]
  },
  {
   "cell_type": "code",
   "execution_count": null,
   "metadata": {},
   "outputs": [],
   "source": [
    "class Foo:\n",
    "    def __init__(self):\n",
    "        pass\n",
    "    \n",
    "    # stdout directly without print\n",
    "    def __repr__(self):\n",
    "        return 'this is __repr__ method'\n",
    "    \n",
    "    # use when use print\n",
    "    def __str__(self):\n",
    "        return 'this is __str__ method'\n",
    "        \n",
    "a = Foo()\n",
    "print(a)\n",
    "a"
   ]
  },
  {
   "cell_type": "markdown",
   "metadata": {},
   "source": [
    "### Callback"
   ]
  },
  {
   "cell_type": "code",
   "execution_count": null,
   "metadata": {},
   "outputs": [],
   "source": [
    "class Add:\n",
    "  def __init__(self):\n",
    "    self.name = 'Add'\n",
    "    \n",
    "  def __call__(self, a, b):\n",
    "    return a+b\n",
    "\n",
    "\n",
    "class Multiple:\n",
    "  def __init__(self):\n",
    "    self.name = 'Multiple'\n",
    "    \n",
    "  def __call__(self, a, b):\n",
    "    return a*b\n",
    "\n",
    "# pass class as input\n",
    "def test(callback, a, b):\n",
    "    calculate = callback()\n",
    "    print(calculate.name)\n",
    "    return calculate(a, b)\n",
    "\n",
    "\n",
    "result = test(Multiple, 1,2)\n",
    "print(result)"
   ]
  },
  {
   "cell_type": "markdown",
   "metadata": {},
   "source": [
    "### Decorator"
   ]
  },
  {
   "cell_type": "code",
   "execution_count": null,
   "metadata": {},
   "outputs": [],
   "source": [
    "# decorator a function with parameters\n",
    "def decorator(func):\n",
    "    print('run before call func')\n",
    "    def wrapper(a, b):\n",
    "        print('run inside wrapper')\n",
    "        return func(a, b)\n",
    "    return wrapper\n",
    "\n",
    "@decorator\n",
    "def func(param1, param2):\n",
    "    return param1 + param2\n",
    "\n",
    "# func(1,2)"
   ]
  },
  {
   "cell_type": "code",
   "execution_count": null,
   "metadata": {},
   "outputs": [],
   "source": [
    "# \n",
    "def decorator2(a, b):\n",
    "    print('run before call the func')\n",
    "    def wrapper(func):\n",
    "        print('run inside wrapper')\n",
    "        print(a, b) # return all\n",
    "        return func\n",
    "    return wrapper\n",
    "\n",
    "@decorator2(1, 3)\n",
    "def func(param1, param2):\n",
    "    return param1 + param2\n",
    "\n"
   ]
  },
  {
   "cell_type": "code",
   "execution_count": null,
   "metadata": {
    "scrolled": true
   },
   "outputs": [],
   "source": [
    "# decorator to add all the function to the list\n",
    "function_list = []\n",
    "# Decorator function\n",
    "def add_function_to_list(func):\n",
    "    function_list.append(func)\n",
    "    return func\n",
    "\n",
    "@add_function_to_list\n",
    "def function_one():\n",
    "    print('I am function one!')\n",
    "\n",
    "@add_function_to_list\n",
    "def function_two():\n",
    "    print('I am function two!')\n",
    "\n",
    "# Python intepreter run the decorator code before you call the function\n",
    "print(function_list)"
   ]
  },
  {
   "cell_type": "markdown",
   "metadata": {},
   "source": [
    "### parse"
   ]
  },
  {
   "cell_type": "code",
   "execution_count": 3,
   "metadata": {},
   "outputs": [
    {
     "ename": "SyntaxError",
     "evalue": "EOL while scanning string literal (<ipython-input-3-ae79fcbcc996>, line 2)",
     "output_type": "error",
     "traceback": [
      "\u001b[1;36m  File \u001b[1;32m\"<ipython-input-3-ae79fcbcc996>\"\u001b[1;36m, line \u001b[1;32m2\u001b[0m\n\u001b[1;33m    result = parse(\"Hello, {name}\", \"Hello, Matthe)\u001b[0m\n\u001b[1;37m                                                   ^\u001b[0m\n\u001b[1;31mSyntaxError\u001b[0m\u001b[1;31m:\u001b[0m EOL while scanning string literal\n"
     ]
    }
   ],
   "source": [
    "from parse import parse\n",
    "result = parse(\"Hello, {name}\", \"Hello, Matthe\")\n",
    "result.named"
   ]
  },
  {
   "cell_type": "markdown",
   "metadata": {},
   "source": [
    "### **kwargs"
   ]
  },
  {
   "cell_type": "code",
   "execution_count": 5,
   "metadata": {},
   "outputs": [
    {
     "name": "stdout",
     "output_type": "stream",
     "text": [
      "{'name': 'xiao'}\n",
      "xiao\n"
     ]
    }
   ],
   "source": [
    "my_dict = {'name': 'xiao'}\n",
    "def test(name):\n",
    "    print(f'{name}')\n",
    "\n",
    "test(my_dict)\n",
    "# when you use ** for the dict, you can get the key\n",
    "test(**my_dict)"
   ]
  },
  {
   "cell_type": "markdown",
   "metadata": {},
   "source": [
    "## Testing\n"
   ]
  },
  {
   "cell_type": "markdown",
   "metadata": {},
   "source": [
    "### Unittest\n",
    "* Unittest is a default test module coming with Python\n",
    "* if the test is not successful will raise AssertionError\n",
    "* You must name the test function begin with `test`"
   ]
  },
  {
   "cell_type": "markdown",
   "metadata": {},
   "source": [
    "```python\n",
    "# atest.py\n",
    "import unittest\n",
    "import otherModuel\n",
    "# define a class inherent unittest.TestCase \n",
    "class AppTesting(unittest.TestCase):\n",
    "    # test function\n",
    "    def test_a(self):\n",
    "        test_parameter = 1\n",
    "        result = otherModuel.dosomething(test_parameter)\n",
    "        # assert the test result and expected result\n",
    "        self.assertEqual(result, 15)\n",
    "        \n",
    "    def test_b(self):\n",
    "        test_parameter = 'this is a string'\n",
    "        \n",
    "    @classmethod\n",
    "    def setUp(self):\n",
    "        # run before each test function\n",
    "        print(\"this is a login test\")\n",
    "\n",
    "    @classmethod\n",
    "    def tearDown(self):\n",
    "        # run after each test function\n",
    "        print(\"This is a logout test\")\n",
    "    \n",
    "    @classmethod\n",
    "    def setUpClass(self):\n",
    "        # run before all the test functions\n",
    "        print(\"open application\")\n",
    "    \n",
    "    @classmethod\n",
    "    def tearDownClass(self):\n",
    "        # run after all the test functions\n",
    "        print(\"close application\")\n",
    "        \n",
    "\n",
    "       \n",
    "if __name__=='__main__':\n",
    "    unittest.main()\n",
    "\n",
    "```\n",
    "you can run in with python\n",
    "* if you don't use unittest.main(), you can run in the cli\n",
    "\n",
    "```shell\n",
    "# run all the test files in the directory\n",
    "python -m unittest\n",
    "# run\n",
    "```\n",
    "* even we can print the comments of the test function by `-v`\n",
    "```shell\n",
    "python -m unittest -v \n",
    "```"
   ]
  },
  {
   "cell_type": "code",
   "execution_count": null,
   "metadata": {},
   "outputs": [],
   "source": [
    "import unittest\n",
    "\n",
    "class Apptesting(unittest.TestCase):\n",
    "    @unittest.SkipTest\n",
    "    def test_search(self):\n",
    "        # Skip this test function\n",
    "        print(\"This is search test\")\n",
    "        \n",
    "    # skip this test function but will print a sentence\n",
    "    @unittest.skip(\"I am skipping this test method, it is not yet ready\")\n",
    "    def test_advancedsearch(self)\n",
    "        print(\"This is adv search method\")\n",
    "    \n",
    "    # skip only when the condition meets\n",
    "    @unittest.skipIf(1==1, \"print this message if skip this function\")\n",
    "    \n",
    "    \n",
    "if __name__ = \"__main__\":\n",
    "    unittest.main()"
   ]
  },
  {
   "cell_type": "markdown",
   "metadata": {},
   "source": [
    "## Pytest\n",
    "* find all the py file begin with 'test' to test\n",
    "* the test function should also begin with `test`\n",
    "* by default not print out by stdout, you need to use `pytest -s` to force print out to the console"
   ]
  },
  {
   "cell_type": "markdown",
   "metadata": {},
   "source": [
    "```python\n",
    "# test_01.py\n",
    "def test_a():\n",
    "    assert 1 + 1 == 2\n",
    "```\n",
    "run pytest in cli\n",
    "```shell\n",
    "pytest\n",
    "```\n",
    "or\n",
    "```shell\n",
    "python -m pytest\n",
    "```"
   ]
  },
  {
   "cell_type": "code",
   "execution_count": null,
   "metadata": {},
   "outputs": [],
   "source": [
    "# test_01.py\n",
    "import pytest\n",
    "\n",
    "@pytest.fixture()\n",
    "def test_setup():\n",
    "    # before test set 'a' as global varaible\n",
    "    global a\n",
    "    a = 1\n",
    "    yield\n",
    "    # after test\n",
    "    \n",
    "# pass test_setup as parameter    \n",
    "def test_first(test_setup):\n",
    "    assert a + 1 == 2"
   ]
  },
  {
   "cell_type": "markdown",
   "metadata": {},
   "source": [
    "## Request\n",
    "* 401 unauthorized access\n",
    "* 300 redirect\n",
    "* http://httpbin.org/#/ is very good webpage to test http request"
   ]
  },
  {
   "cell_type": "code",
   "execution_count": 2,
   "metadata": {},
   "outputs": [
    {
     "name": "stdout",
     "output_type": "stream",
     "text": [
      "<Response [200]>\n",
      "['__attrs__', '__bool__', '__class__', '__delattr__', '__dict__', '__dir__', '__doc__', '__enter__', '__eq__', '__exit__', '__format__', '__ge__', '__getattribute__', '__getstate__', '__gt__', '__hash__', '__init__', '__init_subclass__', '__iter__', '__le__', '__lt__', '__module__', '__ne__', '__new__', '__nonzero__', '__reduce__', '__reduce_ex__', '__repr__', '__setattr__', '__setstate__', '__sizeof__', '__str__', '__subclasshook__', '__weakref__', '_content', '_content_consumed', '_next', 'apparent_encoding', 'close', 'connection', 'content', 'cookies', 'elapsed', 'encoding', 'headers', 'history', 'is_permanent_redirect', 'is_redirect', 'iter_content', 'iter_lines', 'json', 'links', 'next', 'ok', 'raise_for_status', 'raw', 'reason', 'request', 'status_code', 'text', 'url']\n"
     ]
    }
   ],
   "source": [
    "import requests\n",
    "r = requests.get('https://xkcd.com/353')\n",
    "r # 200 response\n",
    "dir(r) # list all the attributes and method of one instance\n",
    "help(r) # more detail helf info\n",
    "r.text # return html content\n",
    "r.status.code # 200\n",
    "r.ok # true is status.code is 200 ok"
   ]
  },
  {
   "cell_type": "code",
   "execution_count": null,
   "metadata": {},
   "outputs": [],
   "source": [
    "# download an image by request\n",
    "import requests\n",
    "r = requests.get('https://imgs.xkcd.com/comics/python.png')\n",
    "with open('python.png', 'wb') as handler:\n",
    "    handler.write(r.content) # content is byte of the image"
   ]
  },
  {
   "cell_type": "code",
   "execution_count": null,
   "metadata": {},
   "outputs": [],
   "source": [
    "# send data by get method\n",
    "import requests\n",
    "\n",
    "payload = {'page':2, 'count':25}\n",
    "r = requests.get('https://httpbin.org/get', params=payload)\n",
    "r.url # https://httpbin/org/get?page=2&count=25"
   ]
  },
  {
   "cell_type": "code",
   "execution_count": null,
   "metadata": {},
   "outputs": [],
   "source": [
    "# send data by post method\n",
    "import request\n",
    "payload = {'username': 'xiao', 'password':'testing'}\n",
    "r = requests.post('https://httpbin.org/post', data=payload)\n",
    "r_dict = r.json() # return a dictionary\n",
    "r_dict['form'] # got username and password"
   ]
  },
  {
   "cell_type": "code",
   "execution_count": null,
   "metadata": {},
   "outputs": [],
   "source": [
    "# basic authenticate \n",
    "import requests\n",
    "r = requests.get('https://httpbin.org/basic-auth/corey/testing', auth=('corey', 'testing'))"
   ]
  },
  {
   "cell_type": "code",
   "execution_count": 9,
   "metadata": {},
   "outputs": [
    {
     "data": {
      "text/plain": [
       "'{\\n  \"authenticated\": true, \\n  \"token\": \"your_token\"\\n}\\n'"
      ]
     },
     "execution_count": 9,
     "metadata": {},
     "output_type": "execute_result"
    }
   ],
   "source": [
    "# bearer authenticate token\n",
    "import requests\n",
    "auth_token = 'your_token'\n",
    "# if usint Bearer method, token sent should begin with Bearer \n",
    "head = {'Authorization': 'Bearer ' + auth_token, 'accept': 'application/json'}\n",
    "r = requests.get('http://httpbin.org/bearer', headers=head)\n",
    "r.text"
   ]
  },
  {
   "cell_type": "markdown",
   "metadata": {},
   "source": [
    "# <font color=\"red\">Python Data Structure</font>"
   ]
  },
  {
   "cell_type": "markdown",
   "metadata": {},
   "source": [
    "## Anagram Check\n",
    "\n",
    "### Problem\n",
    "\n",
    "Given two strings, check to see if they are anagrams. An anagram is when the two strings can be written using the exact same letters (so you can just rearrange the letters to get a different phrase or word). \n",
    "\n",
    "For example:\n",
    "\n",
    "    \"public relations\" is an anagram of \"crap built on lies.\"\n",
    "    \n",
    "    \"clint eastwood\" is an anagram of \"old west action\"\n",
    "    \n",
    "**Note: Ignore spaces and capitalization. So \"d go\" is an anagram of \"God\" and \"dog\" and \"o d g\".**\n",
    "\n",
    "### Xiao's Solution\n"
   ]
  },
  {
   "cell_type": "code",
   "execution_count": null,
   "metadata": {},
   "outputs": [],
   "source": [
    "def anagram(word01, word02):\n",
    "    # normalize the input\n",
    "    word01 = word01.replace(' ', '').lower()\n",
    "    word02 = word02.replace(' ', '').lower()\n",
    "    \n",
    "    if len(word01) != len(word02):\n",
    "        return False\n",
    "    \n",
    "    output_dict = {}\n",
    "    # count the appearance of each letter\n",
    "    for _ in word01:\n",
    "        if _ not in output_dict:\n",
    "            output_dict[_] = 1\n",
    "        else:\n",
    "            output_dict[_] += 1\n",
    "    # minus from the count of appearance\n",
    "    for _ in word02:\n",
    "        if _ not in output_dict:\n",
    "            output_dict[_] =1\n",
    "        else: \n",
    "            output_dict[_] -= 1\n",
    "    \n",
    "    # check the count is 0\n",
    "    for _ in output_dict.values():\n",
    "        if _ != 0:\n",
    "            return False\n",
    "    return True\n",
    "            "
   ]
  },
  {
   "cell_type": "code",
   "execution_count": null,
   "metadata": {},
   "outputs": [],
   "source": [
    "# test\n",
    "print(anagram(\"public relations\" , \"crap built on lies\"))\n",
    "print(anagram(\"clint eastwood\", \"old west action\"))"
   ]
  },
  {
   "cell_type": "markdown",
   "metadata": {},
   "source": [
    "## Array Pair Sum\n",
    "\n",
    "### Problem\n",
    "\n",
    "Given an integer array, output all the ** *unique* ** pairs that sum up to a specific value **k**.\n",
    "\n",
    "So the input:\n",
    "    \n",
    "    pair_sum([1,3,2,2],4)\n",
    "\n",
    "would return **2** pairs:\n",
    "\n",
    "     (1,3)\n",
    "     (2,2)\n",
    "\n",
    "**NOTE: FOR TESTING PURPOSES CHANGE YOUR FUNCTION SO IT OUTPUTS THE NUMBER OF PAIRS**\n",
    "\n",
    "### Xiao's Solution"
   ]
  },
  {
   "cell_type": "code",
   "execution_count": null,
   "metadata": {},
   "outputs": [],
   "source": [
    "def pair_sum(arr, sum):\n",
    "    visited_set = set()\n",
    "    output_set = set()\n",
    "    \n",
    "    for n in arr:\n",
    "        target = sum - n\n",
    "        if target not in visited_set:\n",
    "            visited_set.add(n)\n",
    "        else:\n",
    "            output_set.add((min(n, target), max(n, target)))\n",
    "    return output_set\n",
    "    \n",
    "    "
   ]
  },
  {
   "cell_type": "code",
   "execution_count": null,
   "metadata": {},
   "outputs": [],
   "source": [
    "# test\n",
    "pair_sum([1,3,2,2],4)"
   ]
  },
  {
   "cell_type": "markdown",
   "metadata": {},
   "source": [
    "### Dynamic Array Implementation\n",
    "* Dynamic Array is one type of array we can extend the capacity of array\n",
    "* ctypes is library we can use C object\n"
   ]
  },
  {
   "cell_type": "code",
   "execution_count": null,
   "metadata": {},
   "outputs": [],
   "source": [
    "import ctypes\n",
    "\n",
    "class DynamicArray:\n",
    "    '''\n",
    "    DYNAMIC ARRAY CLASS (Similar to Python List)\n",
    "    '''\n",
    "    def __init__(self):\n",
    "        self.point = -1 # -1 indicate no element in the array\n",
    "        self.capacity = 1 # init array with one element capacity\n",
    "        self.arr = self.make_array(self.capacity)\n",
    "        \n",
    "    def __len__(self):\n",
    "        \"\"\"\n",
    "        Return number of elements sorted in array\n",
    "        \"\"\"\n",
    "        return self.point + 1\n",
    "    \n",
    "    def __getitem__(self,k):\n",
    "        \"\"\"\n",
    "        Return element at index k\n",
    "        \"\"\"\n",
    "        if not 0 <= k <self.capacity:\n",
    "            return IndexError('Index is out of bounds!') # Check it k index is in bounds of array\n",
    "        \n",
    "        return self.arr[k] #Retrieve from array at index k\n",
    "        \n",
    "    def append(self, ele):\n",
    "        \"\"\"\n",
    "        Add element to end of the array\n",
    "        \"\"\"\n",
    "        if self.point == self.capacity - 1:\n",
    "            self._resize(2*self.capacity) #Double capacity if not enough room\n",
    "        \n",
    "        self.arr[self.point + 1] = ele #Set self.n index to element\n",
    "        self.point += 1\n",
    "        \n",
    "    def _resize(self,new_capability):\n",
    "        \"\"\"\n",
    "        Resize internal array to capacity new_cap\n",
    "        \"\"\"\n",
    "        \n",
    "        newArr = self.make_array(new_capability) # New bigger array\n",
    "        \n",
    "        for k in range(self.point + 1): # Reference all existing values\n",
    "            newArr[k] = self.arr[k]\n",
    "            \n",
    "        self.arr = newArr # Call A the new bigger array\n",
    "        self.capacity = new_capability # Reset the capacity\n",
    "        \n",
    "    def make_array(self, capacity):\n",
    "        \"\"\"\n",
    "        Returns a new array with new_cap capacity\n",
    "        \"\"\"\n",
    "        return (capacity * ctypes.py_object)()\n",
    "    \n",
    "    def __str__(self):\n",
    "        result = '['\n",
    "        for i in range(self.point):\n",
    "            result += str(self.arr[i]) + ', '\n",
    "        result += str(self.arr[self.point]) + ']'\n",
    "        return result "
   ]
  },
  {
   "cell_type": "code",
   "execution_count": null,
   "metadata": {},
   "outputs": [],
   "source": [
    "one = DynamicArray()\n",
    "one.append(1)\n",
    "one.append(2) # double the capacity\n",
    "one.append(3)\n",
    "one.append(4) # double the capacity\n",
    "one.append(5)\n",
    "print(one)\n",
    "print(one.capacity)"
   ]
  }
 ],
 "metadata": {
  "kernelspec": {
   "display_name": "Python 3",
   "language": "python",
   "name": "python3"
  },
  "language_info": {
   "codemirror_mode": {
    "name": "ipython",
    "version": 3
   },
   "file_extension": ".py",
   "mimetype": "text/x-python",
   "name": "python",
   "nbconvert_exporter": "python",
   "pygments_lexer": "ipython3",
   "version": "3.7.3"
  }
 },
 "nbformat": 4,
 "nbformat_minor": 4
}
