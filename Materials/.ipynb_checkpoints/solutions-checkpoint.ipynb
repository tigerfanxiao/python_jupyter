{
 "cells": [
  {
   "cell_type": "markdown",
   "metadata": {},
   "source": [
    "# Day1\n",
    "## Question 1"
   ]
  },
  {
   "cell_type": "markdown",
   "metadata": {},
   "source": [
    "### method 1\n",
    "use list compression"
   ]
  },
  {
   "cell_type": "code",
   "execution_count": 5,
   "metadata": {},
   "outputs": [
    {
     "name": "stdout",
     "output_type": "stream",
     "text": [
      "2009,2016,2023,2030,2044,2051,2058,2065,2079,2086,2093,2100,2114,2121,2128,2135,2149,2156,2163,2170,2184,2191,2198,2205,2219,2226,2233,2240,2254,2261,2268,2275,2289,2296,2303,2310,2324,2331,2338,2345,2359,2366,2373,2380,2394,2401,2408,2415,2429,2436,2443,2450,2464,2471,2478,2485,2499,2506,2513,2520,2534,2541,2548,2555,2569,2576,2583,2590,2604,2611,2618,2625,2639,2646,2653,2660,2674,2681,2688,2695,2709,2716,2723,2730,2744,2751,2758,2765,2779,2786,2793,2800,2814,2821,2828,2835,2849,2856,2863,2870,2884,2891,2898,2905,2919,2926,2933,2940,2954,2961,2968,2975,2989,2996,3003,3010,3024,3031,3038,3045,3059,3066,3073,3080,3094,3101,3108,3115,3129,3136,3143,3150,3164,3171,3178,3185,3199\n"
     ]
    }
   ],
   "source": [
    "result = [i for i in range(2000,3201) if i%7==0 and i%5!=2]\n",
    "# print(\",\".join(list(map(str, result))))\n",
    "# better way to print\n",
    "print(*result, sep=\",\")"
   ]
  },
  {
   "cell_type": "code",
   "execution_count": null,
   "metadata": {},
   "outputs": [],
   "source": [
    "## Question 2\n"
   ]
  },
  {
   "cell_type": "markdown",
   "metadata": {},
   "source": [
    "## Method 1 \n",
    "use recursion"
   ]
  },
  {
   "cell_type": "code",
   "execution_count": 34,
   "metadata": {},
   "outputs": [
    {
     "data": {
      "text/plain": [
       "40320"
      ]
     },
     "execution_count": 34,
     "metadata": {},
     "output_type": "execute_result"
    }
   ],
   "source": [
    "# recurtion mechod\n",
    "def factorial(x): \n",
    "    if x == 0:\n",
    "        return 1\n",
    "    return x * factorial(x - 1)\n",
    "\n",
    "factorial(8)"
   ]
  },
  {
   "cell_type": "markdown",
   "metadata": {},
   "source": [
    "## revise recursion with one line"
   ]
  },
  {
   "cell_type": "code",
   "execution_count": 58,
   "metadata": {},
   "outputs": [
    {
     "data": {
      "text/plain": [
       "40320"
      ]
     },
     "execution_count": 58,
     "metadata": {},
     "output_type": "execute_result"
    }
   ],
   "source": [
    "# use ternary expression \n",
    "def factorial02(n): return 1 if n == 1 else n * factorial02(n -1)\n",
    "factorial02(8)"
   ]
  },
  {
   "cell_type": "markdown",
   "metadata": {},
   "source": [
    "## Method 2\n",
    "use for loop"
   ]
  },
  {
   "cell_type": "code",
   "execution_count": 52,
   "metadata": {},
   "outputs": [
    {
     "data": {
      "text/plain": [
       "40320"
      ]
     },
     "execution_count": 52,
     "metadata": {},
     "output_type": "execute_result"
    }
   ],
   "source": [
    "# with for loop\n",
    "def factorial_01(x):\n",
    "    result = 1\n",
    "    for i in range(1, x+1):\n",
    "        result *= i\n",
    "    return result\n",
    "\n",
    "factorial_01(8)\n",
    "        "
   ]
  },
  {
   "cell_type": "markdown",
   "metadata": {},
   "source": [
    "## Method 3\n",
    "use reduce "
   ]
  },
  {
   "cell_type": "code",
   "execution_count": 6,
   "metadata": {},
   "outputs": [
    {
     "data": {
      "text/plain": [
       "40320"
      ]
     },
     "execution_count": 6,
     "metadata": {},
     "output_type": "execute_result"
    }
   ],
   "source": [
    "from functools import reduce\n",
    "def accumulator(acc, item):\n",
    "    return acc * item\n",
    "# 1 is the initial value for acc\n",
    "reduce(accumulator, list(range(1, 9)), 1)"
   ]
  },
  {
   "cell_type": "markdown",
   "metadata": {},
   "source": [
    "## Question 3\n",
    "### Method 1"
   ]
  },
  {
   "cell_type": "code",
   "execution_count": 61,
   "metadata": {},
   "outputs": [
    {
     "data": {
      "text/plain": [
       "{1: 1, 2: 4, 3: 9, 4: 16, 5: 25, 6: 36, 7: 49, 8: 64}"
      ]
     },
     "execution_count": 61,
     "metadata": {},
     "output_type": "execute_result"
    }
   ],
   "source": [
    "# use dictionary expression\n",
    "{i:i**2 for i in range(1,9)}"
   ]
  },
  {
   "cell_type": "markdown",
   "metadata": {},
   "source": [
    "### Method 2"
   ]
  },
  {
   "cell_type": "code",
   "execution_count": 63,
   "metadata": {},
   "outputs": [
    {
     "name": "stdout",
     "output_type": "stream",
     "text": [
      "{1: 1, 2: 4, 3: 9, 4: 16, 5: 25, 6: 36, 7: 49, 8: 64}\n"
     ]
    }
   ],
   "source": [
    "# define a dict\n",
    "my_dict = {}\n",
    "for i in range(1, 9):\n",
    "    my_dict[i] = i **2\n",
    "print(my_dict)"
   ]
  },
  {
   "cell_type": "code",
   "execution_count": null,
   "metadata": {},
   "outputs": [],
   "source": []
  },
  {
   "cell_type": "markdown",
   "metadata": {},
   "source": [
    "# Day 2\n",
    "## Question 4"
   ]
  },
  {
   "cell_type": "code",
   "execution_count": 66,
   "metadata": {},
   "outputs": [
    {
     "name": "stdout",
     "output_type": "stream",
     "text": [
      "['34', '67', '55', '33', '12', '98']\n"
     ]
    },
    {
     "data": {
      "text/plain": [
       "('34', '67', '55', '33', '12', '98')"
      ]
     },
     "execution_count": 66,
     "metadata": {},
     "output_type": "execute_result"
    }
   ],
   "source": [
    "num_string = '34,67,55,33,12,98'\n",
    "my_list = num_string.split(',')\n",
    "print(my_list)\n",
    "tuple(my_list)"
   ]
  },
  {
   "cell_type": "markdown",
   "metadata": {},
   "source": [
    "## Question 5"
   ]
  },
  {
   "cell_type": "code",
   "execution_count": 69,
   "metadata": {},
   "outputs": [
    {
     "name": "stdout",
     "output_type": "stream",
     "text": [
      "FANXIAO\n"
     ]
    }
   ],
   "source": [
    "class Get_string():\n",
    "    def __init__(self):\n",
    "        self.my_message = 'No info'\n",
    "\n",
    "    def getString(self):\n",
    "        self.my_message = input(\"Input your message: \")\n",
    "\n",
    "    def printString(self):\n",
    "        print(self.my_message.upper())\n",
    "\n",
    "result = Get_string()\n",
    "result.getString()\n",
    "result.printString()"
   ]
  },
  {
   "cell_type": "markdown",
   "metadata": {},
   "source": [
    "## Question 6\n",
    "### Method 1\n",
    "use map"
   ]
  },
  {
   "cell_type": "code",
   "execution_count": 77,
   "metadata": {},
   "outputs": [
    {
     "name": "stdout",
     "output_type": "stream",
     "text": [
      "18,22,24\n"
     ]
    }
   ],
   "source": [
    "import math\n",
    "c, h = 50, 30\n",
    "def calc(d):\n",
    "    return int(math.sqrt(2*c*d/h))\n",
    "input_string = '100,150,180'\n",
    "input_list = map(int, input_string.split(','))\n",
    "result = list(map(calc, input_list))\n",
    "print(\",\".join(map(str, result)))"
   ]
  },
  {
   "cell_type": "markdown",
   "metadata": {},
   "source": [
    "Without using map"
   ]
  },
  {
   "cell_type": "code",
   "execution_count": 10,
   "metadata": {},
   "outputs": [
    {
     "name": "stdout",
     "output_type": "stream",
     "text": [
      "[18.0, 22.0, 24.0]\n"
     ]
    }
   ],
   "source": [
    "import math\n",
    "print([round(math.sqrt(2*50*int(_)/30),0) for _ in '100,150,180'.split(',')], sep=\",\")"
   ]
  },
  {
   "cell_type": "markdown",
   "metadata": {},
   "source": [
    "## Question 7\n",
    "### Method 1"
   ]
  },
  {
   "cell_type": "code",
   "execution_count": 88,
   "metadata": {},
   "outputs": [
    {
     "name": "stdout",
     "output_type": "stream",
     "text": [
      "[[0, 0, 0, 0, 0], [0, 1, 2, 3, 4], [0, 2, 4, 6, 8]]\n"
     ]
    }
   ],
   "source": [
    "def make_matrix(n, m):\n",
    "    result = []\n",
    "    for i in range(n):\n",
    "        result.append([i * j for j in range(m)])\n",
    "    return result\n",
    "\n",
    "print(make_matrix(3, 5))"
   ]
  },
  {
   "cell_type": "markdown",
   "metadata": {},
   "source": [
    "### Method 2"
   ]
  },
  {
   "cell_type": "code",
   "execution_count": 91,
   "metadata": {},
   "outputs": [
    {
     "name": "stdout",
     "output_type": "stream",
     "text": [
      "[[0, 0, 0, 0, 0], [0, 1, 2, 3, 4], [0, 2, 4, 6, 8]]\n"
     ]
    }
   ],
   "source": [
    "def make_matrix01(n, m):\n",
    "    return [[i * j for j in range(m)] for i in range(n)]\n",
    "\n",
    "print(make_matrix01(3, 5))"
   ]
  },
  {
   "cell_type": "markdown",
   "metadata": {},
   "source": [
    "## Question 8"
   ]
  },
  {
   "cell_type": "code",
   "execution_count": 93,
   "metadata": {},
   "outputs": [
    {
     "data": {
      "text/plain": [
       "'bag,hello,without,world'"
      ]
     },
     "execution_count": 93,
     "metadata": {},
     "output_type": "execute_result"
    }
   ],
   "source": [
    "my_string = 'without,hello,bag,world'\n",
    "my_string_list = my_string.split(',')\n",
    "','.join(sorted(my_string_list))"
   ]
  },
  {
   "cell_type": "code",
   "execution_count": 20,
   "metadata": {},
   "outputs": [
    {
     "data": {
      "text/plain": [
       "['bag', 'hello', 'without', 'world']"
      ]
     },
     "execution_count": 20,
     "metadata": {},
     "output_type": "execute_result"
    }
   ],
   "source": [
    "my_string = 'without,hello,bag,world'\n",
    "my_list = my_string.split(',')\n",
    "my_list.sort()"
   ]
  },
  {
   "cell_type": "markdown",
   "metadata": {},
   "source": [
    "## Question 9"
   ]
  },
  {
   "cell_type": "code",
   "execution_count": 28,
   "metadata": {},
   "outputs": [
    {
     "name": "stdout",
     "output_type": "stream",
     "text": [
      "['Hello world', 'Practice makes perfect']\n"
     ]
    }
   ],
   "source": [
    "my_string = '''Hello world\n",
    "Practice makes perfect'''\n",
    "print(my_string.split('\\n'), sep=',')"
   ]
  },
  {
   "cell_type": "markdown",
   "metadata": {},
   "source": [
    "# Day 3\n",
    "## Question 10"
   ]
  },
  {
   "cell_type": "code",
   "execution_count": 97,
   "metadata": {},
   "outputs": [
    {
     "data": {
      "text/plain": [
       "['again', 'and', 'hello', 'makes', 'perfect', 'practice', 'world']"
      ]
     },
     "execution_count": 97,
     "metadata": {},
     "output_type": "execute_result"
    }
   ],
   "source": [
    "my_string = 'hello world and practice makes perfect and hello world again'.split()\n",
    "my_set = set(my_string)\n",
    "sorted(my_set)"
   ]
  },
  {
   "cell_type": "markdown",
   "metadata": {},
   "source": [
    "## Question 11"
   ]
  },
  {
   "cell_type": "markdown",
   "metadata": {},
   "source": [
    "## Method 1 \n",
    "int(str, base) change the str to the int of base"
   ]
  },
  {
   "cell_type": "code",
   "execution_count": 105,
   "metadata": {},
   "outputs": [
    {
     "name": "stdout",
     "output_type": "stream",
     "text": [
      "['1010']\n"
     ]
    }
   ],
   "source": [
    "my_list = '0100,0011,1010,1001'.split(',')\n",
    "my_list = [ i for i in my_list if int(i,2) % 5 == 0]\n",
    "print(my_list)"
   ]
  },
  {
   "cell_type": "markdown",
   "metadata": {},
   "source": [
    "## Question 12\n",
    "### Method 1"
   ]
  },
  {
   "cell_type": "code",
   "execution_count": 115,
   "metadata": {},
   "outputs": [],
   "source": [
    "def even(n):\n",
    "    four_digit = str(n)\n",
    "    for char in four_digit:\n",
    "        if  int(char) %2 !=0:\n",
    "            return False\n",
    "    return True\n",
    "\n",
    "result = [i for i in range(2000, 3001) if even(i)]\n"
   ]
  },
  {
   "cell_type": "markdown",
   "metadata": {},
   "source": [
    "### Method 2\n",
    "use all function, return True only when all the element in the list is True"
   ]
  },
  {
   "cell_type": "code",
   "execution_count": 123,
   "metadata": {},
   "outputs": [],
   "source": [
    "num_list = [str(i) for i in range(2000,3001)]\n",
    "\n",
    "def check(ele):\n",
    "    return all(ord(digit)%2 == 0 for digit in ele)\n",
    "\n",
    "result = list(filter(check, num_list))"
   ]
  },
  {
   "cell_type": "markdown",
   "metadata": {},
   "source": [
    "### revise method 2 with lambda function"
   ]
  },
  {
   "cell_type": "code",
   "execution_count": 126,
   "metadata": {},
   "outputs": [],
   "source": [
    "num_list = [str(i) for i in range(2000,3001)]\n",
    "result = list(filter(lambda ele: all(ord(digit)%2 == 0 for digit in ele), num_list))"
   ]
  },
  {
   "cell_type": "markdown",
   "metadata": {},
   "source": [
    "## Question 13"
   ]
  },
  {
   "cell_type": "markdown",
   "metadata": {},
   "source": [
    "## Method 1\n",
    "`isalpha()`, `isdigit()`"
   ]
  },
  {
   "cell_type": "code",
   "execution_count": 2,
   "metadata": {},
   "outputs": [
    {
     "name": "stdout",
     "output_type": "stream",
     "text": [
      "LETTERS: 10\n",
      "DIGITS: 3\n"
     ]
    }
   ],
   "source": [
    "my_string = 'hello world! 123'\n",
    "num_char = 0\n",
    "num_digit = 0\n",
    "for char in my_string:\n",
    "    if char.isalpha():\n",
    "        num_char+=1\n",
    "    if char.isdigit():\n",
    "        num_digit += 1\n",
    "print(f'LETTERS: {num_char}\\nDIGITS: {num_digit}')"
   ]
  },
  {
   "cell_type": "markdown",
   "metadata": {},
   "source": [
    "### revise method 1\n",
    "`True + True = 2`"
   ]
  },
  {
   "cell_type": "code",
   "execution_count": 16,
   "metadata": {},
   "outputs": [
    {
     "name": "stdout",
     "output_type": "stream",
     "text": [
      "LETTERS: 10\n",
      "DIGITS: 3\n"
     ]
    }
   ],
   "source": [
    "my_string = 'hello world! 123'\n",
    "num_char, num_digit = 0, 0\n",
    "for char in my_string:\n",
    "    num_char += char.isalpha()\n",
    "    num_digit += char.isdigit()\n",
    "print(f'LETTERS: {num_char}\\nDIGITS: {num_digit}')"
   ]
  },
  {
   "cell_type": "markdown",
   "metadata": {},
   "source": [
    "## Method 2\n",
    "### use regex"
   ]
  },
  {
   "cell_type": "code",
   "execution_count": 5,
   "metadata": {},
   "outputs": [
    {
     "name": "stdout",
     "output_type": "stream",
     "text": [
      "LETTERS: 10\n",
      "DIGITS: 3\n"
     ]
    }
   ],
   "source": [
    "## Method 2\n",
    "import re\n",
    "my_string = 'hello world! 123'\n",
    "\n",
    "pattern_digit = re.compile('[0-9]')\n",
    "pattern_char = re.compile('[a-zA-Z]')\n",
    "num_char = len(pattern_char.findall(my_string))\n",
    "num_digit = len(pattern_digit.findall(my_string))\n",
    "print(f'LETTERS: {num_char}\\nDIGITS: {num_digit}')"
   ]
  },
  {
   "cell_type": "markdown",
   "metadata": {},
   "source": [
    "## Method 3\n",
    "compare char, asii order is like A-Zz-z"
   ]
  },
  {
   "cell_type": "code",
   "execution_count": 15,
   "metadata": {},
   "outputs": [
    {
     "name": "stdout",
     "output_type": "stream",
     "text": [
      "LETTERS: 10\n",
      "DIGITS: 3\n"
     ]
    }
   ],
   "source": [
    "my_string = 'hello world! 123'\n",
    "num_char = 0\n",
    "num_digit = 0\n",
    "for char in my_string:\n",
    "    if 'A' <= char and char <= 'z':\n",
    "        num_char += 1\n",
    "    if '0' <= char <= '9':\n",
    "        num_digit += 1\n",
    "print(f'LETTERS: {num_char}\\nDIGITS: {num_digit}')"
   ]
  },
  {
   "cell_type": "markdown",
   "metadata": {},
   "source": [
    "# Day 4\n",
    "## Question 14\n",
    "### Method 1\n",
    "`isupper()`, `islower()`"
   ]
  },
  {
   "cell_type": "code",
   "execution_count": 24,
   "metadata": {},
   "outputs": [
    {
     "name": "stdout",
     "output_type": "stream",
     "text": [
      "1 9\n"
     ]
    }
   ],
   "source": [
    "my_string = 'Hello world!'\n",
    "num_upper, num_lower = 0, 0\n",
    "for char in my_string:\n",
    "    num_upper += 1 if char.isupper() else 0\n",
    "    num_lower +=1 if char.islower() else 0\n",
    "print(num_upper, num_lower)\n"
   ]
  },
  {
   "cell_type": "code",
   "execution_count": 23,
   "metadata": {},
   "outputs": [
    {
     "data": {
      "text/plain": [
       "False"
      ]
     },
     "execution_count": 23,
     "metadata": {},
     "output_type": "execute_result"
    }
   ],
   "source": []
  },
  {
   "cell_type": "code",
   "execution_count": null,
   "metadata": {},
   "outputs": [],
   "source": []
  }
 ],
 "metadata": {
  "file_extension": ".py",
  "kernelspec": {
   "display_name": "Python 3.8.3 64-bit",
   "language": "python",
   "name": "python38364bit51df7958d433420c82d5985973c1ae91"
  },
  "language_info": {
   "codemirror_mode": {
    "name": "ipython",
    "version": 3
   },
   "file_extension": ".py",
   "mimetype": "text/x-python",
   "name": "python",
   "nbconvert_exporter": "python",
   "pygments_lexer": "ipython3",
   "version": "3.8.3"
  },
  "mimetype": "text/x-python",
  "name": "python",
  "npconvert_exporter": "python",
  "pygments_lexer": "ipython3",
  "version": 3
 },
 "nbformat": 4,
 "nbformat_minor": 2
}
