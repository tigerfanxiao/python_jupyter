{
 "cells": [
  {
   "cell_type": "markdown",
   "metadata": {},
   "source": [
    "### Triange Quest 2\n",
    "https://www.hackerrank.com/challenges/triangle-quest-2/problem\n",
    "<br />**OUTPUT**<br />\n",
    "1<br />\n",
    "121<br />\n",
    "12321<br />\n",
    "1234321<br />\n",
    "123454321<br />\n",
    "\n",
    "The problem request \n",
    "1. use only one  `for` loop \n",
    "2. can not use `str` function"
   ]
  },
  {
   "cell_type": "markdown",
   "metadata": {},
   "source": [
    "As $111^2 = 12321$, the question has transformed to how to get $1, 11, 111, 1111$"
   ]
  },
  {
   "cell_type": "markdown",
   "metadata": {},
   "source": [
    "#### Submission 1\n",
    "Obtain $111 = 10^0 + 10^1 + 10^2$. I have to use one `for` loop"
   ]
  },
  {
   "cell_type": "code",
   "execution_count": 18,
   "metadata": {},
   "outputs": [
    {
     "name": "stdin",
     "output_type": "stream",
     "text": [
      "NUMBER OF DIGIT OF THE LAST NUMBER 11\n"
     ]
    },
    {
     "name": "stdout",
     "output_type": "stream",
     "text": [
      "1\n",
      "121\n",
      "12321\n",
      "1234321\n",
      "123454321\n",
      "12345654321\n",
      "1234567654321\n",
      "123456787654321\n",
      "12345678987654321\n",
      "1234567900987654321\n",
      "123456790120987654321\n"
     ]
    }
   ],
   "source": [
    "length_of_number= int(input(\"NUMBER OF DIGIT OF THE LAST NUMBER\"))\n",
    "for n in range(1, length_of_number+1):\n",
    "    print(sum([10**i for i in range(n)])**2)"
   ]
  },
  {
   "cell_type": "markdown",
   "metadata": {},
   "source": [
    "#### Submission 2\n",
    "Obtain $111 = (10^3-1) / 9$"
   ]
  },
  {
   "cell_type": "code",
   "execution_count": 10,
   "metadata": {},
   "outputs": [
    {
     "name": "stdout",
     "output_type": "stream",
     "text": [
      "1\n",
      "121\n",
      "12321\n",
      "1234321\n",
      "123454321\n"
     ]
    }
   ],
   "source": [
    "for i in range(1, 5+1):\n",
    "    print(((10**i-1)//9)**2)"
   ]
  },
  {
   "cell_type": "markdown",
   "metadata": {},
   "source": [
    "#### Submission 3\n",
    "$12321 = 1 * 10^5 + 2 * 10^4 + 3 * 10^3 + 2 * 10 + 1$"
   ]
  },
  {
   "cell_type": "code",
   "execution_count": 23,
   "metadata": {},
   "outputs": [
    {
     "name": "stdin",
     "output_type": "stream",
     "text": [
      "NUMBER OF DIGIT OF THE LAST NUMBER 5\n"
     ]
    },
    {
     "name": "stdout",
     "output_type": "stream",
     "text": [
      "1\n",
      "121\n",
      "12321\n",
      "1234321\n",
      "123454321\n"
     ]
    }
   ],
   "source": [
    "length_of_number= int(input(\"NUMBER OF DIGIT OF THE LAST NUMBER\"))\n",
    "for i in range(1,length_of_number+1):\n",
    "    print(sum(map(lambda j: j * (10**(i + (i - j - 1))), range(1, i + 1))) \n",
    "          + sum(map(lambda j: j * (10**(j - 1)), range(i - 1, 0, -1))))"
   ]
  },
  {
   "cell_type": "code",
   "execution_count": 4,
   "metadata": {},
   "outputs": [
    {
     "data": {
      "text/plain": [
       "123450000"
      ]
     },
     "execution_count": 4,
     "metadata": {},
     "output_type": "execute_result"
    }
   ],
   "source": [
    "i = 5\n",
    "sum(map(lambda j: j * (10**(i + (i - j - 1))), range(1, i + 1)))"
   ]
  },
  {
   "cell_type": "code",
   "execution_count": 11,
   "metadata": {},
   "outputs": [
    {
     "data": {
      "text/plain": [
       "4321"
      ]
     },
     "execution_count": 11,
     "metadata": {},
     "output_type": "execute_result"
    }
   ],
   "source": [
    "sum(map(lambda j: j * (10**(j-1)), range(i-1, 0, -1)))"
   ]
  },
  {
   "cell_type": "code",
   "execution_count": null,
   "metadata": {},
   "outputs": [],
   "source": []
  },
  {
   "cell_type": "code",
   "execution_count": null,
   "metadata": {},
   "outputs": [],
   "source": []
  }
 ],
 "metadata": {
  "kernelspec": {
   "display_name": "Python 3",
   "language": "python",
   "name": "python3"
  },
  "language_info": {
   "codemirror_mode": {
    "name": "ipython",
    "version": 3
   },
   "file_extension": ".py",
   "mimetype": "text/x-python",
   "name": "python",
   "nbconvert_exporter": "python",
   "pygments_lexer": "ipython3",
   "version": "3.8.1-final"
  }
 },
 "nbformat": 4,
 "nbformat_minor": 4
}